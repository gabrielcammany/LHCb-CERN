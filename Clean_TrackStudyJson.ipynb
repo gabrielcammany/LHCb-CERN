{
 "cells": [
  {
   "cell_type": "code",
   "execution_count": 2,
   "metadata": {},
   "outputs": [],
   "source": [
    "import numpy as np\n",
    "import ijson\n",
    "import pandas as pd"
   ]
  },
  {
   "cell_type": "code",
   "execution_count": 11,
   "metadata": {},
   "outputs": [],
   "source": [
    "with open('DataSets/SciFi_200000_Temporal_TrackStudy.json', 'a') as newJsonFile:\n",
    "    newJsonFile.write('[')\n",
    "    with open('DataSets/SciFi_200000_TrackStudy.json', 'r') as f:\n",
    "        event = 0\n",
    "        for item in ijson.items(f, \"item\"):\n",
    "            df_from_json = pd.DataFrame([item])[['event','MCParticleID','MC_Hit_X','MC_Hit_Y','MC_Hit_Z','PrHit_LHCbID','PrHit_Xat0','PrHit_Zat0','PrHit_isX','PrHit_planeCode','PrHit_w2','PrHit_yMax','PrHit_yMin','PrHit_zone']]\n",
    "            newJsonFile.write(df_from_json.to_json(orient='records')[1:-1] + ',\\n')\n",
    "    newJsonFile.write(']')"
   ]
  },
  {
   "cell_type": "code",
   "execution_count": null,
   "metadata": {},
   "outputs": [],
   "source": []
  }
 ],
 "metadata": {
  "kernelspec": {
   "display_name": "venv",
   "language": "python",
   "name": "venv"
  },
  "language_info": {
   "codemirror_mode": {
    "name": "ipython",
    "version": 3
   },
   "file_extension": ".py",
   "mimetype": "text/x-python",
   "name": "python",
   "nbconvert_exporter": "python",
   "pygments_lexer": "ipython3",
   "version": "3.7.2"
  }
 },
 "nbformat": 4,
 "nbformat_minor": 2
}
