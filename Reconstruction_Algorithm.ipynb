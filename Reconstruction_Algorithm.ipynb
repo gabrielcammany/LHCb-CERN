{
 "cells": [
  {
   "cell_type": "code",
   "execution_count": null,
   "metadata": {},
   "outputs": [],
   "source": [
    "import numpy as np\n",
    "import pandas as pd\n",
    "import matplotlib.pyplot as plt\n",
    "from mpl_toolkits.mplot3d import Axes3D"
   ]
  },
  {
   "cell_type": "code",
   "execution_count": null,
   "metadata": {},
   "outputs": [],
   "source": [
    "mc_data = pd.read_json('DataSets/SciFi_200000_Clean_TrackStudy.json')\n",
    "real_data = pd.read_json('DataSets/SciFi_200000_AllHits.json')"
   ]
  },
  {
   "cell_type": "code",
   "execution_count": null,
   "metadata": {},
   "outputs": [],
   "source": [
    "###### Data columns\n",
    "i = 0\n",
    "for val in mc_data.columns:\n",
    "    print(i,\" \",val)\n",
    "    i = i + 1\n",
    "# Data columns\n",
    "i = 0\n",
    "for val in real_data.columns:\n",
    "    print(i,\" \",val)\n",
    "    i = i + 1"
   ]
  },
  {
   "cell_type": "code",
   "execution_count": null,
   "metadata": {},
   "outputs": [],
   "source": [
    "mc_hits = mc_data.values\n",
    "real_hits = real_data.values"
   ]
  },
  {
   "cell_type": "code",
   "execution_count": null,
   "metadata": {},
   "outputs": [],
   "source": [
    "# Create X and Y matrices for the future model\n",
    "length = mc_hits.shape[0]\n",
    "\n",
    "X = np.zeros((length, 1))\n",
    "Y = np.zeros((length, 11))\n",
    "\n",
    "i = 0\n",
    "empty_particles = []\n",
    "for i in range(0,length):\n",
    "    \n",
    "    if ((len(mc_hits[i][5]) > 1)):\n",
    "        # Get the first element of the hit, in the first layer\n",
    "        X[i] = mc_hits[i][5][0]\n",
    "        \n",
    "        # Get only the first element if there are several repeated with small differences\n",
    "        j = 0\n",
    "        extra_hits = mc_hits[i][5]\n",
    "        try:\n",
    "            while (np.abs(extra_hits[j] - extra_hits[j + 1]) < 5):\n",
    "                j += 1\n",
    "            j += 1\n",
    "        except IndexError as e:\n",
    "            X[i] = np.zeros(1)\n",
    "            continue\n",
    "        \n",
    "        # Get all hits from the given particle which are not located in the first layer\n",
    "        extra_hits = mc_hits[i][5][j:]\n",
    "        actual_pos = 0\n",
    "        j = 0\n",
    "        try:\n",
    "            while (j < len(extra_hits)):\n",
    "                Y[i][actual_pos] = extra_hits[j]\n",
    "                # Same as above, get only the first element in case there are several hits with similar X position\n",
    "                while (j + 1 < len(extra_hits) and np.abs(extra_hits[j] - extra_hits[j + 1]) < 3):\n",
    "                    j += 1\n",
    "                actual_pos += 1\n",
    "                j += 1\n",
    "        except IndexError:\n",
    "            X[i] = np.zeros(1)\n",
    "            Y[i] = np.zeros(11)\n",
    "            \n",
    "# Removing empty values, as some hits in the mc_hits dataset do not contain readings (PrHit...)\n",
    "Y = Y[Y[:,0] != 0]\n",
    "X = X[X[:,0] != 0]"
   ]
  },
  {
   "cell_type": "code",
   "execution_count": null,
   "metadata": {},
   "outputs": [],
   "source": [
    "from keras.models import Sequential\n",
    "from keras.layers import Dense, Dropout, Activation\n",
    "from keras.optimizers import SGD\n",
    "from keras import metrics\n",
    "\n",
    "model = Sequential()\n",
    "model.add(Dense(12, input_dim=1, kernel_initializer='normal', activation='linear'))\n",
    "model.add(Dense(8, activation='relu'))\n",
    "model.add(Dense(11, activation='linear'))\n",
    "model.summary()\n",
    "model.compile(loss='mse', optimizer='adam', metrics=['mse','mae'])\n",
    "history = model.fit(X, Y, epochs=150, batch_size=50,  verbose=1, validation_split=0.2)"
   ]
  },
  {
   "cell_type": "code",
   "execution_count": null,
   "metadata": {},
   "outputs": [],
   "source": [
    "plt.plot(history.history['loss'])\n",
    "plt.plot(history.history['val_loss'])\n",
    "plt.title('model loss')\n",
    "plt.ylabel('loss')\n",
    "plt.xlabel('epoch')\n",
    "plt.legend(['train', 'validation'], loc='upper left')\n",
    "plt.show()"
   ]
  },
  {
   "cell_type": "code",
   "execution_count": null,
   "metadata": {},
   "outputs": [],
   "source": [
    "def showPredictedTrack(X, Y):\n",
    "    fig = plt.figure(figsize=(19, 8))\n",
    "    ax = fig.add_subplot(111)\n",
    "    ax.plot(X, Y)       \n",
    "    ax.grid()\n",
    "    plt.show()"
   ]
  }
 ],
 "metadata": {
  "kernelspec": {
   "display_name": "venv",
   "language": "python",
   "name": "venv"
  },
  "language_info": {
   "codemirror_mode": {
    "name": "ipython",
    "version": 3
   },
   "file_extension": ".py",
   "mimetype": "text/x-python",
   "name": "python",
   "nbconvert_exporter": "python",
   "pygments_lexer": "ipython3",
   "version": "3.7.3"
  }
 },
 "nbformat": 4,
 "nbformat_minor": 2
}
