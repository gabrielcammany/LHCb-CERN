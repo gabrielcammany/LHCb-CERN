{
 "cells": [
  {
   "cell_type": "code",
   "execution_count": null,
   "metadata": {},
   "outputs": [],
   "source": [
    "import numpy as np\n",
    "import pandas as pd\n",
    "import matplotlib.pyplot as plt\n",
    "from mpl_toolkits.mplot3d import Axes3D"
   ]
  },
  {
   "cell_type": "code",
   "execution_count": null,
   "metadata": {},
   "outputs": [],
   "source": [
    "mc_data = pd.read_json('DataSets/SciFi_200000_Clean_TrackStudy.json')\n",
    "real_data = pd.read_json('DataSets/SciFi_200000_AllHits.json')"
   ]
  },
  {
   "cell_type": "code",
   "execution_count": null,
   "metadata": {
    "scrolled": true
   },
   "outputs": [],
   "source": [
    "###### Data columns\n",
    "i = 0\n",
    "print('\\n Clean TrackStudy Dataset:\\n')\n",
    "for val in mc_data.columns:\n",
    "    print(i,\" \",val)\n",
    "    i = i + 1\n",
    "print('\\n AllHits Dataset:\\n')\n",
    "# Data columns\n",
    "i = 0\n",
    "for val in real_data.columns:\n",
    "    print(i,\" \",val)\n",
    "    i = i + 1"
   ]
  },
  {
   "cell_type": "code",
   "execution_count": null,
   "metadata": {},
   "outputs": [],
   "source": [
    "mc_hits = mc_data.values\n",
    "real_hits = real_data.values"
   ]
  },
  {
   "cell_type": "code",
   "execution_count": null,
   "metadata": {},
   "outputs": [],
   "source": [
    "# Create X and Y matrices for the future model\n",
    "length = mc_hits.shape[0]\n",
    "\n",
    "X = np.zeros((length, 1))\n",
    "Y = np.zeros((length, 11))\n",
    "\n",
    "i = 0\n",
    "empty_particles = []\n",
    "for i in range(0,length):\n",
    "    \n",
    "    if ((len(mc_hits[i][5]) > 1)):\n",
    "        # Get the first element of the hit, in the first layer\n",
    "        X[i] = mc_hits[i][5][0]\n",
    "        \n",
    "        # Get only the first element if there are several repeated with small differences\n",
    "        j = 0\n",
    "        extra_hits = mc_hits[i][5]\n",
    "        try:\n",
    "            while (np.abs(extra_hits[j] - extra_hits[j + 1]) < 5):\n",
    "                j += 1\n",
    "            j += 1\n",
    "        except IndexError as e:\n",
    "            X[i] = np.zeros(1)\n",
    "            continue\n",
    "        \n",
    "        # Get all hits from the given particle which are not located in the first layer\n",
    "        extra_hits = mc_hits[i][5][j:]\n",
    "        actual_pos = 0\n",
    "        j = 0\n",
    "        try:\n",
    "            while (j < len(extra_hits)):\n",
    "                Y[i][actual_pos] = extra_hits[j]\n",
    "                # Same as above, get only the first element in case there are several hits with similar X position\n",
    "                while (j + 1 < len(extra_hits) and np.abs(extra_hits[j] - extra_hits[j + 1]) < 3):\n",
    "                    j += 1\n",
    "                actual_pos += 1\n",
    "                j += 1\n",
    "        except IndexError:\n",
    "            X[i] = np.zeros(1)\n",
    "            Y[i] = np.zeros(11)"
   ]
  },
  {
   "cell_type": "code",
   "execution_count": null,
   "metadata": {},
   "outputs": [],
   "source": [
    "# Removing empty values, as some hits in the mc_hits dataset do not contain readings (PrHit...)\n",
    "Y = Y[Y[:,0] != 0]\n",
    "X = X[X[:,0] != 0]"
   ]
  },
  {
   "cell_type": "code",
   "execution_count": null,
   "metadata": {},
   "outputs": [],
   "source": [
    "def showTracksMCHits(electrons, elev, angle, max):\n",
    "    \n",
    "    fig = plt.figure(figsize=(19, 8))\n",
    "    ax = fig.add_subplot(111, projection='3d')\n",
    "    \n",
    "    i = 0\n",
    "    # Iterate through all the particles keys obtained \n",
    "    for particle in mc_hits:\n",
    "        \n",
    "        if (electrons & (particle[0] == 11) & (particle[12] == 0)):\n",
    "            continue\n",
    "        \n",
    "        X = np.array(particle[1]).astype(float)\n",
    "        Y = np.array(particle[2]).astype(float)\n",
    "        Z = np.array(particle[3]).astype(float)\n",
    "        \n",
    "        ax.plot(X, Z, Y)\n",
    "            \n",
    "        i = i + 1\n",
    "        if i == max:\n",
    "            break\n",
    "            \n",
    "    ax.view_init(elev=elev, azim=angle)\n",
    "    ax.grid()\n",
    "    plt.show()"
   ]
  },
  {
   "cell_type": "code",
   "execution_count": null,
   "metadata": {},
   "outputs": [],
   "source": [
    "print(X.shape)\n",
    "print(Y.shape)"
   ]
  },
  {
   "cell_type": "code",
   "execution_count": null,
   "metadata": {},
   "outputs": [],
   "source": [
    "def showPredictedTracks(min, max):\n",
    "    \n",
    "    fig = plt.figure(figsize=(19, 8))\n",
    "    ax = fig.add_subplot(111)\n",
    "    \n",
    "    # Iterate through all the particles keys obtained \n",
    "    for i in range(min,max):\n",
    "        X = np.array(mc_hits[i][5]).astype(float)\n",
    "        Y = np.array(mc_hits[i][6]).astype(float)\n",
    "        ax.plot(X, Y)\n",
    "            \n",
    "    ax.grid()\n",
    "    plt.show()"
   ]
  },
  {
   "cell_type": "code",
   "execution_count": null,
   "metadata": {},
   "outputs": [],
   "source": [
    "def removeSimilar(array, max):\n",
    "    clean = np.zeros(max)\n",
    "    j = 0\n",
    "    actual_pos = 0\n",
    "    while (j < len(array)):\n",
    "        clean[actual_pos] = array[j]\n",
    "        while (j + 1 < len(array) and np.abs(array[j] - array[j + 1]) < 3):\n",
    "            j += 1\n",
    "        actual_pos += 1\n",
    "        j += 1\n",
    "    return clean"
   ]
  },
  {
   "cell_type": "code",
   "execution_count": null,
   "metadata": {},
   "outputs": [],
   "source": [
    "showTracksMCHits(True, 45,20,1000)"
   ]
  },
  {
   "cell_type": "code",
   "execution_count": null,
   "metadata": {},
   "outputs": [],
   "source": [
    "showPredictedTracks(0,100)"
   ]
  },
  {
   "cell_type": "code",
   "execution_count": null,
   "metadata": {},
   "outputs": [],
   "source": [
    "def showPredictedAndReal(min, max):\n",
    "    \n",
    "    if min < 0:\n",
    "        min = max - 1\n",
    "    \n",
    "    fig = plt.figure(figsize=(19, 8))\n",
    "    ax = fig.add_subplot(111)\n",
    "    \n",
    "    # Iterate through all the particles keys obtained \n",
    "    for i in range(min,max):\n",
    "        X = np.array(mc_hits[i][1]).astype(float)\n",
    "        Y = np.array(mc_hits[i][3]).astype(float)\n",
    "        ax.plot(X, Y)\n",
    "        textPos_X = X[int(len(X) / 2)]\n",
    "        textPos_Y = Y[int(len(Y) / 2)]\n",
    "        X = np.array(mc_hits[i][5]).astype(float)\n",
    "        Y = np.array(mc_hits[i][6]).astype(float)\n",
    "        ax.plot(X, Y)\n",
    "        if (len(X) == 0):\n",
    "            ax.text(textPos_X + 10, textPos_Y, 'No prediction', fontsize=12)\n",
    "            \n",
    "    ax.grid()\n",
    "    plt.show()"
   ]
  },
  {
   "cell_type": "code",
   "execution_count": null,
   "metadata": {},
   "outputs": [],
   "source": [
    "showPredictedAndReal(0,10)"
   ]
  },
  {
   "cell_type": "code",
   "execution_count": null,
   "metadata": {},
   "outputs": [],
   "source": [
    "listIds = []\n",
    "for hit in mc_hits:\n",
    "    for ids in hit[4]:\n",
    "        listIds.append(ids)"
   ]
  },
  {
   "cell_type": "code",
   "execution_count": null,
   "metadata": {},
   "outputs": [],
   "source": [
    "print(\"Length of Ids in All MCHits in TrackStudy dataset: %d\" % len(listIds))\n",
    "print(\"Length of unique Ids: %d\" % len(np.unique(listIds)))"
   ]
  },
  {
   "cell_type": "code",
   "execution_count": null,
   "metadata": {},
   "outputs": [],
   "source": [
    "print(\"Min: %d; Max: %d\" % (min(listIds), max(listIds)))        \n",
    "print(\"Available Ids %d\" % (max(listIds) - min(listIds)))"
   ]
  },
  {
   "cell_type": "code",
   "execution_count": null,
   "metadata": {},
   "outputs": [],
   "source": [
    "events = np.unique(real_hits[:,0])\n",
    "hitsByEvent = []\n",
    "for event in events:\n",
    "    hitsByEvent.append(real_hits[real_hits[:,0] == event])"
   ]
  },
  {
   "cell_type": "code",
   "execution_count": null,
   "metadata": {},
   "outputs": [],
   "source": [
    "repeated_Ids = []\n",
    "for i in range(0,10000):\n",
    "    group = real_hits[real_hits[:,1] == real_hits[i][1]]\n",
    "    if (len(group) > 1):\n",
    "        for event in group:\n",
    "            repeated_Ids.append(event)\n",
    "repeated_Ids = np.array(repeated_Ids)"
   ]
  },
  {
   "cell_type": "code",
   "execution_count": null,
   "metadata": {},
   "outputs": [],
   "source": [
    "for event in hitsByEvent:\n",
    "    print(len(event[:,1]))\n",
    "    print(len(np.unique(event[:,1])))"
   ]
  },
  {
   "cell_type": "code",
   "execution_count": null,
   "metadata": {},
   "outputs": [],
   "source": [
    "sum = 0\n",
    "for hit in mc_hits:\n",
    "    sum += len(hit[4])\n",
    "sum"
   ]
  },
  {
   "cell_type": "code",
   "execution_count": null,
   "metadata": {},
   "outputs": [],
   "source": []
  }
 ],
 "metadata": {
  "kernelspec": {
   "display_name": "venv",
   "language": "python",
   "name": "venv"
  },
  "language_info": {
   "codemirror_mode": {
    "name": "ipython",
    "version": 3
   },
   "file_extension": ".py",
   "mimetype": "text/x-python",
   "name": "python",
   "nbconvert_exporter": "python",
   "pygments_lexer": "ipython3",
   "version": "3.7.3"
  }
 },
 "nbformat": 4,
 "nbformat_minor": 2
}
