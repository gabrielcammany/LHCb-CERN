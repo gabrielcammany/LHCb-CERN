{
 "cells": [
  {
   "cell_type": "code",
   "execution_count": null,
   "metadata": {},
   "outputs": [],
   "source": [
    "import numpy as np\n",
    "import ijson\n",
    "import matplotlib.pyplot as plt\n",
    "from mpl_toolkits.mplot3d import Axes3D  # noqa: F401 unused import\n",
    "from matplotlib import cm\n",
    "import pandas as pd"
   ]
  },
  {
   "cell_type": "code",
   "execution_count": null,
   "metadata": {},
   "outputs": [],
   "source": [
    "with open('DataSets/SciFi_200000_TrackStudy.json', 'r') as f:\n",
    "    event = 0\n",
    "    eventList = []\n",
    "    for item in ijson.items(f, \"item\"):\n",
    "        eventList.append(item)\n",
    "        event = event + 1\n",
    "        if (event == 1000):\n",
    "            break\n",
    "df_from_json = pd.DataFrame(eventList)"
   ]
  },
  {
   "cell_type": "code",
   "execution_count": null,
   "metadata": {},
   "outputs": [],
   "source": [
    "df_from_json[['MCHit_p', 'MC_Hit_P', 'MC_pz', 'isLong_more5','MC_Hit_Particle_Key']]"
   ]
  },
  {
   "cell_type": "code",
   "execution_count": null,
   "metadata": {},
   "outputs": [],
   "source": [
    "# Data columns\n",
    "i = 0\n",
    "for val in df_from_json.columns:\n",
    "    print(i,\" \",val)\n",
    "    i = i + 1"
   ]
  },
  {
   "cell_type": "code",
   "execution_count": null,
   "metadata": {},
   "outputs": [],
   "source": [
    "# Get values, thus converting it to arrays\n",
    "hits = df_from_json.values"
   ]
  },
  {
   "cell_type": "code",
   "execution_count": null,
   "metadata": {},
   "outputs": [],
   "source": [
    "np.equal(hits[500:800,47])"
   ]
  },
  {
   "cell_type": "code",
   "execution_count": null,
   "metadata": {},
   "outputs": [],
   "source": [
    "import itertools\n",
    "\n",
    "def showTracksMCHits(hitSet, elev, angle, max):\n",
    "    \n",
    "    fig = plt.figure(figsize=(19, 8))\n",
    "    ax = fig.add_subplot(111, projection='3d')\n",
    "    \n",
    "    i = 0\n",
    "    # Iterate through all the particles keys obtained \n",
    "    for particle in hitSet:\n",
    "        \n",
    "        X = np.array(particle[50]).astype(float)\n",
    "        Y = np.array(particle[51]).astype(float)\n",
    "        Z = np.array(particle[52]).astype(float)\n",
    "        \n",
    "        ax.plot(X, Z, Y)\n",
    "            \n",
    "        i = i + 1\n",
    "        if i == max:\n",
    "            break\n",
    "            \n",
    "    ax.view_init(elev=elev, azim=angle)\n",
    "    ax.grid()\n",
    "    plt.show()"
   ]
  },
  {
   "cell_type": "code",
   "execution_count": null,
   "metadata": {},
   "outputs": [],
   "source": [
    "showTracksMCHits(hits, 45, 30, 1000)"
   ]
  },
  {
   "cell_type": "code",
   "execution_count": null,
   "metadata": {},
   "outputs": [],
   "source": []
  }
 ],
 "metadata": {
  "kernelspec": {
   "display_name": "Python 3",
   "language": "python",
   "name": "python3"
  },
  "language_info": {
   "codemirror_mode": {
    "name": "ipython",
    "version": 3
   },
   "file_extension": ".py",
   "mimetype": "text/x-python",
   "name": "python",
   "nbconvert_exporter": "python",
   "pygments_lexer": "ipython3",
   "version": "3.5.2"
  }
 },
 "nbformat": 4,
 "nbformat_minor": 2
}
