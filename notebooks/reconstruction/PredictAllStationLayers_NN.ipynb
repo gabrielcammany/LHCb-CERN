{
 "cells": [
  {
   "cell_type": "code",
   "execution_count": 1,
   "metadata": {},
   "outputs": [
    {
     "name": "stderr",
     "output_type": "stream",
     "text": [
      "Using TensorFlow backend.\n"
     ]
    }
   ],
   "source": [
    "from mpl_toolkits.mplot3d import Axes3D\n",
    "from rtree import index\n",
    "import xgboost as xgb\n",
    "import pickle\n",
    "from tensorflow import keras\n",
    "import matplotlib.pyplot as plt\n",
    "import numpy as np\n",
    "import pandas as pd\n",
    "\n",
    "import keras\n",
    "from keras.models import load_model\n",
    "from keras.utils import CustomObjectScope\n",
    "from keras.initializers import glorot_uniform\n",
    "\n",
    "from sklearn.model_selection import train_test_split\n",
    "from sklearn.model_selection import cross_val_score\n",
    "from sklearn.model_selection import KFold\n",
    "from sklearn.pipeline import Pipeline\n",
    "from sklearn.preprocessing import MinMaxScaler\n",
    "from tensorflow.python.keras.models import Sequential\n",
    "from tensorflow.python.keras.layers import Dense\n",
    "from tensorflow.python.keras.wrappers.scikit_learn import KerasRegressor"
   ]
  },
  {
   "cell_type": "code",
   "execution_count": 2,
   "metadata": {},
   "outputs": [],
   "source": [
    "%store -r mc_data"
   ]
  },
  {
   "cell_type": "code",
   "execution_count": 3,
   "metadata": {},
   "outputs": [
    {
     "name": "stdout",
     "output_type": "stream",
     "text": [
      "0   MCParticleID\n",
      "1   MC_Hit_X\n",
      "2   MC_Hit_Y\n",
      "3   MC_Hit_Z\n",
      "4   PrHit_LHCbID\n",
      "5   PrHit_Xat0\n",
      "6   PrHit_Zat0\n",
      "7   PrHit_isX\n",
      "8   PrHit_planeCode\n",
      "9   PrHit_w2\n",
      "10   PrHit_yMax\n",
      "11   PrHit_yMin\n",
      "12   PrHit_zone\n",
      "13   event\n"
     ]
    }
   ],
   "source": [
    "###### Data columns\n",
    "i = 0\n",
    "for val in mc_data.columns:\n",
    "    print(i,\" \",val)\n",
    "    i = i + 1"
   ]
  },
  {
   "cell_type": "code",
   "execution_count": 4,
   "metadata": {},
   "outputs": [],
   "source": [
    "mc_hits = mc_data.values"
   ]
  },
  {
   "cell_type": "code",
   "execution_count": 5,
   "metadata": {},
   "outputs": [
    {
     "name": "stdout",
     "output_type": "stream",
     "text": [
      "WARNING:tensorflow:From /usr/local/lib/python3.5/dist-packages/tensorflow/python/framework/op_def_library.py:263: colocate_with (from tensorflow.python.framework.ops) is deprecated and will be removed in a future version.\n",
      "Instructions for updating:\n",
      "Colocations handled automatically by placer.\n",
      "WARNING:tensorflow:From /usr/local/lib/python3.5/dist-packages/tensorflow/python/ops/math_ops.py:3066: to_int32 (from tensorflow.python.ops.math_ops) is deprecated and will be removed in a future version.\n",
      "Instructions for updating:\n",
      "Use tf.cast instead.\n"
     ]
    }
   ],
   "source": [
    "with CustomObjectScope({'GlorotUniform': glorot_uniform()}):\n",
    "        xlayer_model = load_model('./models/xlayer_model_next.h5')"
   ]
  },
  {
   "cell_type": "code",
   "execution_count": 6,
   "metadata": {},
   "outputs": [],
   "source": [
    "%store -r zLays\n",
    "%store -r max_x\n",
    "%store -r min_x\n",
    "%store -r events"
   ]
  },
  {
   "cell_type": "code",
   "execution_count": 7,
   "metadata": {
    "scrolled": true
   },
   "outputs": [
    {
     "name": "stdout",
     "output_type": "stream",
     "text": [
      "[15837 15838 15839 15840 15841 15842 15843 15844 15845 15846 15847 15848\n",
      " 15849 15850 15851 15852 15853 15854 15855 15856 15857 15858 15859 15860\n",
      " 15861 15862 15863 15864 15865 15866 15867 15868 15869 15870 15871 15872\n",
      " 15873 15874 15875 15876 15877 15878 15879 15880 15881 15882 15883 15884\n",
      " 15885 15886 15887 15888 15889 15890 15891 15892 15893 15894 15895 15896\n",
      " 15897 15898 15899 15900 15901 15902 15903 15904 15905 15906 15907 15908\n",
      " 15909 15910 15911 15912 15913 15914 15915 15916 15917 15918 15919 15920\n",
      " 15921 15922 15923 15924 15925 15926 15927 15928 15929 15930 15931 15932\n",
      " 15933 15934 15935 15936 15937 15938 15939 15940 15941 17909 17910 17911\n",
      " 17912 17913 17914 17915 17916 17917 17918 17919 17920 17921 17922 17923\n",
      " 17924 17925 17926 17927 17928 17929 17930 17931 17932 17933 17934 17935\n",
      " 17936 17937 17938 17939 17940 17941 17942 17943 17944 17945 17946 17947\n",
      " 17948 17949 17950 17951 17952 17953 17954 17955 17956 17957 17958 17959\n",
      " 17960 17961 17962 17963 17964 17965 17966 17967 17968 17969 17970 17971\n",
      " 17972 17973 17974 17975 17976 17977 17978 17979 17980 17981 17982 17983\n",
      " 17984 17985 17986 17987 17988 18649 18650 18651 18652 18653 18654 18655\n",
      " 18656 18657 18658 18659 18660 18661 18662 18663 18664 18665 18666 18667\n",
      " 18668 18669 18670 18671 18672 18673 18674 18675 18676 18677 18678 18679\n",
      " 18680 18681 18682 18683 18684 18685 18686 18687 18688 18689 18690 18691\n",
      " 18692 18693 18694 18695 18696 18697 18698 18699 18700 18701 18702 18703\n",
      " 18704 18705 18706 18707 18708 18709 18710 18711 18712 18713 18714 18715\n",
      " 18716 18717 18718 18719 18720 18721 18722 18723 18724 18725 21313 21314\n",
      " 21315 21316 21317 21318 21319 21320 21321 21322 21323 21324 21325 21326\n",
      " 21327 21328 21329 21330 21331 21332 21333 21334 21335 21336 21337 21338\n",
      " 21339 21340 21341 21342 21343 21344 21345 21346 21347 21348 21349 21350\n",
      " 21351 21352 21353 21354 21355 21356 21357 21358 21359 21360 21361 21362\n",
      " 21363 21364 21365 21366 21367 21368 21369 21370 21371 21372 21373 21374\n",
      " 21375 21376 21377 21378 21379 21380 21381 21382 21383 21384 21385 21386\n",
      " 21387 21388 21389 21390 21391 21392 21393 21394 21395 21396 21397 21398\n",
      " 21399 21400 21401 21402 21403 21404 21405 21406 21905 21906 21907 21908\n",
      " 21909 21910 21911 21912 21913 21914 21915 21916 21917 21918 21919 21920\n",
      " 21921 21922 21923 21924 21925 21926 21927 21928 21929 21930 21931 21932\n",
      " 21933 21934 21935 21936 21937 21938 21939 21940 21941 21942 21943 21944\n",
      " 21945 21946 21947 21948 21949 21950 21951 21952 21953 21954 21955 21956\n",
      " 21957 21958 21959 21960 21961 21962 21963 21964 21965 21966 21967 21968\n",
      " 22349 22350 22351 22352 22353 22354 22355 22356 22357 22358 22359 22360\n",
      " 22361 22362 22363 22364 22365 22366 22367 22368 22369 22370 22371 22372\n",
      " 22373 22374 22375 22376 22377 22378 22379 22380 22381 22382 22383 22384\n",
      " 22385 22386 22387 22388 22389 22390 22391 22392 22393 22394 22395 22396\n",
      " 22397 22398 22399 22400 22401 22402 22403 22404 22405 22406 22407 22408\n",
      " 22409 22410 22411 22412 22413 22414 22415 22416 22417 22418 22419 22420\n",
      " 22421 22422 22423 22424 22425 22426 22427 22428 22429 22430 22431 22432\n",
      " 22433 22434 22435 22436 22437 22438 22439 22440 23237 23238 23239 23240\n",
      " 23241 23242 23243 23244 23245 23246 23247 23248 23249 23250 23251 23252\n",
      " 23253 23254 23255 23256 23257 23258 23259 23260 23261 23262 23263 23264\n",
      " 23265 23266 23267 23268 23269 23270 23271 23272 23273 23274 23275 23276\n",
      " 23277 23278 23279 23280 23281 23282 23283 23284 23285 23286 23287 23288\n",
      " 23289 23290 23291 23292 23293 23294 23295 23296 23297 23298 23299 23300\n",
      " 23301 23302 23303 23304 23305 23306 23307 23308 23309 23310 23311 23312\n",
      " 23313 23314 23315 23316 24717 24718 24719 24720 24721 24722 24723 24724\n",
      " 24725 24726 24727 24728 24729 24730 24731 24732 24733 24734 24735 24736\n",
      " 24737 24738 24739 24740 24741 24742 24743 24744 24745 24746 24747 24748\n",
      " 24749 24750 24751 24752 24753 24754 24755 24756 24757 24758 24759 24760\n",
      " 24761 24762 24763 24764 24765 24766 24767 24768 24769 24770 24771 24772\n",
      " 24773 24774 24775 24776 24777 24778 24779 24780 24781 24782 24783 24784\n",
      " 24785 24786 24787 24788 24789 24790 24791 24792 24793 24794 60829 60830\n",
      " 60831 60832 60833 60834 60835 60836 60837 60838 60839 60840 60841 60842\n",
      " 60843 60844 60845 60846 60847 60848 60849 60850 60851 60852 60853 60854\n",
      " 60855 60856 60857 60858 60859 60860 60861 60862 60863 60864 60865 60866\n",
      " 60867 60868 60869 60870 60871 60872 60873 60874 60875 60876 60877 60878\n",
      " 60879 60880 60881 60882 60883 60884 60885 60886 60887 60888 60889 60890\n",
      " 60891 60892 60893 60894 60895 60896 60897 60898 60899 60900 60901 60902\n",
      " 60903 60904 60905 60906 60907 60908 60909 60910 60911 60912 60913 60914\n",
      " 60915 60916 60917 60918 60919 60920 60921 60922 60923 60924 60925 60926\n",
      " 60927 60928 60929 60930 60931 60932 60933 60934 60935 60936 60937 60938\n",
      " 60939 60940 60941 60942 60943 60944 60945 60946 60947 60948 60949 60950\n",
      " 60951 60952 60953 60954 60955 60956 60957 60958 60959 60960 60961 60962\n",
      " 60963 60964 60965 60966 60967 60968 60969 60970 60971 60972 60973 60974\n",
      " 60975 60976 63789 63790 63791 63792 63793 63794 63795 63796 63797 63798\n",
      " 63799 63800 63801 63802 63803 63804 63805 63806 63807 63808 63809 63810\n",
      " 63811 63812 63813 63814 63815 63816 63817 63818 63819 63820 63821 63822\n",
      " 63823 63824 63825 63826 63827 63828 63829 63830 63831 63832 63833 63834\n",
      " 63835 63836 63837 63838 63839 63840 63841 63842 63843 63844 63845 63846\n",
      " 63847 63848 63849 63850 63851 63852 63853 63854 63855 63856 63857 63858\n",
      " 63859 63860 63861 63862 63863 63864 63865 63866 63867 63868 63869 63870\n",
      " 63871 63872 63873 63874 63875 63876 63877 63878 63879 63880 63881 63882\n",
      " 63883 63884 63885 63886 63887 63888 63889 63890 63891 63892 63893 63894\n",
      " 63895 63896 63897 63898 63899]\n"
     ]
    }
   ],
   "source": [
    "print(events)"
   ]
  },
  {
   "cell_type": "code",
   "execution_count": 8,
   "metadata": {},
   "outputs": [],
   "source": [
    "event_threshold = 15840"
   ]
  },
  {
   "cell_type": "code",
   "execution_count": 74,
   "metadata": {},
   "outputs": [],
   "source": [
    "X_xlayer_model = []\n",
    "Y_xlayer_model = []\n",
    "\n",
    "hits_total = mc_hits[mc_hits[:,13] > event_threshold]\n",
    "\n",
    "for hit in hits_total:\n",
    "    \n",
    "    if (len(hit[5]) > 1):\n",
    "        X_final = np.zeros(12)\n",
    "        Zone_final = np.zeros(12)\n",
    "        actual = -1\n",
    "        for i in range(0, len(hit[5])):\n",
    "            if (actual != hit[8][i]):\n",
    "                X_final[actual + 1] = hit[5][i]\n",
    "                Zone_final[actual + 1] = hit[12][i]\n",
    "                actual = hit[8][i]\n",
    "        \n",
    "        if (X_final[3] == 0):\n",
    "            continue\n",
    "        \n",
    "        X_xlayer_model.append([X_final[0], 0])\n",
    "        #Y_xlayer_model.append([X_final[1], X_final[2], X_final[3], Zone_final[3]])\n",
    "        Y_xlayer_model.append([X_final[1], X_final[2], X_final[3]])\n",
    "        \n",
    "        X_xlayer_model.append([X_final[4], 4])\n",
    "        #Y_xlayer_model.append([X_final[5], Zone_final[5], X_final[6], Zone_final[6], X_final[7], Zone_final[7]])\n",
    "        Y_xlayer_model.append([X_final[5], X_final[6], X_final[7]])\n",
    "        \n",
    "        X_xlayer_model.append([X_final[8], 8])\n",
    "        #Y_xlayer_model.append([X_final[9], Zone_final[9], X_final[10], Zone_final[10], X_final[11], Zone_final[11]])\n",
    "        Y_xlayer_model.append([X_final[9], X_final[10], X_final[11]])"
   ]
  },
  {
   "cell_type": "code",
   "execution_count": 75,
   "metadata": {},
   "outputs": [],
   "source": [
    "X_xlayer_model = np.array(X_xlayer_model).reshape(len(X_xlayer_model), 2)\n",
    "Y_xlayer_model = np.array(Y_xlayer_model).reshape(len(Y_xlayer_model), 3)"
   ]
  },
  {
   "cell_type": "code",
   "execution_count": 84,
   "metadata": {},
   "outputs": [
    {
     "data": {
      "text/plain": [
       "array([[ -820.46807861,  -987.8550415 , -1013.53503418],\n",
       "       [-1561.84423828, -1734.04956055, -1768.51501465],\n",
       "       [-2365.92919922, -2536.2019043 , -2576.20996094],\n",
       "       ...,\n",
       "       [ 1279.54309082,  1250.98449707,  1322.98999023],\n",
       "       [    0.        ,  1624.27990723,  1702.86499023],\n",
       "       [ 2062.40209961,  2010.39916992,  2097.35986328]])"
      ]
     },
     "execution_count": 84,
     "metadata": {},
     "output_type": "execute_result"
    }
   ],
   "source": [
    "Y_xlayer_model"
   ]
  },
  {
   "cell_type": "code",
   "execution_count": 85,
   "metadata": {},
   "outputs": [],
   "source": [
    "X_train, X_test, y_train, y_test = train_test_split(X_xlayer_model, Y_xlayer_model)"
   ]
  },
  {
   "cell_type": "code",
   "execution_count": 86,
   "metadata": {},
   "outputs": [
    {
     "name": "stdout",
     "output_type": "stream",
     "text": [
      "_________________________________________________________________\n",
      "Layer (type)                 Output Shape              Param #   \n",
      "=================================================================\n",
      "dense_30 (Dense)             (None, 12)                36        \n",
      "_________________________________________________________________\n",
      "dense_31 (Dense)             (None, 12)                156       \n",
      "_________________________________________________________________\n",
      "dense_32 (Dense)             (None, 3)                 39        \n",
      "=================================================================\n",
      "Total params: 231\n",
      "Trainable params: 231\n",
      "Non-trainable params: 0\n",
      "_________________________________________________________________\n"
     ]
    }
   ],
   "source": [
    "xlayer_model = Sequential()\n",
    "xlayer_model.add(Dense(12, input_dim=2, kernel_initializer='normal', activation='relu'))\n",
    "xlayer_model.add(Dense(12, activation='relu'))\n",
    "xlayer_model.add(Dense(3, activation='linear'))\n",
    "xlayer_model.summary()\n",
    "xlayer_model.compile(loss='mse', optimizer='adam',\n",
    "              metrics=['accuracy'])"
   ]
  },
  {
   "cell_type": "code",
   "execution_count": 87,
   "metadata": {
    "scrolled": true
   },
   "outputs": [
    {
     "name": "stdout",
     "output_type": "stream",
     "text": [
      "Train on 276934 samples, validate on 30771 samples\n",
      "Epoch 1/20\n",
      "276934/276934 [==============================] - 7s 25us/sample - loss: 174618.3833 - acc: 0.4430 - val_loss: 125681.3924 - val_acc: 0.4336\n",
      "Epoch 2/20\n",
      "276934/276934 [==============================] - 7s 24us/sample - loss: 126335.4056 - acc: 0.4327 - val_loss: 125465.8051 - val_acc: 0.4308\n",
      "Epoch 3/20\n",
      "276934/276934 [==============================] - 7s 24us/sample - loss: 126247.4182 - acc: 0.4317 - val_loss: 125452.8560 - val_acc: 0.4312\n",
      "Epoch 4/20\n",
      "276934/276934 [==============================] - 7s 24us/sample - loss: 126238.1573 - acc: 0.4410 - val_loss: 125371.2781 - val_acc: 0.3168\n",
      "Epoch 5/20\n",
      "276934/276934 [==============================] - 7s 25us/sample - loss: 126195.9552 - acc: 0.4257 - val_loss: 125865.5578 - val_acc: 0.1961\n",
      "Epoch 6/20\n",
      "276934/276934 [==============================] - 7s 24us/sample - loss: 126152.1641 - acc: 0.4195 - val_loss: 125204.4799 - val_acc: 0.5386\n",
      "Epoch 7/20\n",
      "276934/276934 [==============================] - 7s 25us/sample - loss: 126120.0758 - acc: 0.4307 - val_loss: 125138.3434 - val_acc: 0.5512\n",
      "Epoch 8/20\n",
      "276934/276934 [==============================] - 7s 24us/sample - loss: 126088.0389 - acc: 0.4340 - val_loss: 125388.6680 - val_acc: 0.2815\n",
      "Epoch 9/20\n",
      "276934/276934 [==============================] - 7s 24us/sample - loss: 126083.0361 - acc: 0.4402 - val_loss: 126192.8039 - val_acc: 0.1443\n",
      "Epoch 10/20\n",
      "276934/276934 [==============================] - 7s 24us/sample - loss: 126067.1486 - acc: 0.4383 - val_loss: 125345.9998 - val_acc: 0.5525\n",
      "Epoch 11/20\n",
      "276934/276934 [==============================] - 7s 25us/sample - loss: 126034.0422 - acc: 0.4320 - val_loss: 125666.6900 - val_acc: 0.4224\n",
      "Epoch 12/20\n",
      "276934/276934 [==============================] - 7s 25us/sample - loss: 125961.7916 - acc: 0.4549 - val_loss: 125371.5910 - val_acc: 0.4518\n",
      "Epoch 13/20\n",
      "276934/276934 [==============================] - 7s 25us/sample - loss: 125932.5843 - acc: 0.4555 - val_loss: 125193.9460 - val_acc: 0.4498\n",
      "Epoch 14/20\n",
      "276934/276934 [==============================] - 7s 25us/sample - loss: 125899.7568 - acc: 0.4491 - val_loss: 124977.4102 - val_acc: 0.5579\n",
      "Epoch 15/20\n",
      "276934/276934 [==============================] - 7s 25us/sample - loss: 125870.9049 - acc: 0.4562 - val_loss: 125024.6240 - val_acc: 0.5608\n",
      "Epoch 16/20\n",
      "276934/276934 [==============================] - 7s 24us/sample - loss: 125849.8090 - acc: 0.4583 - val_loss: 124986.6683 - val_acc: 0.5425\n",
      "Epoch 17/20\n",
      "276934/276934 [==============================] - 7s 24us/sample - loss: 125812.2183 - acc: 0.4626 - val_loss: 125455.0950 - val_acc: 0.4511\n",
      "Epoch 18/20\n",
      "276934/276934 [==============================] - 7s 25us/sample - loss: 125790.9730 - acc: 0.4633 - val_loss: 124885.4868 - val_acc: 0.4289\n",
      "Epoch 19/20\n",
      "276934/276934 [==============================] - 7s 25us/sample - loss: 125724.1606 - acc: 0.4740 - val_loss: 124697.4902 - val_acc: 0.5210\n",
      "Epoch 20/20\n",
      "276934/276934 [==============================] - 7s 25us/sample - loss: 125853.7712 - acc: 0.4549 - val_loss: 125833.7519 - val_acc: 0.5192\n"
     ]
    }
   ],
   "source": [
    "history = xlayer_model.fit(X_train, y_train, epochs=20, batch_size=100,  verbose=1, validation_split=0.1)"
   ]
  },
  {
   "cell_type": "code",
   "execution_count": 89,
   "metadata": {},
   "outputs": [],
   "source": [
    "xlayer_model.save(\"./models/xlayer_model.h5\")"
   ]
  },
  {
   "cell_type": "code",
   "execution_count": 28,
   "metadata": {
    "scrolled": true
   },
   "outputs": [
    {
     "name": "stdout",
     "output_type": "stream",
     "text": [
      "Event 15812 Length 631 \n"
     ]
    }
   ],
   "source": [
    "particles_test_event = mc_hits[mc_hits[:,13] < event_threshold]\n",
    "print(\"Event %d Length %d \" % ((15800 + i), len(particles_test_event)))"
   ]
  },
  {
   "cell_type": "code",
   "execution_count": 61,
   "metadata": {},
   "outputs": [],
   "source": [
    "# Create R-tree of hits for the event\n",
    "event = 0\n",
    "idx = {}\n",
    "actual = 0\n",
    "for hit in particles_test_event:\n",
    "    if (not hit[13] in idx):\n",
    "        p = index.Property()\n",
    "        p.dimension = 3\n",
    "        idx[hit[13]] = index.Index(properties=p, interleaved=False)\n",
    "    \n",
    "    if (len(hit[5]) > 1):\n",
    "        for i in range(0,len(hit[5])):\n",
    "            idx[hit[13]].insert(int(hit[4][i]), (float(hit[5][i]), float(hit[5][i]), hit[8][i], hit[8][i], hit[12][i], hit[12][i]), float(hit[5][i]))"
   ]
  },
  {
   "cell_type": "code",
   "execution_count": 30,
   "metadata": {},
   "outputs": [
    {
     "data": {
      "image/png": "[encoded data removed]",
      "text/plain": [
       "<Figure size 1368x576 with 1 Axes>"
      ]
     },
     "metadata": {
      "needs_background": "light"
     },
     "output_type": "display_data"
    }
   ],
   "source": [
    "# length = mc_hits.shape[0]\n",
    "fig = plt.figure(figsize=(19, 8))\n",
    "ax = fig.add_subplot(111)\n",
    "\n",
    "X_plot = []\n",
    "Y_plot = []\n",
    "\n",
    "# For each particle of a given event\n",
    "for particle in particles_test_event:\n",
    "    if (len(particle[5]) > 1):\n",
    "        # Extract only 12 hits, as some of them are really close\n",
    "        \n",
    "        X_final = np.zeros(12)\n",
    "        actual = -1\n",
    "        for i in range(0, len(particle[5])):\n",
    "            if (actual != particle[8][i]):\n",
    "                X_final[actual + 1] = particle[5][i]\n",
    "                Zone_final[actual + 1] = particle[12][i]\n",
    "                actual = particle[8][i]\n",
    "                \n",
    "        if (X_final[3] == 0):\n",
    "            continue\n",
    "                \n",
    "        predicted = (xlayer_model.predict(np.array([X_final[0], 0]).reshape(1,-1)))[0]\n",
    "        if (np.abs(X_final[3] - predicted[2]) > 500):\n",
    "            continue\n",
    "        \n",
    "        X_plot.append(X_final[3])\n",
    "        Y_plot.append(np.abs(X_final[3] - predicted[2]))\n",
    "        #print(\"Range: %f Pred: %f Found: %d\" % (search_range,predicted,found_bool))\n",
    "\n",
    "plt.scatter(X_plot, Y_plot, s=1)\n",
    "ax.set_xlabel('X Differences')\n",
    "ax.grid()\n",
    "plt.show()"
   ]
  },
  {
   "cell_type": "code",
   "execution_count": 88,
   "metadata": {},
   "outputs": [
    {
     "name": "stdout",
     "output_type": "stream",
     "text": [
      "Mean found 1: 0.920904\n",
      "Mean total found 1: 8.700565\n",
      "Mean pos found 1: 1.683616\n",
      "\n",
      "Mean found 2: 0.909605\n",
      "Mean total found 2: 8.954802\n",
      "Mean pos found 2: 1.983051\n",
      "\n",
      "Mean found 3: 0.898305\n",
      "Mean total found 3: 8.728814\n",
      "Mean pos found 3: 1.841808\n",
      "\n",
      "Mean Total Found: 0.802260\n"
     ]
    }
   ],
   "source": [
    "#\n",
    "# Test the NN model by using events not feeded as train \n",
    "#\n",
    "\n",
    "X_plot = []\n",
    "Y_plot = []\n",
    "\n",
    "total_found = 0\n",
    "mean_found = np.zeros(4)\n",
    "mean_num_found = np.zeros(4)\n",
    "mean_pos_found = np.zeros(4)\n",
    "mean_neg_found = np.zeros(4)\n",
    "total = 0\n",
    "long_range = 300\n",
    "\n",
    "# For each particle of a given event\n",
    "for particle in particles_test_event:\n",
    "    if (len(particle[5]) > 1):\n",
    "        # Extract only 12 hits, as some of them are really close\n",
    "        \n",
    "        found_bool = 0\n",
    "        zone = particle[12][0]\n",
    "        X_final = {}\n",
    "        actual = -1\n",
    "        \n",
    "        for i in range(0, len(particle[5])):\n",
    "            if (actual != particle[8][i]):\n",
    "                X_final[particle[8][i]] = []\n",
    "                X_final[particle[8][i]].append(particle[5][i])\n",
    "                actual = particle[8][i]\n",
    "            else:\n",
    "                X_final[actual].append(particle[5][i])\n",
    "                \n",
    "        if not 0 in X_final:\n",
    "            continue\n",
    "            \n",
    "        predicted = (xlayer_model.predict(np.array([X_final[0][0], 0]).reshape(1,-1)))[0]\n",
    "        \n",
    "        if (3 in X_final):\n",
    "            found = list(idx[particle[13]].intersection((predicted[2] - long_range, predicted[2] + long_range, 3, 3, zone, zone),objects='raw'))\n",
    "            found_layer3 = sorted(found, key=lambda x: np.abs(x - predicted[2]))[:10]\n",
    "\n",
    "            mean_num_found[2] += len(found_layer3)\n",
    "            for i in range(0,len(found_layer3)):\n",
    "                if (found_layer3[i] in X_final[3]):\n",
    "                    mean_found[2] += 1\n",
    "                    mean_pos_found[2] += i\n",
    "                    found_bool += 1\n",
    "                    break\n",
    "            \n",
    "        if (2 in X_final):\n",
    "            found = list(idx[particle[13]].intersection((predicted[1] - long_range, predicted[1] + long_range, 2, 2, zone,zone),objects='raw'))\n",
    "            found_layer2 = sorted(found, key=lambda x: np.abs(x - predicted[1]))[:10]\n",
    "\n",
    "            mean_num_found[1] += len(found_layer2)\n",
    "            for i in range(0,len(found_layer2)):\n",
    "                if (found_layer2[i] in X_final[2]):\n",
    "                    mean_found[1] += 1\n",
    "                    mean_pos_found[1] += i\n",
    "                    found_bool += 1\n",
    "                    break\n",
    "        \n",
    "        if (1 in X_final):\n",
    "            found = list(idx[particle[13]].intersection((predicted[0] - long_range, predicted[0] + long_range, 1, 1,zone,zone),objects='raw'))\n",
    "            found_layer1 = sorted(found, key=lambda x: np.abs(x - predicted[0]))[:10]\n",
    "            \n",
    "            for m in range(0, len(found_layer1)):\n",
    "                if (found_layer1[m] in X_final[1]):\n",
    "                    mean_found[0] += 1\n",
    "                    mean_pos_found[0] += m\n",
    "                    found_bool += 1\n",
    "                    break\n",
    "                    \n",
    "            mean_num_found[0] += len(found_layer1)\n",
    "            \n",
    "            \n",
    "        if (found_bool == 3):\n",
    "            total_found += 1\n",
    "            \n",
    "        total += 1\n",
    "\n",
    "print(\"Mean found 1: %f\" % (mean_found[0]/total))\n",
    "print(\"Mean total found 1: %f\" % (mean_num_found[0]/total))\n",
    "print(\"Mean pos found 1: %f\" % (mean_pos_found[0]/total))\n",
    "\n",
    "print(\"\\nMean found 2: %f\" % (mean_found[1]/total))\n",
    "print(\"Mean total found 2: %f\" % (mean_num_found[1]/total))\n",
    "print(\"Mean pos found 2: %f\" % (mean_pos_found[1]/total))\n",
    "\n",
    "print(\"\\nMean found 3: %f\" % (mean_found[2]/total))\n",
    "print(\"Mean total found 3: %f\" % (mean_num_found[2]/total))\n",
    "print(\"Mean pos found 3: %f\" % (mean_pos_found[2]/total))\n",
    "\n",
    "print(\"\\nMean Total Found: %f\" % (total_found/total))"
   ]
  },
  {
   "cell_type": "code",
   "execution_count": 60,
   "metadata": {},
   "outputs": [],
   "source": [
    "a = [1, 3, 4]\n",
    "b = [2,5,6]"
   ]
  },
  {
   "cell_type": "code",
   "execution_count": 72,
   "metadata": {},
   "outputs": [
    {
     "data": {
      "text/plain": [
       "[[2, 1], [5, 3], [6, 4]]"
      ]
     },
     "execution_count": 72,
     "metadata": {},
     "output_type": "execute_result"
    }
   ],
   "source": [
    "for m in zip(b,a)"
   ]
  },
  {
   "cell_type": "code",
   "execution_count": null,
   "metadata": {},
   "outputs": [],
   "source": []
  }
 ],
 "metadata": {
  "kernelspec": {
   "display_name": "Python 3",
   "language": "python",
   "name": "python3"
  },
  "language_info": {
   "codemirror_mode": {
    "name": "ipython",
    "version": 3
   },
   "file_extension": ".py",
   "mimetype": "text/x-python",
   "name": "python",
   "nbconvert_exporter": "python",
   "pygments_lexer": "ipython3",
   "version": "3.5.2"
  }
 },
 "nbformat": 4,
 "nbformat_minor": 2
}
