{
 "cells": [
  {
   "cell_type": "code",
   "execution_count": 1,
   "metadata": {},
   "outputs": [
    {
     "name": "stderr",
     "output_type": "stream",
     "text": [
      "Using TensorFlow backend.\n"
     ]
    }
   ],
   "source": [
    "from mpl_toolkits.mplot3d import Axes3D\n",
    "from rtree import index\n",
    "import xgboost as xgb\n",
    "import matplotlib.pyplot as plt\n",
    "import numpy as np\n",
    "import pandas as pd\n",
    "import random\n",
    "\n",
    "import keras\n",
    "from keras.models import load_model\n",
    "from keras.utils import CustomObjectScope\n",
    "from keras.initializers import glorot_uniform\n",
    "\n",
    "from sklearn.model_selection import train_test_split\n",
    "from sklearn.model_selection import cross_val_score\n",
    "from sklearn.model_selection import KFold\n",
    "from sklearn.pipeline import Pipeline\n",
    "from sklearn.preprocessing import MinMaxScaler\n",
    "from tensorflow.python.keras.models import Sequential\n",
    "from tensorflow.python.keras.layers import Dense\n",
    "from tensorflow.python.keras.wrappers.scikit_learn import KerasRegressor\n",
    "from keras.utils import CustomObjectScope\n",
    "from keras.initializers import glorot_uniform"
   ]
  },
  {
   "cell_type": "code",
   "execution_count": 2,
   "metadata": {},
   "outputs": [],
   "source": [
    "%store -r mc_data"
   ]
  },
  {
   "cell_type": "code",
   "execution_count": 3,
   "metadata": {},
   "outputs": [
    {
     "name": "stdout",
     "output_type": "stream",
     "text": [
      "WARNING:tensorflow:From /usr/local/lib/python3.5/dist-packages/tensorflow/python/framework/op_def_library.py:263: colocate_with (from tensorflow.python.framework.ops) is deprecated and will be removed in a future version.\n",
      "Instructions for updating:\n",
      "Colocations handled automatically by placer.\n",
      "WARNING:tensorflow:From /usr/local/lib/python3.5/dist-packages/tensorflow/python/ops/math_ops.py:3066: to_int32 (from tensorflow.python.ops.math_ops) is deprecated and will be removed in a future version.\n",
      "Instructions for updating:\n",
      "Use tf.cast instead.\n"
     ]
    }
   ],
   "source": [
    "with CustomObjectScope({'GlorotUniform': glorot_uniform()}):\n",
    "        xlayer_model = load_model('./models/xlayer_model.h5')"
   ]
  },
  {
   "cell_type": "code",
   "execution_count": 4,
   "metadata": {},
   "outputs": [],
   "source": [
    "with CustomObjectScope({'GlorotUniform': glorot_uniform()}):\n",
    "        track_classifier = load_model('./models/track_classifier.h5')"
   ]
  },
  {
   "cell_type": "code",
   "execution_count": 5,
   "metadata": {},
   "outputs": [
    {
     "name": "stdout",
     "output_type": "stream",
     "text": [
      "0   MCParticleID\n",
      "1   MC_Hit_X\n",
      "2   MC_Hit_Y\n",
      "3   MC_Hit_Z\n",
      "4   PrHit_LHCbID\n",
      "5   PrHit_Xat0\n",
      "6   PrHit_Zat0\n",
      "7   PrHit_isX\n",
      "8   PrHit_planeCode\n",
      "9   PrHit_w2\n",
      "10   PrHit_yMax\n",
      "11   PrHit_yMin\n",
      "12   PrHit_zone\n",
      "13   event\n"
     ]
    }
   ],
   "source": [
    "###### Data columns\n",
    "i = 0\n",
    "for val in mc_data.columns:\n",
    "    print(i,\" \",val)\n",
    "    i = i + 1"
   ]
  },
  {
   "cell_type": "code",
   "execution_count": 6,
   "metadata": {},
   "outputs": [],
   "source": [
    "mc_hits = mc_data.values"
   ]
  },
  {
   "cell_type": "code",
   "execution_count": 7,
   "metadata": {},
   "outputs": [],
   "source": [
    "%store -r zLays\n",
    "%store -r max_x\n",
    "%store -r min_x\n",
    "%store -r events"
   ]
  },
  {
   "cell_type": "code",
   "execution_count": 8,
   "metadata": {},
   "outputs": [],
   "source": [
    "%store -r idx"
   ]
  },
  {
   "cell_type": "code",
   "execution_count": 9,
   "metadata": {
    "scrolled": true
   },
   "outputs": [
    {
     "name": "stdout",
     "output_type": "stream",
     "text": [
      "[15837 15838 15839 15840 15841 15842 15843 15844 15845 15846 15847 15848\n",
      " 15849 15850 15851 15852 15853 15854 15855 15856 15857 15858 15859 15860\n",
      " 15861 15862 15863 15864 15865 15866 15867 15868 15869 15870 15871 15872\n",
      " 15873 15874 15875 15876 15877 15878 15879 15880 15881 15882 15883 15884\n",
      " 15885 15886 15887 15888 15889 15890 15891 15892 15893 15894 15895 15896\n",
      " 15897 15898 15899 15900 15901 15902 15903 15904 15905 15906 15907 15908\n",
      " 15909 15910 15911 15912 15913 15914 15915 15916 15917 15918 15919 15920\n",
      " 15921 15922 15923 15924 15925 15926 15927 15928 15929 15930 15931 15932\n",
      " 15933 15934 15935 15936 15937 15938 15939 15940 15941 17909 17910 17911\n",
      " 17912 17913 17914 17915 17916 17917 17918 17919 17920 17921 17922 17923\n",
      " 17924 17925 17926 17927 17928 17929 17930 17931 17932 17933 17934 17935\n",
      " 17936 17937 17938 17939 17940 17941 17942 17943 17944 17945 17946 17947\n",
      " 17948 17949 17950 17951 17952 17953 17954 17955 17956 17957 17958 17959\n",
      " 17960 17961 17962 17963 17964 17965 17966 17967 17968 17969 17970 17971\n",
      " 17972 17973 17974 17975 17976 17977 17978 17979 17980 17981 17982 17983\n",
      " 17984 17985 17986 17987 17988 18649 18650 18651 18652 18653 18654 18655\n",
      " 18656 18657 18658 18659 18660 18661 18662 18663 18664 18665 18666 18667\n",
      " 18668 18669 18670 18671 18672 18673 18674 18675 18676 18677 18678 18679\n",
      " 18680 18681 18682 18683 18684 18685 18686 18687 18688 18689 18690 18691\n",
      " 18692 18693 18694 18695 18696 18697 18698 18699 18700 18701 18702 18703\n",
      " 18704 18705 18706 18707 18708 18709 18710 18711 18712 18713 18714 18715\n",
      " 18716 18717 18718 18719 18720 18721 18722 18723 18724 18725 21313 21314\n",
      " 21315 21316 21317 21318 21319 21320 21321 21322 21323 21324 21325 21326\n",
      " 21327 21328 21329 21330 21331 21332 21333 21334 21335 21336 21337 21338\n",
      " 21339 21340 21341 21342 21343 21344 21345 21346 21347 21348 21349 21350\n",
      " 21351 21352 21353 21354 21355 21356 21357 21358 21359 21360 21361 21362\n",
      " 21363 21364 21365 21366 21367 21368 21369 21370 21371 21372 21373 21374\n",
      " 21375 21376 21377 21378 21379 21380 21381 21382 21383 21384 21385 21386\n",
      " 21387 21388 21389 21390 21391 21392 21393 21394 21395 21396 21397 21398\n",
      " 21399 21400 21401 21402 21403 21404 21405 21406 21905 21906 21907 21908\n",
      " 21909 21910 21911 21912 21913 21914 21915 21916 21917 21918 21919 21920\n",
      " 21921 21922 21923 21924 21925 21926 21927 21928 21929 21930 21931 21932\n",
      " 21933 21934 21935 21936 21937 21938 21939 21940 21941 21942 21943 21944\n",
      " 21945 21946 21947 21948 21949 21950 21951 21952 21953 21954 21955 21956\n",
      " 21957 21958 21959 21960 21961 21962 21963 21964 21965 21966 21967 21968\n",
      " 22349 22350 22351 22352 22353 22354 22355 22356 22357 22358 22359 22360\n",
      " 22361 22362 22363 22364 22365 22366 22367 22368 22369 22370 22371 22372\n",
      " 22373 22374 22375 22376 22377 22378 22379 22380 22381 22382 22383 22384\n",
      " 22385 22386 22387 22388 22389 22390 22391 22392 22393 22394 22395 22396\n",
      " 22397 22398 22399 22400 22401 22402 22403 22404 22405 22406 22407 22408\n",
      " 22409 22410 22411 22412 22413 22414 22415 22416 22417 22418 22419 22420\n",
      " 22421 22422 22423 22424 22425 22426 22427 22428 22429 22430 22431 22432\n",
      " 22433 22434 22435 22436 22437 22438 22439 22440 23237 23238 23239 23240\n",
      " 23241 23242 23243 23244 23245 23246 23247 23248 23249 23250 23251 23252\n",
      " 23253 23254 23255 23256 23257 23258 23259 23260 23261 23262 23263 23264\n",
      " 23265 23266 23267 23268 23269 23270 23271 23272 23273 23274 23275 23276\n",
      " 23277 23278 23279 23280 23281 23282 23283 23284 23285 23286 23287 23288\n",
      " 23289 23290 23291 23292 23293 23294 23295 23296 23297 23298 23299 23300\n",
      " 23301 23302 23303 23304 23305 23306 23307 23308 23309 23310 23311 23312\n",
      " 23313 23314 23315 23316 24717 24718 24719 24720 24721 24722 24723 24724\n",
      " 24725 24726 24727 24728 24729 24730 24731 24732 24733 24734 24735 24736\n",
      " 24737 24738 24739 24740 24741 24742 24743 24744 24745 24746 24747 24748\n",
      " 24749 24750 24751 24752 24753 24754 24755 24756 24757 24758 24759 24760\n",
      " 24761 24762 24763 24764 24765 24766 24767 24768 24769 24770 24771 24772\n",
      " 24773 24774 24775 24776 24777 24778 24779 24780 24781 24782 24783 24784\n",
      " 24785 24786 24787 24788 24789 24790 24791 24792 24793 24794 60829 60830\n",
      " 60831 60832 60833 60834 60835 60836 60837 60838 60839 60840 60841 60842\n",
      " 60843 60844 60845 60846 60847 60848 60849 60850 60851 60852 60853 60854\n",
      " 60855 60856 60857 60858 60859 60860 60861 60862 60863 60864 60865 60866\n",
      " 60867 60868 60869 60870 60871 60872 60873 60874 60875 60876 60877 60878\n",
      " 60879 60880 60881 60882 60883 60884 60885 60886 60887 60888 60889 60890\n",
      " 60891 60892 60893 60894 60895 60896 60897 60898 60899 60900 60901 60902\n",
      " 60903 60904 60905 60906 60907 60908 60909 60910 60911 60912 60913 60914\n",
      " 60915 60916 60917 60918 60919 60920 60921 60922 60923 60924 60925 60926\n",
      " 60927 60928 60929 60930 60931 60932 60933 60934 60935 60936 60937 60938\n",
      " 60939 60940 60941 60942 60943 60944 60945 60946 60947 60948 60949 60950\n",
      " 60951 60952 60953 60954 60955 60956 60957 60958 60959 60960 60961 60962\n",
      " 60963 60964 60965 60966 60967 60968 60969 60970 60971 60972 60973 60974\n",
      " 60975 60976 63789 63790 63791 63792 63793 63794 63795 63796 63797 63798\n",
      " 63799 63800 63801 63802 63803 63804 63805 63806 63807 63808 63809 63810\n",
      " 63811 63812 63813 63814 63815 63816 63817 63818 63819 63820 63821 63822\n",
      " 63823 63824 63825 63826 63827 63828 63829 63830 63831 63832 63833 63834\n",
      " 63835 63836 63837 63838 63839 63840 63841 63842 63843 63844 63845 63846\n",
      " 63847 63848 63849 63850 63851 63852 63853 63854 63855 63856 63857 63858\n",
      " 63859 63860 63861 63862 63863 63864 63865 63866 63867 63868 63869 63870\n",
      " 63871 63872 63873 63874 63875 63876 63877 63878 63879 63880 63881 63882\n",
      " 63883 63884 63885 63886 63887 63888 63889 63890 63891 63892 63893 63894\n",
      " 63895 63896 63897 63898 63899]\n"
     ]
    }
   ],
   "source": [
    "print(events)"
   ]
  },
  {
   "cell_type": "code",
   "execution_count": 8,
   "metadata": {},
   "outputs": [],
   "source": [
    "event_threshold = 15840"
   ]
  },
  {
   "cell_type": "code",
   "execution_count": 23,
   "metadata": {},
   "outputs": [
    {
     "name": "stdout",
     "output_type": "stream",
     "text": [
      "Total hits with threshold 199144\n"
     ]
    }
   ],
   "source": [
    "hits_total = mc_hits[mc_hits[:,13] > event_threshold]\n",
    "print(\"Total hits with threshold %d\" % (len(hits_total)))\n",
    "event = 0\n",
    "idx = {}\n",
    "actual = 0\n",
    "for hit in hits_total:\n",
    "    if (not hit[13] in idx):\n",
    "        p = index.Property()\n",
    "        p.dimension = 3\n",
    "        idx[hit[13]] = index.Index(properties=p, interleaved=False)\n",
    "    \n",
    "    if (len(hit[5]) > 1):\n",
    "        for i in range(0,len(hit[5])):\n",
    "            idx[hit[13]].insert(int(hit[4][i]), (float(hit[5][i]), float(hit[5][i]), hit[8][i], hit[8][i], hit[12][i], hit[12][i]), float(hit[5][i]))"
   ]
  },
  {
   "cell_type": "code",
   "execution_count": 12,
   "metadata": {},
   "outputs": [
    {
     "name": "stdout",
     "output_type": "stream",
     "text": [
      "Stored 'idx' (dict)\n"
     ]
    }
   ],
   "source": [
    "%store idx"
   ]
  },
  {
   "cell_type": "code",
   "execution_count": 24,
   "metadata": {},
   "outputs": [
    {
     "name": "stdout",
     "output_type": "stream",
     "text": [
      "Mean found 0.858799\n",
      "Total 126125\n"
     ]
    }
   ],
   "source": [
    "X_classifier = []\n",
    "Y_classifier = []\n",
    "\n",
    "total_found = 0\n",
    "total = 0\n",
    "long_range = 300\n",
    "\n",
    "for particle in hits_total:\n",
    "    \n",
    "    if (len(particle[5]) > 1):\n",
    "        \n",
    "        found_bool = 0\n",
    "        found_layers = np.zeros(4)\n",
    "        # Extract only 12 hits, as some of them are really close\n",
    "        zone = particle[12][0]\n",
    "        X_final = {}\n",
    "        actual = -1\n",
    "        \n",
    "        for i in range(0, len(particle[5])):\n",
    "            if (actual != particle[8][i]):\n",
    "                X_final[particle[8][i]] = []\n",
    "                X_final[particle[8][i]].append(particle[5][i])\n",
    "                actual = particle[8][i]\n",
    "            else:\n",
    "                X_final[actual].append(particle[5][i])\n",
    "                \n",
    "        if (not 0 in X_final):\n",
    "            continue\n",
    "            \n",
    "        found_layers[0] = X_final[0][0]\n",
    "            \n",
    "        predicted = (xlayer_model.predict(np.array([X_final[0][0], 0]).reshape(1,-1)))[0]\n",
    "        \n",
    "        if (3 in X_final):\n",
    "            found = list(idx[particle[13]].intersection((predicted[2] - long_range, predicted[2] + long_range, 3, 3, zone, zone),objects='raw'))\n",
    "            found_layer3 = sorted(found, key=lambda x: np.abs(x - predicted[2]))[:20]\n",
    "\n",
    "            for i in range(0,len(found_layer3)):\n",
    "                if (found_layer3[i] in X_final[3]):\n",
    "                    found_bool += 1\n",
    "                    found_layers[3] = found_layer3[i]\n",
    "                    break\n",
    "            \n",
    "        if (2 in X_final):\n",
    "            found = list(idx[particle[13]].intersection((predicted[1] - long_range, predicted[1] + long_range, 2, 2, zone,zone),objects='raw'))\n",
    "            found_layer2 = sorted(found, key=lambda x: np.abs(x - predicted[1]))[:20]\n",
    "\n",
    "            for i in range(0,len(found_layer2)):\n",
    "                if (found_layer2[i] in X_final[2]):\n",
    "                    found_bool += 1\n",
    "                    found_layers[2] = found_layer2[i]\n",
    "                    break\n",
    "        \n",
    "        if (1 in X_final):\n",
    "            found = list(idx[particle[13]].intersection((predicted[0] - long_range, predicted[0] + long_range, 1, 1,zone,zone),objects='raw'))\n",
    "            found_layer1 = sorted(found, key=lambda x: np.abs(x - predicted[0]))[:20]\n",
    "\n",
    "            for i in range(0,len(found_layer1)):\n",
    "                if (found_layer1[i] in X_final[1]):\n",
    "                    found_bool += 1\n",
    "                    found_layers[1] = found_layer1[i]\n",
    "                    break\n",
    "            \n",
    "        if (found_bool == 3):\n",
    "            fake_track = np.array([X_final[0][0], random.choice(found_layer1),random.choice(found_layer2),random.choice(found_layer3)])\n",
    "            true_track = found_layers\n",
    "            \n",
    "            retries = 0\n",
    "            \n",
    "            while (fake_track == true_track).all() and retries != 4:\n",
    "                fake_track = np.array([X_final[0][0], random.choice(found_layer1),random.choice(found_layer2),random.choice(found_layer3)])\n",
    "                retries += 1\n",
    "                \n",
    "            total_found += 1\n",
    "            \n",
    "            if (retries == 4):\n",
    "                X_classifier.append(true_track)\n",
    "                Y_classifier.append(1)\n",
    "            else:\n",
    "                X_classifier.append(true_track)\n",
    "                Y_classifier.append(1)\n",
    "                X_classifier.append(fake_track)\n",
    "                Y_classifier.append(0)\n",
    "            \n",
    "        total += 1\n",
    "\n",
    "print(\"Mean found %f\" % (total_found/total))\n",
    "print(\"Total %d\" % total)"
   ]
  },
  {
   "cell_type": "code",
   "execution_count": 34,
   "metadata": {},
   "outputs": [
    {
     "name": "stdout",
     "output_type": "stream",
     "text": [
      "Stored 'X_classifier' (list)\n",
      "Stored 'Y_classifier' (list)\n"
     ]
    }
   ],
   "source": [
    "%store X_classifier\n",
    "%store Y_classifier"
   ]
  },
  {
   "cell_type": "code",
   "execution_count": 28,
   "metadata": {},
   "outputs": [],
   "source": [
    "track_classifier = Sequential()\n",
    "# Dense(64) is a fully-connected layer with 64 hidden units.\n",
    "# in the first layer, you must specify the expected input data shape:\n",
    "# here, 20-dimensional vectors.\n",
    "track_classifier.add(Dense(12, activation='relu', input_dim=4))\n",
    "track_classifier.add(Dense(8, activation='relu'))\n",
    "track_classifier.add(Dense(1, activation='sigmoid'))\n",
    "track_classifier.compile(loss='binary_crossentropy',\n",
    "              optimizer='adam',\n",
    "              metrics=['accuracy'])"
   ]
  },
  {
   "cell_type": "code",
   "execution_count": 30,
   "metadata": {},
   "outputs": [
    {
     "name": "stdout",
     "output_type": "stream",
     "text": [
      "X Train length: 162295\n",
      "X Test Length 54099\n",
      "Y Train length: 162295\n",
      "Y Test length: 54099\n"
     ]
    }
   ],
   "source": [
    "X_train, X_test, y_train, y_test = train_test_split(np.array(X_classifier), np.array(Y_classifier))\n",
    "print(\"X Train length: %d\" % len(X_train))\n",
    "print(\"X Test Length %d\" % len(X_test))\n",
    "print(\"Y Train length: %d\" % len(y_train))\n",
    "print(\"Y Test length: %d\" % len(y_test))"
   ]
  },
  {
   "cell_type": "code",
   "execution_count": 31,
   "metadata": {},
   "outputs": [
    {
     "name": "stdout",
     "output_type": "stream",
     "text": [
      "Train on 146065 samples, validate on 16230 samples\n",
      "Epoch 1/15\n",
      "146065/146065 [==============================] - 2s 15us/sample - loss: 2.2602 - acc: 0.5898 - val_loss: 1.0142 - val_acc: 0.5472\n",
      "Epoch 2/15\n",
      "146065/146065 [==============================] - 2s 14us/sample - loss: 0.8099 - acc: 0.6086 - val_loss: 0.7051 - val_acc: 0.6924\n",
      "Epoch 3/15\n",
      "146065/146065 [==============================] - 2s 14us/sample - loss: 0.7237 - acc: 0.6298 - val_loss: 0.8280 - val_acc: 0.5725\n",
      "Epoch 4/15\n",
      "146065/146065 [==============================] - 2s 14us/sample - loss: 0.6944 - acc: 0.6530 - val_loss: 0.8284 - val_acc: 0.6381\n",
      "Epoch 5/15\n",
      "146065/146065 [==============================] - 2s 14us/sample - loss: 0.6603 - acc: 0.6841 - val_loss: 0.5641 - val_acc: 0.7723\n",
      "Epoch 6/15\n",
      "146065/146065 [==============================] - 2s 14us/sample - loss: 0.4584 - acc: 0.8136 - val_loss: 0.3540 - val_acc: 0.8653\n",
      "Epoch 7/15\n",
      "146065/146065 [==============================] - 2s 14us/sample - loss: 0.3301 - acc: 0.8793 - val_loss: 0.2647 - val_acc: 0.9150\n",
      "Epoch 8/15\n",
      "146065/146065 [==============================] - 2s 14us/sample - loss: 0.2728 - acc: 0.9072 - val_loss: 0.2564 - val_acc: 0.9171\n",
      "Epoch 9/15\n",
      "146065/146065 [==============================] - 2s 15us/sample - loss: 0.2246 - acc: 0.9250 - val_loss: 0.2292 - val_acc: 0.9186\n",
      "Epoch 10/15\n",
      "146065/146065 [==============================] - 2s 14us/sample - loss: 0.2101 - acc: 0.9312 - val_loss: 0.1826 - val_acc: 0.9377\n",
      "Epoch 11/15\n",
      "146065/146065 [==============================] - 2s 14us/sample - loss: 0.2034 - acc: 0.9350 - val_loss: 0.2433 - val_acc: 0.9017\n",
      "Epoch 12/15\n",
      "146065/146065 [==============================] - 2s 14us/sample - loss: 0.1927 - acc: 0.9383 - val_loss: 0.2342 - val_acc: 0.9262\n",
      "Epoch 13/15\n",
      "146065/146065 [==============================] - 2s 14us/sample - loss: 0.1851 - acc: 0.9428 - val_loss: 0.3057 - val_acc: 0.8734\n",
      "Epoch 14/15\n",
      "146065/146065 [==============================] - 2s 15us/sample - loss: 0.1770 - acc: 0.9454 - val_loss: 0.1740 - val_acc: 0.9511\n",
      "Epoch 15/15\n",
      "146065/146065 [==============================] - 2s 14us/sample - loss: 0.1735 - acc: 0.9466 - val_loss: 0.1789 - val_acc: 0.9479\n"
     ]
    },
    {
     "data": {
      "text/plain": [
       "<tensorflow.python.keras.callbacks.History at 0x7fa94c42cfd0>"
      ]
     },
     "execution_count": 31,
     "metadata": {},
     "output_type": "execute_result"
    }
   ],
   "source": [
    "track_classifier.fit(X_train, y_train, epochs=15, batch_size=200, verbose=1, validation_split=0.1)"
   ]
  },
  {
   "cell_type": "code",
   "execution_count": 32,
   "metadata": {},
   "outputs": [
    {
     "name": "stdout",
     "output_type": "stream",
     "text": [
      "54099/54099 [==============================] - 2s 44us/sample - loss: 0.1813 - acc: 0.9454\n",
      "Test score: 0.18125923787621864\n",
      "Test accuracy: 0.9454149\n"
     ]
    }
   ],
   "source": [
    "score, acc = track_classifier.evaluate(X_test, y_test, batch_size=25)\n",
    "print('Test score:', score)\n",
    "print('Test accuracy:', acc)"
   ]
  },
  {
   "cell_type": "code",
   "execution_count": 33,
   "metadata": {},
   "outputs": [],
   "source": [
    "track_classifier.save(\"./models/track_classifier.h5\")"
   ]
  },
  {
   "cell_type": "code",
   "execution_count": 48,
   "metadata": {
    "scrolled": true
   },
   "outputs": [
    {
     "name": "stdout",
     "output_type": "stream",
     "text": [
      "[1344.3711 1331.2653 1353.7424 1449.1339]\n",
      "0.0\n",
      "0.0\n",
      "[261.86023 264.366   268.9563  289.13846]\n",
      "0.002824858757062147\n",
      "0.0\n",
      "[-244.05386 -283.24338 -305.46356 -349.80124]\n",
      "0.005649717514124294\n",
      "0.0\n",
      "[139.9398  144.20387 146.77966 158.49117]\n",
      "0.00847457627118644\n",
      "0.0\n",
      "[1401.4517 1387.5227 1410.9429 1510.3002]\n"
     ]
    },
    {
     "ename": "KeyboardInterrupt",
     "evalue": "",
     "output_type": "error",
     "traceback": [
      "\u001b[0;31m\u001b[0m",
      "\u001b[0;31mKeyboardInterrupt\u001b[0mTraceback (most recent call last)",
      "\u001b[0;32m<ipython-input-48-4e1d72730421>\u001b[0m in \u001b[0;36m<module>\u001b[0;34m\u001b[0m\n\u001b[1;32m     63\u001b[0m                     \u001b[0;32mfor\u001b[0m \u001b[0mh2\u001b[0m \u001b[0;32min\u001b[0m \u001b[0mfound_layer2\u001b[0m\u001b[0;34m:\u001b[0m\u001b[0;34m\u001b[0m\u001b[0m\n\u001b[1;32m     64\u001b[0m                         \u001b[0;32mfor\u001b[0m \u001b[0mh1\u001b[0m \u001b[0;32min\u001b[0m \u001b[0mfound_layer1\u001b[0m\u001b[0;34m:\u001b[0m\u001b[0;34m\u001b[0m\u001b[0m\n\u001b[0;32m---> 65\u001b[0;31m                             \u001b[0mpred\u001b[0m \u001b[0;34m=\u001b[0m \u001b[0;34m(\u001b[0m\u001b[0mtrack_classifier\u001b[0m\u001b[0;34m.\u001b[0m\u001b[0mpredict\u001b[0m\u001b[0;34m(\u001b[0m\u001b[0mnp\u001b[0m\u001b[0;34m.\u001b[0m\u001b[0marray\u001b[0m\u001b[0;34m(\u001b[0m\u001b[0;34m[\u001b[0m\u001b[0mX_final\u001b[0m\u001b[0;34m[\u001b[0m\u001b[0;36m0\u001b[0m\u001b[0;34m]\u001b[0m\u001b[0;34m[\u001b[0m\u001b[0;36m0\u001b[0m\u001b[0;34m]\u001b[0m\u001b[0;34m,\u001b[0m \u001b[0mh1\u001b[0m\u001b[0;34m,\u001b[0m \u001b[0mh2\u001b[0m\u001b[0;34m,\u001b[0m \u001b[0mh3\u001b[0m\u001b[0;34m,\u001b[0m \u001b[0mh4\u001b[0m\u001b[0;34m]\u001b[0m\u001b[0;34m)\u001b[0m\u001b[0;34m.\u001b[0m\u001b[0mreshape\u001b[0m\u001b[0;34m(\u001b[0m\u001b[0;36m1\u001b[0m\u001b[0;34m,\u001b[0m\u001b[0;34m-\u001b[0m\u001b[0;36m1\u001b[0m\u001b[0;34m)\u001b[0m\u001b[0;34m)\u001b[0m\u001b[0;34m[\u001b[0m\u001b[0;36m0\u001b[0m\u001b[0;34m]\u001b[0m\u001b[0;34m)\u001b[0m\u001b[0;34m[\u001b[0m\u001b[0;36m0\u001b[0m\u001b[0;34m]\u001b[0m\u001b[0;34m\u001b[0m\u001b[0m\n\u001b[0m\u001b[1;32m     66\u001b[0m                             \u001b[0;32mif\u001b[0m \u001b[0mpred\u001b[0m \u001b[0;34m>\u001b[0m \u001b[0mmax_val\u001b[0m\u001b[0;34m:\u001b[0m\u001b[0;34m\u001b[0m\u001b[0m\n\u001b[1;32m     67\u001b[0m                                 \u001b[0mvalid\u001b[0m \u001b[0;34m=\u001b[0m \u001b[0;34m[\u001b[0m\u001b[0mX_final\u001b[0m\u001b[0;34m[\u001b[0m\u001b[0;36m0\u001b[0m\u001b[0;34m]\u001b[0m\u001b[0;34m[\u001b[0m\u001b[0;36m0\u001b[0m\u001b[0;34m]\u001b[0m\u001b[0;34m,\u001b[0m \u001b[0mh1\u001b[0m\u001b[0;34m,\u001b[0m \u001b[0mh2\u001b[0m\u001b[0;34m,\u001b[0m \u001b[0mh3\u001b[0m\u001b[0;34m,\u001b[0m \u001b[0mh4\u001b[0m\u001b[0;34m]\u001b[0m\u001b[0;34m\u001b[0m\u001b[0m\n",
      "\u001b[0;32m/usr/local/lib/python3.5/dist-packages/tensorflow/python/keras/engine/training.py\u001b[0m in \u001b[0;36mpredict\u001b[0;34m(self, x, batch_size, verbose, steps, max_queue_size, workers, use_multiprocessing)\u001b[0m\n\u001b[1;32m   1111\u001b[0m     \u001b[0;32melse\u001b[0m\u001b[0;34m:\u001b[0m\u001b[0;34m\u001b[0m\u001b[0m\n\u001b[1;32m   1112\u001b[0m       return training_arrays.predict_loop(\n\u001b[0;32m-> 1113\u001b[0;31m           self, x, batch_size=batch_size, verbose=verbose, steps=steps)\n\u001b[0m\u001b[1;32m   1114\u001b[0m \u001b[0;34m\u001b[0m\u001b[0m\n\u001b[1;32m   1115\u001b[0m   \u001b[0;32mdef\u001b[0m \u001b[0mreset_metrics\u001b[0m\u001b[0;34m(\u001b[0m\u001b[0mself\u001b[0m\u001b[0;34m)\u001b[0m\u001b[0;34m:\u001b[0m\u001b[0;34m\u001b[0m\u001b[0m\n",
      "\u001b[0;32m/usr/local/lib/python3.5/dist-packages/tensorflow/python/keras/engine/training_arrays.py\u001b[0m in \u001b[0;36mmodel_iteration\u001b[0;34m(model, inputs, targets, sample_weights, batch_size, epochs, verbose, callbacks, val_inputs, val_targets, val_sample_weights, shuffle, initial_epoch, steps_per_epoch, validation_steps, mode, validation_in_fit, **kwargs)\u001b[0m\n\u001b[1;32m    249\u001b[0m     \u001b[0;31m# Setup work for each epoch\u001b[0m\u001b[0;34m\u001b[0m\u001b[0;34m\u001b[0m\u001b[0m\n\u001b[1;32m    250\u001b[0m     \u001b[0mepoch_logs\u001b[0m \u001b[0;34m=\u001b[0m \u001b[0;34m{\u001b[0m\u001b[0;34m}\u001b[0m\u001b[0;34m\u001b[0m\u001b[0m\n\u001b[0;32m--> 251\u001b[0;31m     \u001b[0mmodel\u001b[0m\u001b[0;34m.\u001b[0m\u001b[0mreset_metrics\u001b[0m\u001b[0;34m(\u001b[0m\u001b[0;34m)\u001b[0m\u001b[0;34m\u001b[0m\u001b[0m\n\u001b[0m\u001b[1;32m    252\u001b[0m     \u001b[0mcallbacks\u001b[0m\u001b[0;34m.\u001b[0m\u001b[0mon_epoch_begin\u001b[0m\u001b[0;34m(\u001b[0m\u001b[0mepoch\u001b[0m\u001b[0;34m,\u001b[0m \u001b[0mepoch_logs\u001b[0m\u001b[0;34m,\u001b[0m \u001b[0mmode\u001b[0m\u001b[0;34m=\u001b[0m\u001b[0mmode\u001b[0m\u001b[0;34m)\u001b[0m\u001b[0;34m\u001b[0m\u001b[0m\n\u001b[1;32m    253\u001b[0m     \u001b[0mprogbar\u001b[0m\u001b[0;34m.\u001b[0m\u001b[0mon_epoch_begin\u001b[0m\u001b[0;34m(\u001b[0m\u001b[0mepoch\u001b[0m\u001b[0;34m,\u001b[0m \u001b[0mepoch_logs\u001b[0m\u001b[0;34m)\u001b[0m\u001b[0;34m\u001b[0m\u001b[0m\n",
      "\u001b[0;32m/usr/local/lib/python3.5/dist-packages/tensorflow/python/keras/engine/training.py\u001b[0m in \u001b[0;36mreset_metrics\u001b[0;34m(self)\u001b[0m\n\u001b[1;32m   1117\u001b[0m     \u001b[0;32mif\u001b[0m \u001b[0mhasattr\u001b[0m\u001b[0;34m(\u001b[0m\u001b[0mself\u001b[0m\u001b[0;34m,\u001b[0m \u001b[0;34m'metrics'\u001b[0m\u001b[0;34m)\u001b[0m\u001b[0;34m:\u001b[0m\u001b[0;34m\u001b[0m\u001b[0m\n\u001b[1;32m   1118\u001b[0m       \u001b[0;32mfor\u001b[0m \u001b[0mm\u001b[0m \u001b[0;32min\u001b[0m \u001b[0mself\u001b[0m\u001b[0;34m.\u001b[0m\u001b[0mmetrics\u001b[0m\u001b[0;34m:\u001b[0m\u001b[0;34m\u001b[0m\u001b[0m\n\u001b[0;32m-> 1119\u001b[0;31m         \u001b[0mm\u001b[0m\u001b[0;34m.\u001b[0m\u001b[0mreset_states\u001b[0m\u001b[0;34m(\u001b[0m\u001b[0;34m)\u001b[0m\u001b[0;34m\u001b[0m\u001b[0m\n\u001b[0m\u001b[1;32m   1120\u001b[0m       \u001b[0;32mif\u001b[0m \u001b[0mself\u001b[0m\u001b[0;34m.\u001b[0m\u001b[0m_distribution_strategy\u001b[0m\u001b[0;34m:\u001b[0m\u001b[0;34m\u001b[0m\u001b[0m\n\u001b[1;32m   1121\u001b[0m         \u001b[0mtraining_distributed\u001b[0m\u001b[0;34m.\u001b[0m\u001b[0m_reset_metrics\u001b[0m\u001b[0;34m(\u001b[0m\u001b[0mself\u001b[0m\u001b[0;34m)\u001b[0m  \u001b[0;31m# pylint: disable=protected-access\u001b[0m\u001b[0;34m\u001b[0m\u001b[0m\n",
      "\u001b[0;32m/usr/local/lib/python3.5/dist-packages/tensorflow/python/keras/metrics.py\u001b[0m in \u001b[0;36mreset_states\u001b[0;34m(self)\u001b[0m\n\u001b[1;32m    458\u001b[0m     \"\"\"\n\u001b[1;32m    459\u001b[0m     \u001b[0;32mfor\u001b[0m \u001b[0mv\u001b[0m \u001b[0;32min\u001b[0m \u001b[0mself\u001b[0m\u001b[0;34m.\u001b[0m\u001b[0mvariables\u001b[0m\u001b[0;34m:\u001b[0m\u001b[0;34m\u001b[0m\u001b[0m\n\u001b[0;32m--> 460\u001b[0;31m       \u001b[0mK\u001b[0m\u001b[0;34m.\u001b[0m\u001b[0mset_value\u001b[0m\u001b[0;34m(\u001b[0m\u001b[0mv\u001b[0m\u001b[0;34m,\u001b[0m \u001b[0;36m0\u001b[0m\u001b[0;34m)\u001b[0m\u001b[0;34m\u001b[0m\u001b[0m\n\u001b[0m\u001b[1;32m    461\u001b[0m \u001b[0;34m\u001b[0m\u001b[0m\n\u001b[1;32m    462\u001b[0m   \u001b[0;34m@\u001b[0m\u001b[0mabc\u001b[0m\u001b[0;34m.\u001b[0m\u001b[0mabstractmethod\u001b[0m\u001b[0;34m\u001b[0m\u001b[0m\n",
      "\u001b[0;32m/usr/local/lib/python3.5/dist-packages/tensorflow/python/keras/backend.py\u001b[0m in \u001b[0;36mset_value\u001b[0;34m(x, value)\u001b[0m\n\u001b[1;32m   2845\u001b[0m         \u001b[0mx\u001b[0m\u001b[0;34m.\u001b[0m\u001b[0m_assign_placeholder\u001b[0m \u001b[0;34m=\u001b[0m \u001b[0massign_placeholder\u001b[0m\u001b[0;34m\u001b[0m\u001b[0m\n\u001b[1;32m   2846\u001b[0m         \u001b[0mx\u001b[0m\u001b[0;34m.\u001b[0m\u001b[0m_assign_op\u001b[0m \u001b[0;34m=\u001b[0m \u001b[0massign_op\u001b[0m\u001b[0;34m\u001b[0m\u001b[0m\n\u001b[0;32m-> 2847\u001b[0;31m       \u001b[0mget_session\u001b[0m\u001b[0;34m(\u001b[0m\u001b[0;34m)\u001b[0m\u001b[0;34m.\u001b[0m\u001b[0mrun\u001b[0m\u001b[0;34m(\u001b[0m\u001b[0massign_op\u001b[0m\u001b[0;34m,\u001b[0m \u001b[0mfeed_dict\u001b[0m\u001b[0;34m=\u001b[0m\u001b[0;34m{\u001b[0m\u001b[0massign_placeholder\u001b[0m\u001b[0;34m:\u001b[0m \u001b[0mvalue\u001b[0m\u001b[0;34m}\u001b[0m\u001b[0;34m)\u001b[0m\u001b[0;34m\u001b[0m\u001b[0m\n\u001b[0m\u001b[1;32m   2848\u001b[0m \u001b[0;34m\u001b[0m\u001b[0m\n\u001b[1;32m   2849\u001b[0m \u001b[0;34m\u001b[0m\u001b[0m\n",
      "\u001b[0;32m/usr/local/lib/python3.5/dist-packages/tensorflow/python/client/session.py\u001b[0m in \u001b[0;36mrun\u001b[0;34m(self, fetches, feed_dict, options, run_metadata)\u001b[0m\n\u001b[1;32m    927\u001b[0m     \u001b[0;32mtry\u001b[0m\u001b[0;34m:\u001b[0m\u001b[0;34m\u001b[0m\u001b[0m\n\u001b[1;32m    928\u001b[0m       result = self._run(None, fetches, feed_dict, options_ptr,\n\u001b[0;32m--> 929\u001b[0;31m                          run_metadata_ptr)\n\u001b[0m\u001b[1;32m    930\u001b[0m       \u001b[0;32mif\u001b[0m \u001b[0mrun_metadata\u001b[0m\u001b[0;34m:\u001b[0m\u001b[0;34m\u001b[0m\u001b[0m\n\u001b[1;32m    931\u001b[0m         \u001b[0mproto_data\u001b[0m \u001b[0;34m=\u001b[0m \u001b[0mtf_session\u001b[0m\u001b[0;34m.\u001b[0m\u001b[0mTF_GetBuffer\u001b[0m\u001b[0;34m(\u001b[0m\u001b[0mrun_metadata_ptr\u001b[0m\u001b[0;34m)\u001b[0m\u001b[0;34m\u001b[0m\u001b[0m\n",
      "\u001b[0;32m/usr/local/lib/python3.5/dist-packages/tensorflow/python/client/session.py\u001b[0m in \u001b[0;36m_run\u001b[0;34m(self, handle, fetches, feed_dict, options, run_metadata)\u001b[0m\n\u001b[1;32m   1150\u001b[0m     \u001b[0;32mif\u001b[0m \u001b[0mfinal_fetches\u001b[0m \u001b[0;32mor\u001b[0m \u001b[0mfinal_targets\u001b[0m \u001b[0;32mor\u001b[0m \u001b[0;34m(\u001b[0m\u001b[0mhandle\u001b[0m \u001b[0;32mand\u001b[0m \u001b[0mfeed_dict_tensor\u001b[0m\u001b[0;34m)\u001b[0m\u001b[0;34m:\u001b[0m\u001b[0;34m\u001b[0m\u001b[0m\n\u001b[1;32m   1151\u001b[0m       results = self._do_run(handle, final_targets, final_fetches,\n\u001b[0;32m-> 1152\u001b[0;31m                              feed_dict_tensor, options, run_metadata)\n\u001b[0m\u001b[1;32m   1153\u001b[0m     \u001b[0;32melse\u001b[0m\u001b[0;34m:\u001b[0m\u001b[0;34m\u001b[0m\u001b[0m\n\u001b[1;32m   1154\u001b[0m       \u001b[0mresults\u001b[0m \u001b[0;34m=\u001b[0m \u001b[0;34m[\u001b[0m\u001b[0;34m]\u001b[0m\u001b[0;34m\u001b[0m\u001b[0m\n",
      "\u001b[0;32m/usr/local/lib/python3.5/dist-packages/tensorflow/python/client/session.py\u001b[0m in \u001b[0;36m_do_run\u001b[0;34m(self, handle, target_list, fetch_list, feed_dict, options, run_metadata)\u001b[0m\n\u001b[1;32m   1308\u001b[0m     \"\"\"\n\u001b[1;32m   1309\u001b[0m     \u001b[0;31m# pylint: disable=protected-access\u001b[0m\u001b[0;34m\u001b[0m\u001b[0;34m\u001b[0m\u001b[0m\n\u001b[0;32m-> 1310\u001b[0;31m     \u001b[0mfeeds\u001b[0m \u001b[0;34m=\u001b[0m \u001b[0mdict\u001b[0m\u001b[0;34m(\u001b[0m\u001b[0;34m(\u001b[0m\u001b[0mt\u001b[0m\u001b[0;34m.\u001b[0m\u001b[0m_as_tf_output\u001b[0m\u001b[0;34m(\u001b[0m\u001b[0;34m)\u001b[0m\u001b[0;34m,\u001b[0m \u001b[0mv\u001b[0m\u001b[0;34m)\u001b[0m \u001b[0;32mfor\u001b[0m \u001b[0mt\u001b[0m\u001b[0;34m,\u001b[0m \u001b[0mv\u001b[0m \u001b[0;32min\u001b[0m \u001b[0mfeed_dict\u001b[0m\u001b[0;34m.\u001b[0m\u001b[0mitems\u001b[0m\u001b[0;34m(\u001b[0m\u001b[0;34m)\u001b[0m\u001b[0;34m)\u001b[0m\u001b[0;34m\u001b[0m\u001b[0m\n\u001b[0m\u001b[1;32m   1311\u001b[0m     \u001b[0mfetches\u001b[0m \u001b[0;34m=\u001b[0m \u001b[0;34m[\u001b[0m\u001b[0mt\u001b[0m\u001b[0;34m.\u001b[0m\u001b[0m_as_tf_output\u001b[0m\u001b[0;34m(\u001b[0m\u001b[0;34m)\u001b[0m \u001b[0;32mfor\u001b[0m \u001b[0mt\u001b[0m \u001b[0;32min\u001b[0m \u001b[0mfetch_list\u001b[0m\u001b[0;34m]\u001b[0m\u001b[0;34m\u001b[0m\u001b[0m\n\u001b[1;32m   1312\u001b[0m     \u001b[0mtargets\u001b[0m \u001b[0;34m=\u001b[0m \u001b[0;34m[\u001b[0m\u001b[0mop\u001b[0m\u001b[0;34m.\u001b[0m\u001b[0m_c_op\u001b[0m \u001b[0;32mfor\u001b[0m \u001b[0mop\u001b[0m \u001b[0;32min\u001b[0m \u001b[0mtarget_list\u001b[0m\u001b[0;34m]\u001b[0m\u001b[0;34m\u001b[0m\u001b[0m\n",
      "\u001b[0;32m/usr/local/lib/python3.5/dist-packages/tensorflow/python/client/session.py\u001b[0m in \u001b[0;36m<genexpr>\u001b[0;34m(.0)\u001b[0m\n\u001b[1;32m   1308\u001b[0m     \"\"\"\n\u001b[1;32m   1309\u001b[0m     \u001b[0;31m# pylint: disable=protected-access\u001b[0m\u001b[0;34m\u001b[0m\u001b[0;34m\u001b[0m\u001b[0m\n\u001b[0;32m-> 1310\u001b[0;31m     \u001b[0mfeeds\u001b[0m \u001b[0;34m=\u001b[0m \u001b[0mdict\u001b[0m\u001b[0;34m(\u001b[0m\u001b[0;34m(\u001b[0m\u001b[0mt\u001b[0m\u001b[0;34m.\u001b[0m\u001b[0m_as_tf_output\u001b[0m\u001b[0;34m(\u001b[0m\u001b[0;34m)\u001b[0m\u001b[0;34m,\u001b[0m \u001b[0mv\u001b[0m\u001b[0;34m)\u001b[0m \u001b[0;32mfor\u001b[0m \u001b[0mt\u001b[0m\u001b[0;34m,\u001b[0m \u001b[0mv\u001b[0m \u001b[0;32min\u001b[0m \u001b[0mfeed_dict\u001b[0m\u001b[0;34m.\u001b[0m\u001b[0mitems\u001b[0m\u001b[0;34m(\u001b[0m\u001b[0;34m)\u001b[0m\u001b[0;34m)\u001b[0m\u001b[0;34m\u001b[0m\u001b[0m\n\u001b[0m\u001b[1;32m   1311\u001b[0m     \u001b[0mfetches\u001b[0m \u001b[0;34m=\u001b[0m \u001b[0;34m[\u001b[0m\u001b[0mt\u001b[0m\u001b[0;34m.\u001b[0m\u001b[0m_as_tf_output\u001b[0m\u001b[0;34m(\u001b[0m\u001b[0;34m)\u001b[0m \u001b[0;32mfor\u001b[0m \u001b[0mt\u001b[0m \u001b[0;32min\u001b[0m \u001b[0mfetch_list\u001b[0m\u001b[0;34m]\u001b[0m\u001b[0;34m\u001b[0m\u001b[0m\n\u001b[1;32m   1312\u001b[0m     \u001b[0mtargets\u001b[0m \u001b[0;34m=\u001b[0m \u001b[0;34m[\u001b[0m\u001b[0mop\u001b[0m\u001b[0;34m.\u001b[0m\u001b[0m_c_op\u001b[0m \u001b[0;32mfor\u001b[0m \u001b[0mop\u001b[0m \u001b[0;32min\u001b[0m \u001b[0mtarget_list\u001b[0m\u001b[0;34m]\u001b[0m\u001b[0;34m\u001b[0m\u001b[0m\n",
      "\u001b[0;31mKeyboardInterrupt\u001b[0m: "
     ]
    }
   ],
   "source": [
    "import datetime as dt\n",
    "X_test = []\n",
    "\n",
    "total_found = 0\n",
    "total = 0\n",
    "long_range = 300\n",
    "\n",
    "hits_total = mc_hits[mc_hits[:,13] < event_threshold]\n",
    "\n",
    "for particle in hits_total:\n",
    "    \n",
    "    if (len(particle[5]) > 1):\n",
    "        \n",
    "        found_bool = 0\n",
    "        found_layers = np.zeros(3)\n",
    "        # Extract only 12 hits, as some of them are really close\n",
    "        zone = particle[12][0]\n",
    "        X_final = {}\n",
    "        actual = -1\n",
    "        \n",
    "        for i in range(0, len(particle[5])):\n",
    "            if (actual != particle[8][i]):\n",
    "                X_final[particle[8][i]] = []\n",
    "                X_final[particle[8][i]].append(particle[5][i])\n",
    "                actual = particle[8][i]\n",
    "            else:\n",
    "                X_final[actual].append(particle[5][i])\n",
    "                \n",
    "        if (not 0 in X_final):\n",
    "            continue\n",
    "            \n",
    "        predicted = (xlayer_model.predict(np.array([X_final[0][0], 0]).reshape(1,-1)))[0]\n",
    "        \n",
    "        print(predicted)\n",
    "        \n",
    "        if (4 in X_final):\n",
    "            found = list(idx[particle[13]].intersection((predicted[3] - long_range, predicted[3] + long_range, 4, 4,zone,zone),objects='raw'))\n",
    "            found_layer4 = sorted(found, key=lambda x: np.abs(x - predicted[3]))[:10]\n",
    "            found_bool += 1\n",
    "        \n",
    "        if (3 in X_final):\n",
    "            found = list(idx[particle[13]].intersection((predicted[2] - long_range, predicted[2] + long_range, 3, 3, zone, zone),objects='raw'))\n",
    "            found_layer3 = sorted(found, key=lambda x: np.abs(x - predicted[2]))[:10]\n",
    "            found_bool += 1\n",
    "            \n",
    "        if (2 in X_final):\n",
    "            found = list(idx[particle[13]].intersection((predicted[1] - long_range, predicted[1] + long_range, 2, 2, zone,zone),objects='raw'))\n",
    "            found_layer2 = sorted(found, key=lambda x: np.abs(x - predicted[1]))[:10]\n",
    "            found_bool += 1\n",
    "        \n",
    "        if (1 in X_final):\n",
    "            found = list(idx[particle[13]].intersection((predicted[0] - long_range, predicted[0] + long_range, 1, 1,zone,zone),objects='raw'))\n",
    "            found_layer1 = sorted(found, key=lambda x: np.abs(x - predicted[0]))[:10]\n",
    "            found_bool += 1\n",
    "            \n",
    "        if (found_bool == 4):\n",
    "            retries = 0\n",
    "            \n",
    "            valid_list = []\n",
    "            max_val = 0\n",
    "            for h4 in found_layer4:\n",
    "                for h3 in found_layer3:\n",
    "                    for h2 in found_layer2:\n",
    "                        for h1 in found_layer1:\n",
    "                            pred = (track_classifier.predict(np.array([X_final[0][0], h1, h2, h3, h4]).reshape(1,-1))[0])[0]\n",
    "                            if pred > max_val:\n",
    "                                valid = [X_final[0][0], h1, h2, h3, h4]\n",
    "                                max_val = pred\n",
    "            \n",
    "            if valid[1] in X_final[1] and valid[2] in X_final[2] and valid[3] in X_final[3] and valid[4] in X_final[4]:\n",
    "                total_found += 1\n",
    "                \n",
    "            print(total/354)\n",
    "            print(total_found/354)\n",
    "            #print(total_found/354)\n",
    "            #print(total_val)\n",
    "            #print('\\n')\n",
    "            \n",
    "        total += 1\n",
    "\n",
    "print(\"Mean found %f\" % (total_found/total))\n",
    "print(\"Total %d\" % total)"
   ]
  },
  {
   "cell_type": "code",
   "execution_count": null,
   "metadata": {},
   "outputs": [],
   "source": []
  }
 ],
 "metadata": {
  "kernelspec": {
   "display_name": "Python 3",
   "language": "python",
   "name": "python3"
  },
  "language_info": {
   "codemirror_mode": {
    "name": "ipython",
    "version": 3
   },
   "file_extension": ".py",
   "mimetype": "text/x-python",
   "name": "python",
   "nbconvert_exporter": "python",
   "pygments_lexer": "ipython3",
   "version": "3.5.2"
  }
 },
 "nbformat": 4,
 "nbformat_minor": 2
}
