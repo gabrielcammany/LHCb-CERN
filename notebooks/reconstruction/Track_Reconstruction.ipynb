{
 "cells": [
  {
   "cell_type": "code",
   "execution_count": 1,
   "metadata": {},
   "outputs": [
    {
     "name": "stderr",
     "output_type": "stream",
     "text": [
      "Using TensorFlow backend.\n"
     ]
    }
   ],
   "source": [
    "from mpl_toolkits.mplot3d import Axes3D\n",
    "from rtree import index\n",
    "import xgboost as xgb\n",
    "import pickle\n",
    "from tensorflow import keras\n",
    "import matplotlib.pyplot as plt\n",
    "import numpy as np\n",
    "import pandas as pd\n",
    "import math\n",
    "\n",
    "import keras\n",
    "from keras.models import load_model\n",
    "from keras.utils import CustomObjectScope\n",
    "from keras.initializers import glorot_uniform\n",
    "\n",
    "from sklearn.model_selection import train_test_split\n",
    "from sklearn.model_selection import cross_val_score\n",
    "from sklearn.model_selection import KFold\n",
    "from sklearn.pipeline import Pipeline\n",
    "from sklearn.preprocessing import MinMaxScaler\n",
    "from tensorflow.python.keras.models import Sequential\n",
    "from tensorflow.python.keras.layers import Dense\n",
    "from tensorflow.python.keras.wrappers.scikit_learn import KerasRegressor"
   ]
  },
  {
   "cell_type": "code",
   "execution_count": 2,
   "metadata": {},
   "outputs": [],
   "source": [
    "%store -r mc_data"
   ]
  },
  {
   "cell_type": "code",
   "execution_count": 3,
   "metadata": {},
   "outputs": [
    {
     "name": "stdout",
     "output_type": "stream",
     "text": [
      "0   MCParticleID\n",
      "1   MC_Hit_X\n",
      "2   MC_Hit_Y\n",
      "3   MC_Hit_Z\n",
      "4   PrHit_LHCbID\n",
      "5   PrHit_Xat0\n",
      "6   PrHit_Zat0\n",
      "7   PrHit_isX\n",
      "8   PrHit_planeCode\n",
      "9   PrHit_w2\n",
      "10   PrHit_yMax\n",
      "11   PrHit_yMin\n",
      "12   PrHit_zone\n",
      "13   event\n",
      "14   hasT\n",
      "15   isInUT\n",
      "16   isInVelo\n",
      "17   isLong\n",
      "18   isLong_fromB\n",
      "19   isLong_fromB_more5\n",
      "20   isLong_more5\n"
     ]
    }
   ],
   "source": [
    "###### Data columns\n",
    "i = 0\n",
    "for val in mc_data.columns:\n",
    "    print(i,\" \",val)\n",
    "    i = i + 1"
   ]
  },
  {
   "cell_type": "code",
   "execution_count": 4,
   "metadata": {},
   "outputs": [],
   "source": [
    "mc_hits = mc_data.values"
   ]
  },
  {
   "cell_type": "code",
   "execution_count": 5,
   "metadata": {},
   "outputs": [
    {
     "name": "stdout",
     "output_type": "stream",
     "text": [
      "WARNING:tensorflow:From /home/xps/python_venvs/tfg/lib/python3.7/site-packages/tensorflow/python/framework/op_def_library.py:263: colocate_with (from tensorflow.python.framework.ops) is deprecated and will be removed in a future version.\n",
      "Instructions for updating:\n",
      "Colocations handled automatically by placer.\n",
      "WARNING:tensorflow:From /home/xps/python_venvs/tfg/lib/python3.7/site-packages/tensorflow/python/ops/math_ops.py:3066: to_int32 (from tensorflow.python.ops.math_ops) is deprecated and will be removed in a future version.\n",
      "Instructions for updating:\n",
      "Use tf.cast instead.\n"
     ]
    }
   ],
   "source": [
    "with CustomObjectScope({'GlorotUniform': glorot_uniform()}):\n",
    "        xlayer_model = load_model('./models/xlayer_model.h5')"
   ]
  },
  {
   "cell_type": "code",
   "execution_count": 61,
   "metadata": {},
   "outputs": [],
   "source": [
    "with CustomObjectScope({'GlorotUniform': glorot_uniform()}):\n",
    "        tracks_classifier = load_model('./models/track_classifier_all_stations_v2.h5')"
   ]
  },
  {
   "cell_type": "code",
   "execution_count": 7,
   "metadata": {},
   "outputs": [],
   "source": [
    "%store -r zLays\n",
    "%store -r max_x\n",
    "%store -r min_x\n",
    "%store -r max_y\n",
    "%store -r min_y\n",
    "%store -r events"
   ]
  },
  {
   "cell_type": "code",
   "execution_count": 8,
   "metadata": {
    "scrolled": true
   },
   "outputs": [
    {
     "name": "stdout",
     "output_type": "stream",
     "text": [
      "[15837 15838 15839 15840 15841 15842 15843 15844 15845 15846 15847 15848\n",
      " 15849 15850 15851 15852 15853 15854 15855 15856 15857 15858 15859 15860\n",
      " 15861 15862 15863 15864 15865 15866 15867 15868 15869 15870 15871 15872\n",
      " 15873 15874 15875 15876 15877 15878 15879 15880 15881 15882 15883 15884\n",
      " 15885 15886 15887 15888 15889 15890 15891 15892 15893 15894 15895 15896\n",
      " 15897 15898 15899 15900 15901 15902 15903 15904 15905 15906 15907 15908\n",
      " 15909 15910 15911 15912 15913 15914 15915 15916 15917 15918 15919 15920\n",
      " 15921 15922 15923 15924 15925 15926 15927 15928 15929 15930 15931 15932\n",
      " 15933 15934 15935 15936 15937 15938 15939 15940 15941 17909 17910 17911\n",
      " 17912 17913 17914 17915 17916 17917 17918 17919 17920 17921 17922 17923\n",
      " 17924 17925 17926 17927 17928 17929 17930 17931 17932 17933 17934 17935\n",
      " 17936 17937 17938 17939 17940 17941 17942 17943 17944 17945 17946 17947\n",
      " 17948 17949 17950 17951 17952 17953 17954 17955 17956 17957 17958 17959\n",
      " 17960 17961 17962 17963 17964 17965 17966 17967 17968 17969 17970 17971\n",
      " 17972 17973 17974 17975 17976 17977 17978 17979 17980 17981 17982 17983\n",
      " 17984 17985 17986 17987 17988 18649 18650 18651 18652 18653 18654 18655\n",
      " 18656 18657 18658 18659 18660 18661 18662 18663 18664 18665 18666 18667\n",
      " 18668 18669 18670 18671 18672 18673 18674 18675 18676 18677 18678 18679\n",
      " 18680 18681 18682 18683 18684 18685 18686 18687 18688 18689 18690 18691\n",
      " 18692 18693 18694 18695 18696 18697 18698 18699 18700 18701 18702 18703\n",
      " 18704 18705 18706 18707 18708 18709 18710 18711 18712 18713 18714 18715\n",
      " 18716 18717 18718 18719 18720 18721 18722 18723 18724 18725 21313 21314\n",
      " 21315 21316 21317 21318 21319 21320 21321 21322 21323 21324 21325 21326\n",
      " 21327 21328 21329 21330 21331 21332 21333 21334 21335 21336 21337 21338\n",
      " 21339 21340 21341 21342 21343 21344 21345 21346 21347 21348 21349 21350\n",
      " 21351 21352 21353 21354 21355 21356 21357 21358 21359 21360 21361 21362\n",
      " 21363 21364 21365 21366 21367 21368 21369 21370 21371 21372 21373 21374\n",
      " 21375 21376 21377 21378 21379 21380 21381 21382 21383 21384 21385 21386\n",
      " 21387 21388 21389 21390 21391 21392 21393 21394 21395 21396 21397 21398\n",
      " 21399 21400 21401 21402 21403 21404 21405 21406 21905 21906 21907 21908\n",
      " 21909 21910 21911 21912 21913 21914 21915 21916 21917 21918 21919 21920\n",
      " 21921 21922 21923 21924 21925 21926 21927 21928 21929 21930 21931 21932\n",
      " 21933 21934 21935 21936 21937 21938 21939 21940 21941 21942 21943 21944\n",
      " 21945 21946 21947 21948 21949 21950 21951 21952 21953 21954 21955 21956\n",
      " 21957 21958 21959 21960 21961 21962 21963 21964 21965 21966 21967 21968\n",
      " 22349 22350 22351 22352 22353 22354 22355 22356 22357 22358 22359 22360\n",
      " 22361 22362 22363 22364 22365 22366 22367 22368 22369 22370 22371 22372\n",
      " 22373 22374 22375 22376 22377 22378 22379 22380 22381 22382 22383 22384\n",
      " 22385 22386 22387 22388 22389 22390 22391 22392 22393 22394 22395 22396\n",
      " 22397 22398 22399 22400 22401 22402 22403 22404 22405 22406 22407 22408\n",
      " 22409 22410 22411 22412 22413 22414 22415 22416 22417 22418 22419 22420\n",
      " 22421 22422 22423 22424 22425 22426 22427 22428 22429 22430 22431 22432\n",
      " 22433 22434 22435 22436 22437 22438 22439 22440 23237 23238 23239 23240\n",
      " 23241 23242 23243 23244 23245 23246 23247 23248 23249 23250 23251 23252\n",
      " 23253 23254 23255 23256 23257 23258 23259 23260 23261 23262 23263 23264\n",
      " 23265 23266 23267 23268 23269 23270 23271 23272 23273 23274 23275 23276\n",
      " 23277 23278 23279 23280 23281 23282 23283 23284 23285 23286 23287 23288\n",
      " 23289 23290 23291 23292 23293 23294 23295 23296 23297 23298 23299 23300\n",
      " 23301 23302 23303 23304 23305 23306 23307 23308 23309 23310 23311 23312\n",
      " 23313 23314 23315 23316 24717 24718 24719 24720 24721 24722 24723 24724\n",
      " 24725 24726 24727 24728 24729 24730 24731 24732 24733 24734 24735 24736\n",
      " 24737 24738 24739 24740 24741 24742 24743 24744 24745 24746 24747 24748\n",
      " 24749 24750 24751 24752 24753 24754 24755 24756 24757 24758 24759 24760\n",
      " 24761 24762 24763 24764 24765 24766 24767 24768 24769 24770 24771 24772\n",
      " 24773 24774 24775 24776 24777 24778 24779 24780 24781 24782 24783 24784\n",
      " 24785 24786 24787 24788 24789 24790 24791 24792 24793 24794 60829 60830\n",
      " 60831 60832 60833 60834 60835 60836 60837 60838 60839 60840 60841 60842\n",
      " 60843 60844 60845 60846 60847 60848 60849 60850 60851 60852 60853 60854\n",
      " 60855 60856 60857 60858 60859 60860 60861 60862 60863 60864 60865 60866\n",
      " 60867 60868 60869 60870 60871 60872 60873 60874 60875 60876 60877 60878\n",
      " 60879 60880 60881 60882 60883 60884 60885 60886 60887 60888 60889 60890\n",
      " 60891 60892 60893 60894 60895 60896 60897 60898 60899 60900 60901 60902\n",
      " 60903 60904 60905 60906 60907 60908 60909 60910 60911 60912 60913 60914\n",
      " 60915 60916 60917 60918 60919 60920 60921 60922 60923 60924 60925 60926\n",
      " 60927 60928 60929 60930 60931 60932 60933 60934 60935 60936 60937 60938\n",
      " 60939 60940 60941 60942 60943 60944 60945 60946 60947 60948 60949 60950\n",
      " 60951 60952 60953 60954 60955 60956 60957 60958 60959 60960 60961 60962\n",
      " 60963 60964 60965 60966 60967 60968 60969 60970 60971 60972 60973 60974\n",
      " 60975 60976 63789 63790 63791 63792 63793 63794 63795 63796 63797 63798\n",
      " 63799 63800 63801 63802 63803 63804 63805 63806 63807 63808 63809 63810\n",
      " 63811 63812 63813 63814 63815 63816 63817 63818 63819 63820 63821 63822\n",
      " 63823 63824 63825 63826 63827 63828 63829 63830 63831 63832 63833 63834\n",
      " 63835 63836 63837 63838 63839 63840 63841 63842 63843 63844 63845 63846\n",
      " 63847 63848 63849 63850 63851 63852 63853 63854 63855 63856 63857 63858\n",
      " 63859 63860 63861 63862 63863 63864 63865 63866 63867 63868 63869 63870\n",
      " 63871 63872 63873 63874 63875 63876 63877 63878 63879 63880 63881 63882\n",
      " 63883 63884 63885 63886 63887 63888 63889 63890 63891 63892 63893 63894\n",
      " 63895 63896 63897 63898 63899]\n"
     ]
    }
   ],
   "source": [
    "print(events)"
   ]
  },
  {
   "cell_type": "code",
   "execution_count": 9,
   "metadata": {},
   "outputs": [],
   "source": [
    "def histogram(data, color, min, max, title, x_axis, y_axis):\n",
    "    fig = plt.figure(figsize=(19, 10))\n",
    "    ax = fig.add_subplot(111)\n",
    "    \n",
    "    textstr = '$\\mu=%.3f$\\n$\\sigma=%.3f$\\n$n=%.0f$'%(np.mean(np.array(data)), np.std(np.array(data)), len(data))\n",
    "\n",
    "    # these are matplotlib.patch.Patch properties\n",
    "    props = dict(boxstyle='round', facecolor='white', alpha=0.8)\n",
    "\n",
    "    # place a text box in upper left in axes coords\n",
    "    ax.text(0.05, 0.95, textstr, transform=ax.transAxes, fontsize=18,\n",
    "            verticalalignment='top', bbox=props)\n",
    "\n",
    "    n, bins, patches = plt.hist(data, 100, facecolor=color, range=(min,max))\n",
    "    ax.set_title('%s\\n' % title)\n",
    "    ax.set_xlabel(x_axis)\n",
    "    ax.set_ylabel(y_axis)\n",
    "    ax.grid()\n",
    "    plt.show()"
   ]
  },
  {
   "cell_type": "code",
   "execution_count": 10,
   "metadata": {},
   "outputs": [],
   "source": [
    "def predictHeight(x0, x3, x_stereo, stereo_layer, first_layer, last_layer):\n",
    "    \n",
    "    z_stereo = zLays[stereo_layer]\n",
    "    \n",
    "    if (stereo_layer % 2 != 0):\n",
    "        angle = 5\n",
    "    else:\n",
    "        angle = -5\n",
    "        \n",
    "    m = float(zLays[last_layer] - zLays[first_layer]) / float(x3 - x0)\n",
    "    n = zLays[last_layer] - (m * x3)\n",
    "    \n",
    "    x_pred = (z_stereo - n) / m \n",
    "    beta = (x_pred - x_stereo) / (math.radians(angle) * z_stereo)\n",
    "    return math.tan(beta) * z_stereo"
   ]
  },
  {
   "cell_type": "code",
   "execution_count": 11,
   "metadata": {},
   "outputs": [],
   "source": [
    "def selectValidTrack(valid_tracks):\n",
    "    \n",
    "    selected = None\n",
    "    if (len(valid_tracks) > 1):\n",
    "        for track in valid_tracks:\n",
    "            found = 0\n",
    "            for other_track in valid_tracks:\n",
    "                if (track[0][4][0] in other_track[0][4]):\n",
    "                    found += 1\n",
    "                if (track[0][4][1] in other_track[0][4]):\n",
    "                    found += 1\n",
    "                if (track[0][4][2] in other_track[0][4]):\n",
    "                    found += 1\n",
    "                if (track[1][4][0] in other_track[1][4]):\n",
    "                    found += 1\n",
    "                if (track[1][4][1] in other_track[1][4]):\n",
    "                    found += 1\n",
    "                if (track[1][4][2] in other_track[1][4]):\n",
    "                    found += 1\n",
    "                if (track[2][4][0] in other_track[2][4]):\n",
    "                    found += 1\n",
    "                if (track[2][4][1] in other_track[2][4]):\n",
    "                    found += 1\n",
    "                if (track[2][4][2] in other_track[2][4]):\n",
    "                    found += 1\n",
    "                if (found > 5):\n",
    "                    valid_tracks.remove(other_track);\n",
    "        if (len(valid_tracks) < 2):\n",
    "            selected = valid_tracks[0]\n",
    "        \n",
    "    return selected"
   ]
  },
  {
   "cell_type": "code",
   "execution_count": 12,
   "metadata": {},
   "outputs": [],
   "source": [
    "def validateTrack(track, particle):\n",
    "    found = 0\n",
    "    if (not track is None):\n",
    "        for station in track:\n",
    "            for id in station[4]:\n",
    "                if id in particle[4]:\n",
    "                    found += 1\n",
    "                \n",
    "    return (found > 5)"
   ]
  },
  {
   "cell_type": "code",
   "execution_count": 13,
   "metadata": {},
   "outputs": [],
   "source": [
    "def selectValidTrack_NN(valid_tracks):\n",
    "    max = 0\n",
    "    selected = None\n",
    "    if (len(valid_tracks) > 0):\n",
    "        selected = valid_tracks[0]\n",
    "        for track in valid_tracks:\n",
    "            pred = tracks_classifier.predict(np.array(track[0][:4] + track[1][:4] + track[2][:4]).reshape(1,-1))\n",
    "            if (pred > max):\n",
    "                max = pred\n",
    "                selected = track\n",
    "    return selected"
   ]
  },
  {
   "cell_type": "code",
   "execution_count": 74,
   "metadata": {},
   "outputs": [],
   "source": [
    "#\n",
    "# Test the NN model by using events not feeded as train \n",
    "#\n",
    "\n",
    "def trackReconstruction(particles_test_event, index_tree):\n",
    "    \n",
    "    # Variables used for calculating metrics\n",
    "    total_found = 0\n",
    "    total = 0\n",
    "    ghost = 0\n",
    "    mean_size = np.zeros(3)\n",
    "    \n",
    "    # Variable defining the maximum number of hits gathered from the R-trees when using the predicted value from the NN\n",
    "    max_hits_gathered = 12\n",
    "\n",
    "    # Range in which valid hits are look up in the first R-tree\n",
    "    long_range = 300\n",
    "    \n",
    "    X_real_data = []\n",
    "    X_fake_data = []\n",
    "\n",
    "    # For each particle of a given event\n",
    "    for particle in particles_test_event:\n",
    "        \n",
    "        # Sometimes there are no PrHits for a given particle, so skip these ones\n",
    "        if (len(particle[5]) > 1) and (particle[0] != 11) and (particle[0] != -11) and particle[20]:\n",
    "            \n",
    "            found_num = 0            \n",
    "            X_final = {}\n",
    "            Zone_final = {}\n",
    "            actual = -1\n",
    "\n",
    "            # Extract all PrHits\n",
    "            for i in range(0, len(particle[5])):\n",
    "                if (actual != particle[8][i]):\n",
    "                    X_final[particle[8][i]] = []\n",
    "                    X_final[particle[8][i]].append(particle[5][i])\n",
    "                    Zone_final[particle[8][i]] = particle[12][i]\n",
    "                    actual = particle[8][i]\n",
    "                    found_num += 1\n",
    "                else:\n",
    "                    X_final[actual].append(particle[5][i])\n",
    "\n",
    "            # Check if there are minimum 12 hits found, as for the test, I am only working with complete tracks\n",
    "            if (found_num < 12):\n",
    "                continue\n",
    "            \n",
    "            # List used to iterate over valid height found later on\n",
    "            valid_y = {}\n",
    "            \n",
    "            # For each station\n",
    "            for station in range(0,3):\n",
    "                \n",
    "                valid_y[station] = []\n",
    "                \n",
    "                # Compute the layer number based on station\n",
    "                x0_layer = 0\n",
    "                if (station == 1):\n",
    "                    x0_layer = 4\n",
    "                elif station == 2:\n",
    "                    x0_layer = 8\n",
    "\n",
    "                u_layer = x0_layer + 1\n",
    "                v_layer = x0_layer + 2\n",
    "                x1_layer = x0_layer + 3\n",
    "                \n",
    "                # Select both the first X position and UP/DOWN based on this\n",
    "                first_hit = X_final[x0_layer][0]\n",
    "                zone = Zone_final[x0_layer]\n",
    "\n",
    "                # Predict all 3 following points based on the first hit selected\n",
    "                predicted = (xlayer_model.predict(np.array([first_hit, x0_layer]).reshape(1,-1)))[0]\n",
    "                mean_predicted = ((first_hit + predicted[0] + predicted[1] + predicted[2]) / 4)\n",
    "\n",
    "                # Recolect all nearest hits from each layer using R-trees based on the X-position of the mean predicted\n",
    "                if (x1_layer in X_final):\n",
    "                    found = list(index_tree.nearest((mean_predicted - long_range, mean_predicted + long_range, x1_layer, x1_layer, zone, zone), objects='raw'))\n",
    "                    found_layer3 = sorted(found, key=lambda x: np.abs(x[0]- mean_predicted))[:max_hits_gathered]\n",
    "                    arr_layer3 = np.unique(np.array(found_layer3), axis=0)\n",
    "\n",
    "                if (v_layer in X_final):\n",
    "                    found = list(index_tree.nearest((mean_predicted - long_range, mean_predicted + long_range, v_layer, v_layer, zone, zone), objects='raw'))\n",
    "                    found_layer2 = sorted(found, key=lambda x: np.abs(x[0] - mean_predicted))[:max_hits_gathered]\n",
    "                    arr_layer2 = np.unique(np.array(found_layer2), axis=0)\n",
    "                    \n",
    "                if (u_layer in X_final):\n",
    "                    found = list(index_tree.nearest((mean_predicted - long_range, mean_predicted + long_range, u_layer, u_layer, zone, zone), objects='raw'))\n",
    "                    found_layer1 = sorted(found, key=lambda x: np.abs(x[0] - mean_predicted))[:max_hits_gathered]\n",
    "                    arr_layer1 = np.unique(np.array(found_layer1), axis=0)\n",
    "\n",
    "                # Now, for each hit found in the last layer, as it is the one with most precision, \n",
    "                # tracks are searched\n",
    "                for h3 in arr_layer3:\n",
    "                    \n",
    "                    # Sometimes a hit in the last layer is equal to the first one\n",
    "                    if (h3[0] == first_hit):\n",
    "                        continue\n",
    "                        \n",
    "                    for h2 in arr_layer2:\n",
    "                                                    \n",
    "                        # Predict height for each hit selected in the V layer\n",
    "                        pred_h2 = predictHeight(first_hit, h3[0], h2[0], v_layer, x0_layer, x1_layer)\n",
    "                        if (pred_h2 > 0) and (pred_h2 > max_y) or (pred_h2 < 0) and (pred_h2 < min_y):\n",
    "                            continue\n",
    "                        \n",
    "                        # And for each hit in the V layer, we look up at hits in the U layer with the same height\n",
    "                        for h1 in arr_layer1:\n",
    "                            \n",
    "                            # Predict height for hit in the U layer\n",
    "                            pred_h1 = predictHeight(first_hit, h3[0], h1[0], u_layer, x0_layer, x1_layer)\n",
    "                            if (pred_h1 > 0) and (pred_h1 > max_y) or (pred_h1 < 0) and (pred_h1 < min_y):\n",
    "                                continue\n",
    "                            \n",
    "                            #if (h3[1] in particle[4] and h2[1] in particle[4] and h1[1] in particle[4]):\n",
    "                            #    X_real_data.append(np.abs(pred_h2 - pred_h1))\n",
    "                                \n",
    "                            # Compare then, if the combination of U+V+X makes sense based on the height.\n",
    "                            # As they usually have a slight difference between them, so only if the height is similar\n",
    "                            # it is considered a valid track\n",
    "                            if np.abs(pred_h2 - pred_h1) < 15.5:\n",
    "                                # Insert into a new R-tree to enable search by height\n",
    "                                # Store the valid height for later iterate over it\n",
    "                                valid_y[station].append([h1[0], h2[0], h3[0], pred_h2, (h1[1],h2[1],h3[1])])\n",
    "            \n",
    "            valid_tracks = []\n",
    "            for val in valid_y[0]:\n",
    "                if (len(valid_y[1]) > 0 and len(valid_y[2]) > 0):\n",
    "                    second_sort = sorted(valid_y[1], key = lambda p: np.abs(p[3] - val[3]))\n",
    "                    #if (second_sort[0][4][0] in particle[4] and second_sort[0][4][1] in particle[4] and second_sort[0][4][2] in particle[4]):\n",
    "                    #    X_real_data.append((second_sort[0][3] - val[3]))\n",
    "                    #else:\n",
    "                    #    X_fake_data.append((second_sort[0][3] - val[3]))\n",
    "                    if (np.abs(second_sort[0][3] - val[3]) < 120):\n",
    "                        third_sort = sorted(valid_y[2], key = lambda p: np.abs(p[3] - second_sort[0][3]))\n",
    "                        if (third_sort[0][4][0] in particle[4] and third_sort[0][4][1] in particle[4] and third_sort[0][4][2] in particle[4]):\n",
    "                            X_real_data.append(third_sort[0][3] - second_sort[0][3])\n",
    "                        else:\n",
    "                            X_fake_data.append(third_sort[0][3] - second_sort[0][3])\n",
    "                        if np.abs(third_sort[0][3] - second_sort[0][3]) < 100:\n",
    "                            valid_tracks.append([val, second_sort[0], third_sort[0]])\n",
    "            \n",
    "            \n",
    "            track = selectValidTrack_NN(valid_tracks)\n",
    "            if (validateTrack(track, particle)):\n",
    "                total_found += 1\n",
    "            elif not track is None:\n",
    "                ghost += 1\n",
    "                \n",
    "            total += 1\n",
    "\n",
    "    #print(\"\\nMean Total Found: %f\" % (total_found/total))\n",
    "    #print(\"\\nMean Size: %f\" % (mean_size[0]/total))\n",
    "    return (total_found/total, ghost/total, X_real_data, X_fake_data)\n",
    "    "
   ]
  },
  {
   "cell_type": "code",
   "execution_count": null,
   "metadata": {
    "scrolled": true
   },
   "outputs": [
    {
     "name": "stdout",
     "output_type": "stream",
     "text": [
      "Event 1/20 \t Acc: 1.000000 Ghost: 0.000000\n",
      "Event 2/20 \t Acc: 0.961538 Ghost: 0.000000\n",
      "Event 3/20 \t Acc: 0.913043 Ghost: 0.000000\n",
      "Event 4/20 \t Acc: 0.947368 Ghost: 0.000000\n",
      "Event 5/20 \t Acc: 0.921053 Ghost: 0.026316\n",
      "Event 6/20 \t Acc: 1.000000 Ghost: 0.000000\n",
      "Event 7/20 \t Acc: 0.928571 Ghost: 0.000000\n",
      "Event 8/20 \t Acc: 1.000000 Ghost: 0.000000\n",
      "Event 9/20 \t Acc: 1.000000 Ghost: 0.000000\n",
      "Event 10/20 \t Acc: 0.882353 Ghost: 0.058824\n",
      "Event 11/20 \t Acc: 1.000000 Ghost: 0.000000\n",
      "Event 12/20 \t Acc: 0.933333 Ghost: 0.000000\n",
      "Event 13/20 \t Acc: 1.000000 Ghost: 0.000000\n",
      "Event 14/20 \t Acc: 1.000000 Ghost: 0.000000\n",
      "Event 15/20 \t Acc: 0.954545 Ghost: 0.000000\n",
      "Event 16/20 \t Acc: 1.000000 Ghost: 0.000000\n",
      "Event 17/20 \t Acc: 0.961538 Ghost: 0.038462\n"
     ]
    }
   ],
   "source": [
    "mean = done = ghosts = 0\n",
    "test_events = events[:20]\n",
    "\n",
    "p = index.Property()\n",
    "p.dimension = 3\n",
    "X_real_data = []\n",
    "X_fake_data = []\n",
    "\n",
    "for event in test_events:\n",
    "    particles_test_event = mc_hits[mc_hits[:,13] == event]\n",
    "    mean_val = size_val = 0\n",
    "    \n",
    "    index_tree = index.Index(properties=p, interleaved=False)\n",
    "    \n",
    "    for hit in particles_test_event:\n",
    "        if (len(hit[5]) > 1) and (hit[0] != 11) and (hit[0] != -11) and hit[20]:\n",
    "            for i in range(0,len(hit[5])):\n",
    "                index_tree.insert(int(hit[4][i]), (float(hit[5][i]), float(hit[5][i]), hit[8][i], hit[8][i], hit[12][i], hit[12][i]), [float(hit[5][i]), int(hit[4][i])])\n",
    "\n",
    "    mean_val, ghost_val, X1, X2 = trackReconstruction(particles_test_event, index_tree)\n",
    "    \n",
    "    mean += mean_val\n",
    "    ghosts += ghost_val\n",
    "    done += 1\n",
    "    \n",
    "    X_real_data += X1\n",
    "    X_fake_data += X2\n",
    "    \n",
    "    print(\"Event %d/%d \\t Acc: %f Ghost: %f\" % (done,len(test_events), mean_val, ghost_val))\n",
    "    \n",
    "print(\"\\nFinal Result:\")\n",
    "print(\"\\t Mean: %f\" % (mean/len(test_events)))\n",
    "print(\"\\t Ghosts: %f\" % (ghosts/len(test_events)))"
   ]
  },
  {
   "cell_type": "code",
   "execution_count": 32,
   "metadata": {},
   "outputs": [
    {
     "data": {
      "image/png": "[encoded data removed]",
      "text/plain": [
       "<Figure size 1368x720 with 1 Axes>"
      ]
     },
     "metadata": {
      "needs_background": "light"
     },
     "output_type": "display_data"
    }
   ],
   "source": [
    "histogram(X_real_data, 'blue', -100, 100, '','','')"
   ]
  },
  {
   "cell_type": "code",
   "execution_count": null,
   "metadata": {},
   "outputs": [],
   "source": [
    "Particles with all hits\n",
    "    All Hits:\n",
    "        120 - 100\n",
    "        Final Result:\n",
    "             Mean: 0.761302\n",
    "             Ghosts: 0.068680\n",
    "\n",
    "        100 - 100\n",
    "        Final Result:\n",
    "             Mean: 0.759360\n",
    "             Ghosts: 0.065982\n",
    "\n",
    "        NN - v2\n",
    "        Final Result:\n",
    "             Mean: 0.779410\n",
    "             Ghosts: 0.050571\n",
    "\n",
    "    Long only:\n",
    "        Final Result:\n",
    "             Mean: 0.939262\n",
    "             Ghosts: 0.008252\n",
    "\n",
    "    Long P > 5 GeV/c\n",
    "        Final Result:\n",
    "             Mean: 0.965544\n",
    "             Ghosts: 0.007200\n",
    "\n",
    "    "
   ]
  },
  {
   "cell_type": "code",
   "execution_count": 33,
   "metadata": {},
   "outputs": [
    {
     "data": {
      "image/png": "[encoded data removed]",
      "text/plain": [
       "<Figure size 1368x720 with 1 Axes>"
      ]
     },
     "metadata": {
      "needs_background": "light"
     },
     "output_type": "display_data"
    }
   ],
   "source": [
    "histogram(X_fake_data, 'green', -3000, 3000, '','','')"
   ]
  },
  {
   "cell_type": "code",
   "execution_count": 53,
   "metadata": {},
   "outputs": [
    {
     "data": {
      "image/png": "[encoded data removed]",
      "text/plain": [
       "<Figure size 1368x720 with 1 Axes>"
      ]
     },
     "metadata": {
      "needs_background": "light"
     },
     "output_type": "display_data"
    }
   ],
   "source": [
    "histogram(X_real_data, 'blue', -300, 300, 'Differences between correct U-V heights','','')"
   ]
  },
  {
   "cell_type": "code",
   "execution_count": 56,
   "metadata": {},
   "outputs": [
    {
     "data": {
      "image/png": "[encoded data removed]",
      "text/plain": [
       "<Figure size 1368x720 with 1 Axes>"
      ]
     },
     "metadata": {
      "needs_background": "light"
     },
     "output_type": "display_data"
    }
   ],
   "source": [
    "histogram(X_real_data, 'blue', -300, 300, 'Differences between correct V-X1 heights','','')"
   ]
  }
 ],
 "metadata": {
  "kernelspec": {
   "display_name": "tfg",
   "language": "python",
   "name": "tfg"
  },
  "language_info": {
   "codemirror_mode": {
    "name": "ipython",
    "version": 3
   },
   "file_extension": ".py",
   "mimetype": "text/x-python",
   "name": "python",
   "nbconvert_exporter": "python",
   "pygments_lexer": "ipython3",
   "version": "3.7.3"
  }
 },
 "nbformat": 4,
 "nbformat_minor": 2
}
