{
 "cells": [
  {
   "cell_type": "code",
   "execution_count": 1,
   "metadata": {},
   "outputs": [
    {
     "name": "stderr",
     "output_type": "stream",
     "text": [
      "Using TensorFlow backend.\n"
     ]
    }
   ],
   "source": [
    "from mpl_toolkits.mplot3d import Axes3D\n",
    "from rtree import index\n",
    "import xgboost as xgb\n",
    "import matplotlib.pyplot as plt\n",
    "import numpy as np\n",
    "import pandas as pd\n",
    "import random\n",
    "import math\n",
    "from sklearn import metrics\n",
    "\n",
    "import keras\n",
    "from keras.models import load_model\n",
    "from keras.utils import CustomObjectScope\n",
    "from keras.initializers import glorot_uniform\n",
    "\n",
    "from sklearn.model_selection import train_test_split\n",
    "from sklearn.model_selection import cross_val_score\n",
    "from sklearn.model_selection import KFold\n",
    "from sklearn.pipeline import Pipeline\n",
    "from sklearn.preprocessing import MinMaxScaler\n",
    "from tensorflow.python.keras.models import Sequential\n",
    "from tensorflow.python.keras.layers import Dense\n",
    "from tensorflow.python.keras.wrappers.scikit_learn import KerasRegressor\n",
    "from keras.utils import CustomObjectScope\n",
    "from keras.initializers import glorot_uniform"
   ]
  },
  {
   "cell_type": "code",
   "execution_count": 2,
   "metadata": {},
   "outputs": [],
   "source": [
    "%store -r mc_data"
   ]
  },
  {
   "cell_type": "code",
   "execution_count": 3,
   "metadata": {},
   "outputs": [
    {
     "name": "stdout",
     "output_type": "stream",
     "text": [
      "WARNING:tensorflow:From /home/xps/python_venvs/tfg/lib/python3.7/site-packages/tensorflow/python/framework/op_def_library.py:263: colocate_with (from tensorflow.python.framework.ops) is deprecated and will be removed in a future version.\n",
      "Instructions for updating:\n",
      "Colocations handled automatically by placer.\n",
      "WARNING:tensorflow:From /home/xps/python_venvs/tfg/lib/python3.7/site-packages/tensorflow/python/ops/math_ops.py:3066: to_int32 (from tensorflow.python.ops.math_ops) is deprecated and will be removed in a future version.\n",
      "Instructions for updating:\n",
      "Use tf.cast instead.\n"
     ]
    }
   ],
   "source": [
    "with CustomObjectScope({'GlorotUniform': glorot_uniform()}):\n",
    "        xlayer_model = load_model('./models/xlayer_model.h5')"
   ]
  },
  {
   "cell_type": "code",
   "execution_count": 60,
   "metadata": {},
   "outputs": [],
   "source": [
    "with CustomObjectScope({'GlorotUniform': glorot_uniform()}):\n",
    "        track_classifier = load_model('./models/two_seeds_validation.h5')"
   ]
  },
  {
   "cell_type": "code",
   "execution_count": 5,
   "metadata": {},
   "outputs": [
    {
     "name": "stdout",
     "output_type": "stream",
     "text": [
      "0   MCParticleID\n",
      "1   MC_Hit_X\n",
      "2   MC_Hit_Y\n",
      "3   MC_Hit_Z\n",
      "4   PrHit_LHCbID\n",
      "5   PrHit_Xat0\n",
      "6   PrHit_Zat0\n",
      "7   PrHit_isX\n",
      "8   PrHit_planeCode\n",
      "9   PrHit_w2\n",
      "10   PrHit_yMax\n",
      "11   PrHit_yMin\n",
      "12   PrHit_zone\n",
      "13   event\n",
      "14   hasT\n",
      "15   isInUT\n",
      "16   isInVelo\n",
      "17   isLong\n",
      "18   isLong_fromB\n",
      "19   isLong_fromB_more5\n",
      "20   isLong_more5\n"
     ]
    }
   ],
   "source": [
    "###### Data columns\n",
    "i = 0\n",
    "for val in mc_data.columns:\n",
    "    print(i,\" \",val)\n",
    "    i = i + 1"
   ]
  },
  {
   "cell_type": "code",
   "execution_count": 6,
   "metadata": {},
   "outputs": [],
   "source": [
    "mc_hits = mc_data.values"
   ]
  },
  {
   "cell_type": "code",
   "execution_count": 87,
   "metadata": {},
   "outputs": [],
   "source": [
    "%store -r zLays\n",
    "%store -r max_x\n",
    "%store -r min_x\n",
    "%store -r max_y\n",
    "%store -r min_y\n",
    "%store -r events\n",
    "%store -r notValidParticles"
   ]
  },
  {
   "cell_type": "code",
   "execution_count": 88,
   "metadata": {
    "scrolled": true
   },
   "outputs": [
    {
     "name": "stdout",
     "output_type": "stream",
     "text": [
      "[11, 1000010020, 1000010030, 1000020030, 1000020040]\n"
     ]
    }
   ],
   "source": [
    "print(events)"
   ]
  },
  {
   "cell_type": "code",
   "execution_count": 9,
   "metadata": {},
   "outputs": [],
   "source": [
    "event_threshold = 15840"
   ]
  },
  {
   "cell_type": "code",
   "execution_count": 10,
   "metadata": {},
   "outputs": [],
   "source": [
    "def predictHeight(x0, x3, x_stereo, stereo_layer, first_layer, last_layer):\n",
    "    \n",
    "    z_stereo = zLays[stereo_layer]\n",
    "    \n",
    "    if (stereo_layer % 2 != 0):\n",
    "        angle = 5\n",
    "    else:\n",
    "        angle = -5\n",
    "        \n",
    "    if (float(x3 - x0)  == 0):\n",
    "        m = 1\n",
    "    else:\n",
    "        m = float(zLays[last_layer] - zLays[first_layer]) / float(x3 - x0)\n",
    "    n = zLays[last_layer] - (m * x3)\n",
    "    \n",
    "    x_pred = (z_stereo - n) / m \n",
    "    beta = (x_pred - x_stereo) / (math.radians(angle) * z_stereo)\n",
    "    return math.tan(beta) * z_stereo"
   ]
  },
  {
   "cell_type": "code",
   "execution_count": 23,
   "metadata": {},
   "outputs": [],
   "source": [
    "#\n",
    "# Test the NN model by using events not feeded as train \n",
    "#\n",
    "\n",
    "def trackReconstruction(hits_total, index_tree):\n",
    "\n",
    "    # Variables used for calculating metrics\n",
    "    total_found = 0\n",
    "    total = 0\n",
    "    mean_size = np.zeros(3)\n",
    "\n",
    "    # Variable defining the maximum number of hits gathered from the R-trees when using the predicted value from the NN\n",
    "    max_hits_gathered = 12\n",
    "\n",
    "    # Range in which valid hits are look up in the first R-tree\n",
    "    long_range = 300\n",
    "\n",
    "    X_classifier = []\n",
    "    Y_classifier = []\n",
    "\n",
    "    # For each particle of a given event\n",
    "    for particle in hits_total:\n",
    "\n",
    "        # Sometimes there are no PrHits for a given particle, so skip these ones\n",
    "        if (len(particle[5]) > 1) and (particle[0] != 11) and (particle[0] != -11):\n",
    "\n",
    "            found_num = 0            \n",
    "            X_final = {}\n",
    "            Zone_final = {}\n",
    "            actual = -1\n",
    "\n",
    "            # Extract all PrHits\n",
    "            for i in range(0, len(particle[5])):\n",
    "                if (actual != particle[8][i]):\n",
    "                    X_final[particle[8][i]] = []\n",
    "                    X_final[particle[8][i]].append(particle[5][i])\n",
    "                    Zone_final[particle[8][i]] = particle[12][i]\n",
    "                    actual = particle[8][i]\n",
    "                    found_num += 1\n",
    "                else:\n",
    "                    X_final[actual].append(particle[5][i])\n",
    "\n",
    "            # Check if there are minimum 12 hits found, as for the test, I am only working with complete tracks\n",
    "            if not 0 in X_final or not 4 in X_final or not 8 in X_final:\n",
    "                continue\n",
    "\n",
    "            # List used to iterate over valid height found later on\n",
    "            valid_y = {}\n",
    "\n",
    "            # For each station\n",
    "            for station in range(0,3):\n",
    "\n",
    "                valid_y[station] = []\n",
    "\n",
    "                # Compute the layer number based on station\n",
    "                x0_layer = 0\n",
    "                if (station == 1):\n",
    "                    x0_layer = 4\n",
    "                elif station == 2:\n",
    "                    x0_layer = 8\n",
    "\n",
    "                u_layer = x0_layer + 1\n",
    "                v_layer = x0_layer + 2\n",
    "                x1_layer = x0_layer + 3\n",
    "\n",
    "                # Select both the first X position and UP/DOWN based on this\n",
    "                first_hit = X_final[x0_layer][0]\n",
    "                zone = Zone_final[x0_layer]\n",
    "\n",
    "                # Predict all 3 following points based on the first hit selected\n",
    "                predicted = (xlayer_model.predict(np.array([first_hit, x0_layer]).reshape(1,-1)))[0]\n",
    "                mean_predicted = ((first_hit + predicted[0] + predicted[1] + predicted[2]) / 4)\n",
    "\n",
    "                # Recolect all nearest hits from each layer using R-trees based on the X-position of the mean predicted\n",
    "                found = list(index_tree.nearest((mean_predicted - long_range, mean_predicted + long_range, x1_layer, x1_layer, zone, zone), objects='raw'))\n",
    "                found_layer3 = sorted(found, key=lambda x: np.abs(x[0]- mean_predicted))[:max_hits_gathered]\n",
    "                arr_layer3 = np.unique(np.array(found_layer3), axis=0)\n",
    "\n",
    "                found = list(index_tree.nearest((mean_predicted - long_range, mean_predicted + long_range, v_layer, v_layer, zone, zone), objects='raw'))\n",
    "                found_layer2 = sorted(found, key=lambda x: np.abs(x[0] - mean_predicted))[:max_hits_gathered]\n",
    "                arr_layer2 = np.unique(np.array(found_layer2), axis=0)\n",
    "\n",
    "                found = list(index_tree.nearest((mean_predicted - long_range, mean_predicted + long_range, u_layer, u_layer, zone, zone), objects='raw'))\n",
    "                found_layer1 = sorted(found, key=lambda x: np.abs(x[0] - mean_predicted))[:max_hits_gathered]\n",
    "                arr_layer1 = np.unique(np.array(found_layer1), axis=0)\n",
    "\n",
    "                for h3 in arr_layer3:\n",
    "\n",
    "                    for h2 in arr_layer2:\n",
    "\n",
    "                        # Predict height for each hit selected in the V layer\n",
    "                        pred_h2 = predictHeight(first_hit, h3[0], h2[0], v_layer, x0_layer, x1_layer)\n",
    "\n",
    "                        if (pred_h2 > 0) and (pred_h2 > max_y) or (pred_h2 < 0) and (pred_h2 < min_y):\n",
    "                            continue\n",
    "\n",
    "                        # And for each hit in the V layer, we look up at hits in the U layer with the same height\n",
    "                        for h1 in arr_layer1:\n",
    "\n",
    "                            # Predict height for hit in the U layer\n",
    "                            pred_h1 = predictHeight(first_hit, h3[0], h1[0], u_layer, x0_layer, x1_layer)\n",
    "                            if (pred_h1 > 0) and (pred_h1 > max_y) or (pred_h1 < 0) and (pred_h1 < min_y):\n",
    "                                continue\n",
    "\n",
    "                            if np.abs(pred_h2 - pred_h1) < 26:\n",
    "                                # Insert into a new R-tree to enable search by height\n",
    "                                # Store the valid height for later iterate over it\n",
    "                                \n",
    "                                valid_y[station].append([first_hit, h1[0], pred_h1, h2[0], pred_h2, h3[0], station, (h1[1],h2[1],h3[1])])\n",
    "\n",
    "            valid_tracks = []\n",
    "            for val in valid_y[0]:\n",
    "                if (len(valid_y[1]) > 0 and len(valid_y[2]) > 0):\n",
    "                    second_sort = sorted(valid_y[1], key = lambda p: np.abs(p[2] - val[2]))\n",
    "                    if (np.abs(second_sort[0][2] - val[2]) < 100):\n",
    "                        third_sort = sorted(valid_y[2], key = lambda p: np.abs(p[2] - second_sort[0][2]))\n",
    "                        if np.abs(third_sort[0][2] - second_sort[0][2]) < 100:\n",
    "                            valid_tracks.append([val, second_sort[0], third_sort[0]])\n",
    "\n",
    "            \n",
    "            repeated = 0\n",
    "            len_tracks = len(valid_tracks)\n",
    "            for track in valid_tracks:\n",
    "                found = 0\n",
    "                for station in range(0,3):\n",
    "                    x0_layer = 0\n",
    "                    if (station == 1):\n",
    "                        x0_layer = 4\n",
    "                    elif station == 2:\n",
    "                        x0_layer = 8\n",
    "\n",
    "                    u_layer = x0_layer + 1\n",
    "                    v_layer = x0_layer + 2\n",
    "                    x1_layer = x0_layer + 3\n",
    "\n",
    "                    pos = 0\n",
    "                    zone = 0\n",
    "                    if (track[station][2] > 0):\n",
    "                        zone = 1\n",
    "\n",
    "                    for id in track[station][7]:\n",
    "                        if (id in particle[4]):\n",
    "                            found += 1\n",
    "                            #index_tree.delete(int(id), (track[station][pos], track[station][pos], x0_layer + pos + 1, x0_layer + pos + 1, zone, zone))\n",
    "                        pos += 1\n",
    "\n",
    "                if (found > 7):\n",
    "                    X_classifier.append(track[0][:7] + track[1][:7])\n",
    "                    Y_classifier.append(1)\n",
    "                    X_classifier.append(track[1][:7] + track[2][:7])\n",
    "                    Y_classifier.append(1)\n",
    "                    len_tracks -= 1\n",
    "                    repeated += 1\n",
    "                elif found > 3:\n",
    "                    X_classifier.append(track[0][:7] + track[1][:7])\n",
    "                    Y_classifier.append(0)\n",
    "                    X_classifier.append(track[1][:7] + track[2][:7])\n",
    "                    Y_classifier.append(0)\n",
    "\n",
    "            if (repeated > 0):\n",
    "                total_found += 1\n",
    "\n",
    "            mean_size[0] += (len_tracks)\n",
    "            total += 1\n",
    "    #print(\"\\nMean Total Found: %f\" % (total_found/total))\n",
    "    #print(\"\\nMean Size: %f\" % (mean_size[0]/total))\n",
    "    return X_classifier, Y_classifier, total_found/total, mean_size[0]/total\n",
    "    "
   ]
  },
  {
   "cell_type": "code",
   "execution_count": 28,
   "metadata": {
    "scrolled": true
   },
   "outputs": [
    {
     "name": "stdout",
     "output_type": "stream",
     "text": [
      "Event 1/290 \t Acc: 0.583333 Size 0.083333 Proportion 0.088889\n",
      "Event 2/290 \t Acc: 0.500000 Size 0.516129 Proportion 0.279570\n",
      "Event 3/290 \t Acc: 0.510638 Size 0.234043 Proportion 0.225352\n",
      "Event 4/290 \t Acc: 0.657143 Size 0.057143 Proportion 0.042105\n",
      "Event 5/290 \t Acc: 0.666667 Size 0.727273 Proportion 0.289308\n",
      "Event 6/290 \t Acc: 0.666667 Size 0.500000 Proportion 0.195489\n",
      "Event 7/290 \t Acc: 0.655556 Size 0.877778 Proportion 0.363636\n",
      "Event 8/290 \t Acc: 0.401070 Size 9.411765 Proportion 1.926154\n",
      "Event 9/290 \t Acc: 0.418605 Size 0.069767 Proportion 0.133333\n",
      "Event 10/290 \t Acc: 0.438849 Size 4.582734 Proportion 1.514894\n",
      "Event 11/290 \t Acc: 0.575000 Size 0.675000 Proportion 0.246575\n",
      "Event 12/290 \t Acc: 0.352941 Size 13.243137 Proportion 2.964187\n",
      "Event 13/290 \t Acc: 0.532609 Size 1.934783 Proportion 0.458537\n",
      "Event 14/290 \t Acc: 0.529412 Size 1.611765 Proportion 0.751592\n",
      "Event 15/290 \t Acc: 0.438596 Size 1.561404 Proportion 0.962025\n",
      "Event 16/290 \t Acc: 0.246499 Size 18.229692 Proportion 3.300261\n",
      "Event 17/290 \t Acc: 0.637681 Size 1.739130 Proportion 0.379085\n",
      "Event 18/290 \t Acc: 0.367232 Size 8.655367 Proportion 2.256604\n",
      "Event 19/290 \t Acc: 0.630435 Size 0.065217 Proportion 0.050420\n",
      "Event 20/290 \t Acc: 0.480663 Size 8.917127 Proportion 1.380822\n",
      "Event 21/290 \t Acc: 0.464968 Size 8.471338 Proportion 1.593651\n",
      "Event 22/290 \t Acc: 0.710843 Size 1.132530 Proportion 0.408163\n",
      "Event 23/290 \t Acc: 0.524590 Size 0.524590 Proportion 0.424242\n",
      "Event 24/290 \t Acc: 0.560000 Size 1.260000 Proportion 0.589474\n",
      "Event 25/290 \t Acc: 0.586957 Size 0.065217 Proportion 0.084507\n",
      "Event 26/290 \t Acc: 0.442857 Size 6.242857 Proportion 1.283154\n",
      "Event 27/290 \t Acc: 0.504673 Size 2.420561 Proportion 0.748768\n",
      "Event 28/290 \t Acc: 0.654545 Size 1.527273 Proportion 0.324786\n",
      "Event 29/290 \t Acc: 0.557377 Size 1.213115 Proportion 0.834532\n",
      "Event 30/290 \t Acc: 0.626667 Size 0.866667 Proportion 0.426230\n",
      "Event 31/290 \t Acc: 0.401639 Size 9.188525 Proportion 2.067039\n",
      "Event 32/290 \t Acc: 0.355330 Size 8.878173 Proportion 1.819936\n",
      "Event 33/290 \t Acc: 0.470588 Size 3.345588 Proportion 1.018587\n",
      "Event 34/290 \t Acc: 0.589744 Size 1.128205 Proportion 0.293785\n",
      "Event 35/290 \t Acc: 0.503106 Size 3.540373 Proportion 1.024735\n",
      "Event 36/290 \t Acc: 0.593750 Size 0.031250 Proportion 0.000000\n",
      "Event 37/290 \t Acc: 0.612069 Size 2.844828 Proportion 1.032558\n",
      "Event 38/290 \t Acc: 0.320856 Size 9.673797 Proportion 2.672340\n",
      "Event 39/290 \t Acc: 0.476190 Size 8.897959 Proportion 1.407166\n",
      "Event 40/290 \t Acc: 0.365297 Size 10.000000 Proportion 2.116041\n",
      "Event 41/290 \t Acc: 0.534884 Size 0.686047 Proportion 0.280702\n",
      "Event 42/290 \t Acc: 0.455782 Size 7.312925 Proportion 1.627240\n",
      "Event 43/290 \t Acc: 0.582278 Size 0.734177 Proportion 0.530612\n",
      "Event 44/290 \t Acc: 0.680851 Size 0.276596 Proportion 0.168421\n",
      "Event 45/290 \t Acc: 0.534884 Size 1.279070 Proportion 0.588957\n",
      "Event 46/290 \t Acc: 0.744186 Size 0.069767 Proportion 0.057143\n",
      "Event 47/290 \t Acc: 0.406114 Size 12.641921 Proportion 2.147309\n",
      "Event 48/290 \t Acc: 0.552941 Size 2.117647 Proportion 0.651429\n",
      "Event 49/290 \t Acc: 0.524590 Size 0.754098 Proportion 0.403361\n",
      "Event 50/290 \t Acc: 0.467742 Size 2.048387 Proportion 1.200000\n",
      "Event 51/290 \t Acc: 0.648936 Size 1.382979 Proportion 0.742616\n",
      "Event 52/290 \t Acc: 0.432432 Size 3.486486 Proportion 0.881517\n",
      "Event 53/290 \t Acc: 0.630769 Size 0.353846 Proportion 0.211921\n",
      "Event 54/290 \t Acc: 0.388235 Size 6.135294 Proportion 1.932489\n",
      "Event 55/290 \t Acc: 0.653846 Size 0.250000 Proportion 0.114286\n",
      "Event 56/290 \t Acc: 0.650000 Size 0.000000 Proportion 0.000000\n",
      "Event 57/290 \t Acc: 0.473684 Size 3.385965 Proportion 1.570552\n",
      "Event 58/290 \t Acc: 0.600000 Size 0.560000 Proportion 0.322981\n",
      "Event 59/290 \t Acc: 0.511111 Size 5.962963 Proportion 1.764706\n",
      "Event 60/290 \t Acc: 0.408284 Size 7.384615 Proportion 1.904437\n",
      "Event 61/290 \t Acc: 0.696970 Size 0.636364 Proportion 0.211765\n",
      "Event 62/290 \t Acc: 0.363229 Size 9.896861 Proportion 2.785965\n",
      "Event 63/290 \t Acc: 0.423077 Size 2.750000 Proportion 1.163399\n",
      "Event 64/290 \t Acc: 0.431250 Size 7.393750 Proportion 1.841584\n",
      "Event 65/290 \t Acc: 0.575342 Size 0.219178 Proportion 0.137405\n",
      "Event 66/290 \t Acc: 0.356436 Size 3.168317 Proportion 1.489362\n",
      "Event 67/290 \t Acc: 0.500000 Size 1.302083 Proportion 0.586826\n",
      "Event 68/290 \t Acc: 0.521739 Size 4.000000 Proportion 0.935065\n",
      "Event 69/290 \t Acc: 0.337209 Size 9.000000 Proportion 2.898785\n",
      "Event 70/290 \t Acc: 0.347594 Size 8.262032 Proportion 2.683544\n",
      "Event 71/290 \t Acc: 0.656250 Size 0.125000 Proportion 0.075472\n",
      "Event 72/290 \t Acc: 0.402516 Size 8.918239 Proportion 2.277056\n",
      "Event 73/290 \t Acc: 0.558140 Size 0.139535 Proportion 0.126582\n",
      "Event 74/290 \t Acc: 0.875000 Size 0.125000 Proportion 0.061538\n",
      "Event 75/290 \t Acc: 0.505263 Size 1.894737 Proportion 0.815642\n",
      "Event 76/290 \t Acc: 0.620690 Size 0.241379 Proportion 0.135593\n",
      "Event 77/290 \t Acc: 0.494845 Size 1.484536 Proportion 0.538860\n",
      "Event 78/290 \t Acc: 0.344398 Size 13.443983 Proportion 2.636637\n",
      "Event 79/290 \t Acc: 0.635514 Size 3.158879 Proportion 0.714754\n",
      "Event 80/290 \t Acc: 0.492958 Size 1.239437 Proportion 0.711409\n",
      "Event 81/290 \t Acc: 0.585714 Size 0.942857 Proportion 0.394558\n",
      "Event 82/290 \t Acc: 0.431034 Size 4.767241 Proportion 1.251397\n",
      "Event 83/290 \t Acc: 0.646154 Size 0.938462 Proportion 0.340136\n",
      "Event 84/290 \t Acc: 0.655172 Size 0.793103 Proportion 0.413223\n",
      "Event 85/290 \t Acc: 0.568807 Size 2.981651 Proportion 1.067873\n",
      "Event 86/290 \t Acc: 0.750000 Size 0.000000 Proportion 0.000000\n",
      "Event 87/290 \t Acc: 0.634146 Size 0.268293 Proportion 0.148148\n",
      "Event 88/290 \t Acc: 0.437500 Size 11.244318 Proportion 1.687296\n",
      "Event 89/290 \t Acc: 0.547170 Size 1.622642 Proportion 0.560000\n",
      "Event 90/290 \t Acc: 0.661017 Size 0.932203 Proportion 0.294574\n",
      "Event 91/290 \t Acc: 0.450000 Size 6.616667 Proportion 1.771689\n",
      "Event 92/290 \t Acc: 0.430108 Size 10.752688 Proportion 2.348910\n",
      "Event 93/290 \t Acc: 0.680851 Size 0.425532 Proportion 0.263736\n",
      "Event 94/290 \t Acc: 0.472727 Size 1.863636 Proportion 0.738916\n",
      "Event 95/290 \t Acc: 0.648148 Size 0.240741 Proportion 0.113821\n",
      "Event 96/290 \t Acc: 0.343590 Size 12.005128 Proportion 1.912458\n",
      "Event 97/290 \t Acc: 0.401235 Size 6.012346 Proportion 1.990338\n",
      "Event 98/290 \t Acc: 0.544218 Size 7.340136 Proportion 1.339683\n",
      "Event 99/290 \t Acc: 0.595506 Size 1.730337 Proportion 0.694301\n",
      "Event 100/290 \t Acc: 0.429630 Size 9.140741 Proportion 1.647059\n",
      "Event 101/290 \t Acc: 0.600000 Size 0.581818 Proportion 0.316832\n",
      "Event 102/290 \t Acc: 0.650000 Size 0.225000 Proportion 0.021978\n",
      "Event 103/290 \t Acc: 0.582418 Size 1.285714 Proportion 0.356808\n",
      "Event 104/290 \t Acc: 0.389706 Size 8.441176 Proportion 1.665236\n",
      "Event 105/290 \t Acc: 0.614286 Size 3.200000 Proportion 0.939597\n",
      "Event 106/290 \t Acc: 0.566038 Size 5.056604 Proportion 1.317972\n",
      "Event 107/290 \t Acc: 0.458333 Size 0.166667 Proportion 0.102564\n",
      "Event 108/290 \t Acc: 0.311828 Size 16.838710 Proportion 3.206799\n",
      "Event 109/290 \t Acc: 0.400966 Size 11.917874 Proportion 2.036254\n",
      "Event 110/290 \t Acc: 0.576923 Size 1.320513 Proportion 0.751515\n",
      "Event 111/290 \t Acc: 0.496644 Size 4.570470 Proportion 1.080851\n",
      "Event 112/290 \t Acc: 0.687500 Size 0.270833 Proportion 0.209524\n",
      "Event 113/290 \t Acc: 0.617021 Size 0.319149 Proportion 0.292135\n",
      "Event 114/290 \t Acc: 0.361905 Size 9.895238 Proportion 2.334365\n",
      "Event 115/290 \t Acc: 0.459459 Size 7.236486 Proportion 1.410359\n",
      "Event 116/290 \t Acc: 0.530612 Size 7.768707 Proportion 1.422383\n",
      "Event 117/290 \t Acc: 0.571429 Size 0.000000 Proportion 0.000000\n",
      "Event 118/290 \t Acc: 0.401786 Size 1.857143 Proportion 1.005464\n",
      "Event 119/290 \t Acc: 0.575758 Size 2.681818 Proportion 0.944099\n",
      "Event 120/290 \t Acc: 0.507143 Size 5.328571 Proportion 1.149425\n",
      "Event 121/290 \t Acc: 0.537037 Size 1.796296 Proportion 0.651163\n",
      "Event 122/290 \t Acc: 0.589474 Size 1.894737 Proportion 0.753488\n",
      "Event 123/290 \t Acc: 0.651163 Size 0.232558 Proportion 0.198020\n",
      "Event 124/290 \t Acc: 0.666667 Size 0.294118 Proportion 0.220183\n",
      "Event 125/290 \t Acc: 0.750000 Size 0.166667 Proportion 0.000000\n",
      "Event 126/290 \t Acc: 0.717391 Size 0.347826 Proportion 0.275862\n",
      "Event 127/290 \t Acc: 0.717391 Size 1.239130 Proportion 0.285714\n",
      "Event 128/290 \t Acc: 0.607843 Size 0.372549 Proportion 0.296296\n",
      "Event 129/290 \t Acc: 0.380000 Size 15.220000 Proportion 3.174089\n",
      "Event 130/290 \t Acc: 0.505263 Size 4.547368 Proportion 0.922280\n"
     ]
    },
    {
     "name": "stdout",
     "output_type": "stream",
     "text": [
      "Event 131/290 \t Acc: 0.416667 Size 7.202381 Proportion 1.123209\n",
      "Event 132/290 \t Acc: 0.510638 Size 2.361702 Proportion 0.848485\n",
      "Event 133/290 \t Acc: 0.415789 Size 11.447368 Proportion 3.046595\n",
      "Event 134/290 \t Acc: 0.529412 Size 3.519608 Proportion 0.945274\n",
      "Event 135/290 \t Acc: 0.661765 Size 1.147059 Proportion 0.339181\n",
      "Event 136/290 \t Acc: 0.578313 Size 2.409639 Proportion 0.816327\n",
      "Event 137/290 \t Acc: 0.560976 Size 3.000000 Proportion 0.993289\n",
      "Event 138/290 \t Acc: 0.537313 Size 4.895522 Proportion 0.941176\n",
      "Event 139/290 \t Acc: 0.597403 Size 0.636364 Proportion 0.369427\n",
      "Event 140/290 \t Acc: 0.264368 Size 16.026820 Proportion 3.178182\n",
      "Event 141/290 \t Acc: 0.564706 Size 6.011765 Proportion 1.257143\n",
      "Event 142/290 \t Acc: 0.468254 Size 3.626984 Proportion 1.278539\n",
      "Event 143/290 \t Acc: 0.454023 Size 10.402299 Proportion 1.948882\n",
      "Event 144/290 \t Acc: 0.636364 Size 2.170455 Proportion 0.691099\n",
      "Event 145/290 \t Acc: 0.422222 Size 8.877778 Proportion 1.915789\n",
      "Event 146/290 \t Acc: 0.398773 Size 9.668712 Proportion 2.398340\n",
      "Event 147/290 \t Acc: 0.448276 Size 0.034483 Proportion 0.048780\n",
      "Event 148/290 \t Acc: 0.750000 Size 0.950000 Proportion 0.248366\n",
      "Event 149/290 \t Acc: 0.523810 Size 6.484127 Proportion 1.094463\n",
      "Event 150/290 \t Acc: 0.638095 Size 2.685714 Proportion 0.831169\n",
      "Event 151/290 \t Acc: 0.558824 Size 1.431373 Proportion 0.594872\n",
      "Event 152/290 \t Acc: 0.485714 Size 6.557143 Proportion 1.450199\n",
      "Event 153/290 \t Acc: 0.609756 Size 1.548780 Proportion 0.757764\n",
      "Event 154/290 \t Acc: 0.484536 Size 4.237113 Proportion 1.035897\n",
      "Event 155/290 \t Acc: 0.423645 Size 11.152709 Proportion 2.082645\n",
      "Event 156/290 \t Acc: 0.476190 Size 2.166667 Proportion 0.699454\n",
      "Event 157/290 \t Acc: 0.477273 Size 5.295455 Proportion 1.097046\n",
      "Event 158/290 \t Acc: 0.538462 Size 0.256410 Proportion 0.119403\n",
      "Event 159/290 \t Acc: 0.586207 Size 0.844828 Proportion 0.495050\n",
      "Event 160/290 \t Acc: 0.519481 Size 2.688312 Proportion 0.905109\n",
      "Event 161/290 \t Acc: 0.582090 Size 0.850746 Proportion 0.315152\n",
      "Event 162/290 \t Acc: 0.361345 Size 12.000000 Proportion 2.528529\n",
      "Event 163/290 \t Acc: 0.516556 Size 10.708609 Proportion 1.948882\n",
      "Event 164/290 \t Acc: 0.592105 Size 3.013158 Proportion 0.766467\n",
      "Event 165/290 \t Acc: 0.364583 Size 10.098958 Proportion 1.987382\n",
      "Event 166/290 \t Acc: 0.416667 Size 4.488095 Proportion 1.520000\n",
      "Event 167/290 \t Acc: 0.695652 Size 0.666667 Proportion 0.163743\n",
      "Event 168/290 \t Acc: 0.645161 Size 0.096774 Proportion 0.117647\n",
      "Event 169/290 \t Acc: 0.589744 Size 2.115385 Proportion 0.591716\n",
      "Event 170/290 \t Acc: 0.628571 Size 6.561905 Proportion 1.406114\n",
      "Event 171/290 \t Acc: 0.578947 Size 0.105263 Proportion 0.088889\n",
      "Event 172/290 \t Acc: 0.617284 Size 1.777778 Proportion 0.441718\n",
      "Event 173/290 \t Acc: 0.606383 Size 5.010638 Proportion 1.160976\n",
      "Event 174/290 \t Acc: 0.516393 Size 5.204918 Proportion 1.567100\n",
      "Event 175/290 \t Acc: 0.420000 Size 0.300000 Proportion 0.253968\n",
      "Event 176/290 \t Acc: 0.488372 Size 6.255814 Proportion 1.453061\n",
      "Event 177/290 \t Acc: 0.756757 Size 0.351351 Proportion 0.144578\n",
      "Event 178/290 \t Acc: 0.486486 Size 3.018018 Proportion 0.962963\n",
      "Event 179/290 \t Acc: 0.444444 Size 7.823529 Proportion 2.253165\n",
      "Event 180/290 \t Acc: 0.611650 Size 2.203883 Proportion 0.912442\n",
      "Event 181/290 \t Acc: 0.453488 Size 2.232558 Proportion 1.410853\n",
      "Event 182/290 \t Acc: 0.444444 Size 6.142857 Proportion 1.456221\n",
      "Event 183/290 \t Acc: 0.375510 Size 13.016327 Proportion 2.678851\n",
      "Event 184/290 \t Acc: 0.560000 Size 0.160000 Proportion 0.181818\n",
      "Event 185/290 \t Acc: 0.520548 Size 4.417808 Proportion 1.284047\n",
      "Event 186/290 \t Acc: 0.443182 Size 2.261364 Proportion 0.925620\n",
      "Event 187/290 \t Acc: 0.540816 Size 1.744898 Proportion 0.568720\n",
      "Event 188/290 \t Acc: 0.337209 Size 10.406977 Proportion 2.800000\n",
      "Event 189/290 \t Acc: 0.630137 Size 0.602740 Proportion 0.291391\n",
      "Event 190/290 \t Acc: 0.677419 Size 0.467742 Proportion 0.172185\n",
      "Event 191/290 \t Acc: 0.390625 Size 10.679688 Proportion 2.455696\n",
      "Event 192/290 \t Acc: 0.574713 Size 2.758621 Proportion 0.703030\n",
      "Event 193/290 \t Acc: 0.545455 Size 0.145455 Proportion 0.161616\n",
      "Event 194/290 \t Acc: 0.660377 Size 0.169811 Proportion 0.096000\n",
      "Event 195/290 \t Acc: 0.592105 Size 2.328947 Proportion 0.710059\n",
      "Event 196/290 \t Acc: 0.616667 Size 0.900000 Proportion 0.685714\n",
      "Event 197/290 \t Acc: 0.629213 Size 2.123596 Proportion 0.878049\n",
      "Event 198/290 \t Acc: 0.600000 Size 0.685714 Proportion 0.351515\n",
      "Event 199/290 \t Acc: 0.542857 Size 0.028571 Proportion 0.000000\n",
      "Event 200/290 \t Acc: 0.496124 Size 4.333333 Proportion 1.156794\n",
      "Event 201/290 \t Acc: 0.638889 Size 1.527778 Proportion 0.397163\n",
      "Event 202/290 \t Acc: 0.460784 Size 2.568627 Proportion 1.260606\n",
      "Event 203/290 \t Acc: 0.632184 Size 2.402299 Proportion 0.815166\n"
     ]
    },
    {
     "ename": "KeyboardInterrupt",
     "evalue": "",
     "output_type": "error",
     "traceback": [
      "\u001b[0;31m---------------------------------------------------------------------------\u001b[0m",
      "\u001b[0;31mKeyboardInterrupt\u001b[0m                         Traceback (most recent call last)",
      "\u001b[0;32m<ipython-input-28-c0d080c68191>\u001b[0m in \u001b[0;36m<module>\u001b[0;34m\u001b[0m\n\u001b[1;32m     19\u001b[0m                 \u001b[0mindex_tree\u001b[0m\u001b[0;34m.\u001b[0m\u001b[0minsert\u001b[0m\u001b[0;34m(\u001b[0m\u001b[0mint\u001b[0m\u001b[0;34m(\u001b[0m\u001b[0mhit\u001b[0m\u001b[0;34m[\u001b[0m\u001b[0;36m4\u001b[0m\u001b[0;34m]\u001b[0m\u001b[0;34m[\u001b[0m\u001b[0mi\u001b[0m\u001b[0;34m]\u001b[0m\u001b[0;34m)\u001b[0m\u001b[0;34m,\u001b[0m \u001b[0;34m(\u001b[0m\u001b[0mfloat\u001b[0m\u001b[0;34m(\u001b[0m\u001b[0mhit\u001b[0m\u001b[0;34m[\u001b[0m\u001b[0;36m5\u001b[0m\u001b[0;34m]\u001b[0m\u001b[0;34m[\u001b[0m\u001b[0mi\u001b[0m\u001b[0;34m]\u001b[0m\u001b[0;34m)\u001b[0m\u001b[0;34m,\u001b[0m \u001b[0mfloat\u001b[0m\u001b[0;34m(\u001b[0m\u001b[0mhit\u001b[0m\u001b[0;34m[\u001b[0m\u001b[0;36m5\u001b[0m\u001b[0;34m]\u001b[0m\u001b[0;34m[\u001b[0m\u001b[0mi\u001b[0m\u001b[0;34m]\u001b[0m\u001b[0;34m)\u001b[0m\u001b[0;34m,\u001b[0m \u001b[0mhit\u001b[0m\u001b[0;34m[\u001b[0m\u001b[0;36m8\u001b[0m\u001b[0;34m]\u001b[0m\u001b[0;34m[\u001b[0m\u001b[0mi\u001b[0m\u001b[0;34m]\u001b[0m\u001b[0;34m,\u001b[0m \u001b[0mhit\u001b[0m\u001b[0;34m[\u001b[0m\u001b[0;36m8\u001b[0m\u001b[0;34m]\u001b[0m\u001b[0;34m[\u001b[0m\u001b[0mi\u001b[0m\u001b[0;34m]\u001b[0m\u001b[0;34m,\u001b[0m \u001b[0mhit\u001b[0m\u001b[0;34m[\u001b[0m\u001b[0;36m12\u001b[0m\u001b[0;34m]\u001b[0m\u001b[0;34m[\u001b[0m\u001b[0mi\u001b[0m\u001b[0;34m]\u001b[0m\u001b[0;34m,\u001b[0m \u001b[0mhit\u001b[0m\u001b[0;34m[\u001b[0m\u001b[0;36m12\u001b[0m\u001b[0;34m]\u001b[0m\u001b[0;34m[\u001b[0m\u001b[0mi\u001b[0m\u001b[0;34m]\u001b[0m\u001b[0;34m)\u001b[0m\u001b[0;34m,\u001b[0m \u001b[0;34m[\u001b[0m\u001b[0mfloat\u001b[0m\u001b[0;34m(\u001b[0m\u001b[0mhit\u001b[0m\u001b[0;34m[\u001b[0m\u001b[0;36m5\u001b[0m\u001b[0;34m]\u001b[0m\u001b[0;34m[\u001b[0m\u001b[0mi\u001b[0m\u001b[0;34m]\u001b[0m\u001b[0;34m)\u001b[0m\u001b[0;34m,\u001b[0m \u001b[0mint\u001b[0m\u001b[0;34m(\u001b[0m\u001b[0mhit\u001b[0m\u001b[0;34m[\u001b[0m\u001b[0;36m4\u001b[0m\u001b[0;34m]\u001b[0m\u001b[0;34m[\u001b[0m\u001b[0mi\u001b[0m\u001b[0;34m]\u001b[0m\u001b[0;34m)\u001b[0m\u001b[0;34m]\u001b[0m\u001b[0;34m)\u001b[0m\u001b[0;34m\u001b[0m\u001b[0;34m\u001b[0m\u001b[0m\n\u001b[1;32m     20\u001b[0m \u001b[0;34m\u001b[0m\u001b[0m\n\u001b[0;32m---> 21\u001b[0;31m     \u001b[0mX\u001b[0m\u001b[0;34m,\u001b[0m \u001b[0mY\u001b[0m\u001b[0;34m,\u001b[0m \u001b[0mmean_val\u001b[0m\u001b[0;34m,\u001b[0m \u001b[0msize_val\u001b[0m \u001b[0;34m=\u001b[0m \u001b[0mtrackReconstruction\u001b[0m\u001b[0;34m(\u001b[0m\u001b[0mparticles_test_event\u001b[0m\u001b[0;34m,\u001b[0m \u001b[0mindex_tree\u001b[0m\u001b[0;34m)\u001b[0m\u001b[0;34m\u001b[0m\u001b[0;34m\u001b[0m\u001b[0m\n\u001b[0m\u001b[1;32m     22\u001b[0m \u001b[0;34m\u001b[0m\u001b[0m\n\u001b[1;32m     23\u001b[0m     \u001b[0mX_classifier\u001b[0m \u001b[0;34m+=\u001b[0m \u001b[0mX\u001b[0m\u001b[0;34m\u001b[0m\u001b[0;34m\u001b[0m\u001b[0m\n",
      "\u001b[0;32m<ipython-input-23-94c6b9762cec>\u001b[0m in \u001b[0;36mtrackReconstruction\u001b[0;34m(hits_total, index_tree)\u001b[0m\n\u001b[1;32m    100\u001b[0m                             \u001b[0;31m# Predict height for hit in the U layer\u001b[0m\u001b[0;34m\u001b[0m\u001b[0;34m\u001b[0m\u001b[0;34m\u001b[0m\u001b[0m\n\u001b[1;32m    101\u001b[0m                             \u001b[0mpred_h1\u001b[0m \u001b[0;34m=\u001b[0m \u001b[0mpredictHeight\u001b[0m\u001b[0;34m(\u001b[0m\u001b[0mfirst_hit\u001b[0m\u001b[0;34m,\u001b[0m \u001b[0mh3\u001b[0m\u001b[0;34m[\u001b[0m\u001b[0;36m0\u001b[0m\u001b[0;34m]\u001b[0m\u001b[0;34m,\u001b[0m \u001b[0mh1\u001b[0m\u001b[0;34m[\u001b[0m\u001b[0;36m0\u001b[0m\u001b[0;34m]\u001b[0m\u001b[0;34m,\u001b[0m \u001b[0mu_layer\u001b[0m\u001b[0;34m,\u001b[0m \u001b[0mx0_layer\u001b[0m\u001b[0;34m,\u001b[0m \u001b[0mx1_layer\u001b[0m\u001b[0;34m)\u001b[0m\u001b[0;34m\u001b[0m\u001b[0;34m\u001b[0m\u001b[0m\n\u001b[0;32m--> 102\u001b[0;31m                             \u001b[0;32mif\u001b[0m \u001b[0;34m(\u001b[0m\u001b[0mpred_h1\u001b[0m \u001b[0;34m>\u001b[0m \u001b[0;36m0\u001b[0m\u001b[0;34m)\u001b[0m \u001b[0;32mand\u001b[0m \u001b[0;34m(\u001b[0m\u001b[0mpred_h1\u001b[0m \u001b[0;34m>\u001b[0m \u001b[0mmax_y\u001b[0m\u001b[0;34m)\u001b[0m \u001b[0;32mor\u001b[0m \u001b[0;34m(\u001b[0m\u001b[0mpred_h1\u001b[0m \u001b[0;34m<\u001b[0m \u001b[0;36m0\u001b[0m\u001b[0;34m)\u001b[0m \u001b[0;32mand\u001b[0m \u001b[0;34m(\u001b[0m\u001b[0mpred_h1\u001b[0m \u001b[0;34m<\u001b[0m \u001b[0mmin_y\u001b[0m\u001b[0;34m)\u001b[0m\u001b[0;34m:\u001b[0m\u001b[0;34m\u001b[0m\u001b[0;34m\u001b[0m\u001b[0m\n\u001b[0m\u001b[1;32m    103\u001b[0m                                 \u001b[0;32mcontinue\u001b[0m\u001b[0;34m\u001b[0m\u001b[0;34m\u001b[0m\u001b[0m\n\u001b[1;32m    104\u001b[0m \u001b[0;34m\u001b[0m\u001b[0m\n",
      "\u001b[0;31mKeyboardInterrupt\u001b[0m: "
     ]
    }
   ],
   "source": [
    "mean = size = done = 0\n",
    "test_events = events[10:300]\n",
    "\n",
    "X_classifier = []\n",
    "Y_classifier = []\n",
    "\n",
    "p = index.Property()\n",
    "p.dimension = 3\n",
    "    \n",
    "for event in test_events:\n",
    "    particles_test_event = mc_hits[mc_hits[:,13] == event]\n",
    "    # print(\"Event length %d \" % len(particles_test_event))\n",
    "    idx = {}\n",
    "    mean_val = size_val = 0\n",
    "    index_tree = index.Index(properties=p, interleaved=False)\n",
    "    for hit in particles_test_event:\n",
    "        if (len(hit[5]) > 1) and (hit[0] != 11) and (hit[0] != -11):\n",
    "            for i in range(0,len(hit[5])):\n",
    "                index_tree.insert(int(hit[4][i]), (float(hit[5][i]), float(hit[5][i]), hit[8][i], hit[8][i], hit[12][i], hit[12][i]), [float(hit[5][i]), int(hit[4][i])])\n",
    "\n",
    "    X, Y, mean_val, size_val = trackReconstruction(particles_test_event, index_tree)\n",
    "    \n",
    "    X_classifier += X\n",
    "    Y_classifier += Y\n",
    "    mean += mean_val\n",
    "    size += size_val\n",
    "    done += 1\n",
    "    print(\"Event %d/%d \\t Acc: %f Size %f Proportion %f\" % (done,len(test_events), mean_val, size_val, Y.count(0)/(Y.count(1) + 1)))\n",
    "    \n",
    "print(\"\\nFinal Result:\")\n",
    "print(\"\\t X_Size : %f\" % (len(X_classifier)))\n",
    "print(\"\\t Y_Size: %f\" % (len(Y_classifier)))\n",
    "print(\"\\t Y count 0 : %f\" % (Y_classifier.count(0)))\n",
    "print(\"\\t Y count 1: %f\" % (Y_classifier.count(1)))\n",
    "print(\"\\t Mean: %f\" % (mean/len(test_events)))\n",
    "print(\"\\t Size: %f\" % (size/len(test_events)))"
   ]
  },
  {
   "cell_type": "code",
   "execution_count": 70,
   "metadata": {},
   "outputs": [
    {
     "name": "stdout",
     "output_type": "stream",
     "text": [
      "Ration 1/0  0.5622658195443226\n"
     ]
    }
   ],
   "source": [
    "print('Ration 1/0 ', Y_classifier.count(0)/len(X_classifier))"
   ]
  },
  {
   "cell_type": "code",
   "execution_count": 58,
   "metadata": {},
   "outputs": [],
   "source": [
    "def mean_pred(y_true, y_pred):\n",
    "    fpr, tpr, threshold = metrics.roc_curve(y_test, predictions)\n",
    "    return np.dtype(metrics.auc(fpr, tpr))"
   ]
  },
  {
   "cell_type": "code",
   "execution_count": 59,
   "metadata": {},
   "outputs": [
    {
     "ename": "TypeError",
     "evalue": "Failed to convert object of type <class 'numpy.dtype'> to Tensor. Contents: float64. Consider casting elements to a supported type.",
     "output_type": "error",
     "traceback": [
      "\u001b[0;31m---------------------------------------------------------------------------\u001b[0m",
      "\u001b[0;31mTypeError\u001b[0m                                 Traceback (most recent call last)",
      "\u001b[0;32m~/python_venvs/tfg/lib/python3.7/site-packages/tensorflow/python/framework/tensor_util.py\u001b[0m in \u001b[0;36mmake_tensor_proto\u001b[0;34m(values, dtype, shape, verify_shape, allow_broadcast)\u001b[0m\n\u001b[1;32m    557\u001b[0m     \u001b[0;32mtry\u001b[0m\u001b[0;34m:\u001b[0m\u001b[0;34m\u001b[0m\u001b[0;34m\u001b[0m\u001b[0m\n\u001b[0;32m--> 558\u001b[0;31m       \u001b[0mstr_values\u001b[0m \u001b[0;34m=\u001b[0m \u001b[0;34m[\u001b[0m\u001b[0mcompat\u001b[0m\u001b[0;34m.\u001b[0m\u001b[0mas_bytes\u001b[0m\u001b[0;34m(\u001b[0m\u001b[0mx\u001b[0m\u001b[0;34m)\u001b[0m \u001b[0;32mfor\u001b[0m \u001b[0mx\u001b[0m \u001b[0;32min\u001b[0m \u001b[0mproto_values\u001b[0m\u001b[0;34m]\u001b[0m\u001b[0;34m\u001b[0m\u001b[0;34m\u001b[0m\u001b[0m\n\u001b[0m\u001b[1;32m    559\u001b[0m     \u001b[0;32mexcept\u001b[0m \u001b[0mTypeError\u001b[0m\u001b[0;34m:\u001b[0m\u001b[0;34m\u001b[0m\u001b[0;34m\u001b[0m\u001b[0m\n",
      "\u001b[0;32m~/python_venvs/tfg/lib/python3.7/site-packages/tensorflow/python/framework/tensor_util.py\u001b[0m in \u001b[0;36m<listcomp>\u001b[0;34m(.0)\u001b[0m\n\u001b[1;32m    557\u001b[0m     \u001b[0;32mtry\u001b[0m\u001b[0;34m:\u001b[0m\u001b[0;34m\u001b[0m\u001b[0;34m\u001b[0m\u001b[0m\n\u001b[0;32m--> 558\u001b[0;31m       \u001b[0mstr_values\u001b[0m \u001b[0;34m=\u001b[0m \u001b[0;34m[\u001b[0m\u001b[0mcompat\u001b[0m\u001b[0;34m.\u001b[0m\u001b[0mas_bytes\u001b[0m\u001b[0;34m(\u001b[0m\u001b[0mx\u001b[0m\u001b[0;34m)\u001b[0m \u001b[0;32mfor\u001b[0m \u001b[0mx\u001b[0m \u001b[0;32min\u001b[0m \u001b[0mproto_values\u001b[0m\u001b[0;34m]\u001b[0m\u001b[0;34m\u001b[0m\u001b[0;34m\u001b[0m\u001b[0m\n\u001b[0m\u001b[1;32m    559\u001b[0m     \u001b[0;32mexcept\u001b[0m \u001b[0mTypeError\u001b[0m\u001b[0;34m:\u001b[0m\u001b[0;34m\u001b[0m\u001b[0;34m\u001b[0m\u001b[0m\n",
      "\u001b[0;32m~/python_venvs/tfg/lib/python3.7/site-packages/tensorflow/python/util/compat.py\u001b[0m in \u001b[0;36mas_bytes\u001b[0;34m(bytes_or_text, encoding)\u001b[0m\n\u001b[1;32m     60\u001b[0m     raise TypeError('Expected binary or unicode string, got %r' %\n\u001b[0;32m---> 61\u001b[0;31m                     (bytes_or_text,))\n\u001b[0m\u001b[1;32m     62\u001b[0m \u001b[0;34m\u001b[0m\u001b[0m\n",
      "\u001b[0;31mTypeError\u001b[0m: Expected binary or unicode string, got dtype('float64')",
      "\nDuring handling of the above exception, another exception occurred:\n",
      "\u001b[0;31mTypeError\u001b[0m                                 Traceback (most recent call last)",
      "\u001b[0;32m<ipython-input-59-0bd210a946fd>\u001b[0m in \u001b[0;36m<module>\u001b[0;34m\u001b[0m\n\u001b[1;32m      8\u001b[0m track_classifier.compile(loss='binary_crossentropy',\n\u001b[1;32m      9\u001b[0m               \u001b[0moptimizer\u001b[0m\u001b[0;34m=\u001b[0m\u001b[0;34m'adam'\u001b[0m\u001b[0;34m,\u001b[0m\u001b[0;34m\u001b[0m\u001b[0;34m\u001b[0m\u001b[0m\n\u001b[0;32m---> 10\u001b[0;31m               metrics=['accuracy', mean_pred])\n\u001b[0m\u001b[1;32m     11\u001b[0m \u001b[0mtrack_classifier\u001b[0m\u001b[0;34m.\u001b[0m\u001b[0msummary\u001b[0m\u001b[0;34m(\u001b[0m\u001b[0;34m)\u001b[0m\u001b[0;34m\u001b[0m\u001b[0;34m\u001b[0m\u001b[0m\n",
      "\u001b[0;32m~/python_venvs/tfg/lib/python3.7/site-packages/tensorflow/python/training/checkpointable/base.py\u001b[0m in \u001b[0;36m_method_wrapper\u001b[0;34m(self, *args, **kwargs)\u001b[0m\n\u001b[1;32m    440\u001b[0m     \u001b[0mself\u001b[0m\u001b[0;34m.\u001b[0m\u001b[0m_setattr_tracking\u001b[0m \u001b[0;34m=\u001b[0m \u001b[0;32mFalse\u001b[0m  \u001b[0;31m# pylint: disable=protected-access\u001b[0m\u001b[0;34m\u001b[0m\u001b[0;34m\u001b[0m\u001b[0m\n\u001b[1;32m    441\u001b[0m     \u001b[0;32mtry\u001b[0m\u001b[0;34m:\u001b[0m\u001b[0;34m\u001b[0m\u001b[0;34m\u001b[0m\u001b[0m\n\u001b[0;32m--> 442\u001b[0;31m       \u001b[0mmethod\u001b[0m\u001b[0;34m(\u001b[0m\u001b[0mself\u001b[0m\u001b[0;34m,\u001b[0m \u001b[0;34m*\u001b[0m\u001b[0margs\u001b[0m\u001b[0;34m,\u001b[0m \u001b[0;34m**\u001b[0m\u001b[0mkwargs\u001b[0m\u001b[0;34m)\u001b[0m\u001b[0;34m\u001b[0m\u001b[0;34m\u001b[0m\u001b[0m\n\u001b[0m\u001b[1;32m    443\u001b[0m     \u001b[0;32mfinally\u001b[0m\u001b[0;34m:\u001b[0m\u001b[0;34m\u001b[0m\u001b[0;34m\u001b[0m\u001b[0m\n\u001b[1;32m    444\u001b[0m       \u001b[0mself\u001b[0m\u001b[0;34m.\u001b[0m\u001b[0m_setattr_tracking\u001b[0m \u001b[0;34m=\u001b[0m \u001b[0mprevious_value\u001b[0m  \u001b[0;31m# pylint: disable=protected-access\u001b[0m\u001b[0;34m\u001b[0m\u001b[0;34m\u001b[0m\u001b[0m\n",
      "\u001b[0;32m~/python_venvs/tfg/lib/python3.7/site-packages/tensorflow/python/keras/engine/training.py\u001b[0m in \u001b[0;36mcompile\u001b[0;34m(self, optimizer, loss, metrics, loss_weights, sample_weight_mode, weighted_metrics, target_tensors, distribute, **kwargs)\u001b[0m\n\u001b[1;32m    497\u001b[0m           \u001b[0mtargets\u001b[0m\u001b[0;34m=\u001b[0m\u001b[0mself\u001b[0m\u001b[0;34m.\u001b[0m\u001b[0mtargets\u001b[0m\u001b[0;34m,\u001b[0m\u001b[0;34m\u001b[0m\u001b[0;34m\u001b[0m\u001b[0m\n\u001b[1;32m    498\u001b[0m           \u001b[0mskip_target_indices\u001b[0m\u001b[0;34m=\u001b[0m\u001b[0mskip_target_indices\u001b[0m\u001b[0;34m,\u001b[0m\u001b[0;34m\u001b[0m\u001b[0;34m\u001b[0m\u001b[0m\n\u001b[0;32m--> 499\u001b[0;31m           sample_weights=self.sample_weights)\n\u001b[0m\u001b[1;32m    500\u001b[0m \u001b[0;34m\u001b[0m\u001b[0m\n\u001b[1;32m    501\u001b[0m       \u001b[0;31m# Prepare gradient updates and state updates.\u001b[0m\u001b[0;34m\u001b[0m\u001b[0;34m\u001b[0m\u001b[0;34m\u001b[0m\u001b[0m\n",
      "\u001b[0;32m~/python_venvs/tfg/lib/python3.7/site-packages/tensorflow/python/keras/engine/training.py\u001b[0m in \u001b[0;36m_handle_metrics\u001b[0;34m(self, outputs, skip_target_indices, targets, sample_weights, masks, return_stateful_result)\u001b[0m\n\u001b[1;32m   1842\u001b[0m                 \u001b[0moutput\u001b[0m\u001b[0;34m,\u001b[0m\u001b[0;34m\u001b[0m\u001b[0;34m\u001b[0m\u001b[0m\n\u001b[1;32m   1843\u001b[0m                 \u001b[0moutput_mask\u001b[0m\u001b[0;34m,\u001b[0m\u001b[0;34m\u001b[0m\u001b[0;34m\u001b[0m\u001b[0m\n\u001b[0;32m-> 1844\u001b[0;31m                 return_stateful_result=return_stateful_result))\n\u001b[0m\u001b[1;32m   1845\u001b[0m         metric_results.extend(\n\u001b[1;32m   1846\u001b[0m             self._handle_per_output_metrics(\n",
      "\u001b[0;32m~/python_venvs/tfg/lib/python3.7/site-packages/tensorflow/python/keras/engine/training.py\u001b[0m in \u001b[0;36m_handle_per_output_metrics\u001b[0;34m(self, metrics_dict, y_true, y_pred, mask, weights, return_stateful_result)\u001b[0m\n\u001b[1;32m   1798\u001b[0m           \u001b[0;31m# In graph mode, we build the sub-graph for both the stateful and the\u001b[0m\u001b[0;34m\u001b[0m\u001b[0;34m\u001b[0m\u001b[0;34m\u001b[0m\u001b[0m\n\u001b[1;32m   1799\u001b[0m           \u001b[0;31m# stateless fns.\u001b[0m\u001b[0;34m\u001b[0m\u001b[0;34m\u001b[0m\u001b[0;34m\u001b[0m\u001b[0m\n\u001b[0;32m-> 1800\u001b[0;31m           \u001b[0mstateful_metric_result\u001b[0m \u001b[0;34m=\u001b[0m \u001b[0m_call_stateful_fn\u001b[0m\u001b[0;34m(\u001b[0m\u001b[0mstateful_fn\u001b[0m\u001b[0;34m)\u001b[0m\u001b[0;34m\u001b[0m\u001b[0;34m\u001b[0m\u001b[0m\n\u001b[0m\u001b[1;32m   1801\u001b[0m           \u001b[0mmetric_result\u001b[0m \u001b[0;34m=\u001b[0m \u001b[0m_call_stateless_fn\u001b[0m\u001b[0;34m(\u001b[0m\u001b[0mmetric_fn\u001b[0m\u001b[0;34m)\u001b[0m\u001b[0;34m\u001b[0m\u001b[0;34m\u001b[0m\u001b[0m\n\u001b[1;32m   1802\u001b[0m           _track_metric_tensors(metric_name, metric_result,\n",
      "\u001b[0;32m~/python_venvs/tfg/lib/python3.7/site-packages/tensorflow/python/keras/engine/training.py\u001b[0m in \u001b[0;36m_call_stateful_fn\u001b[0;34m(fn)\u001b[0m\n\u001b[1;32m   1771\u001b[0m         \u001b[0;32mdef\u001b[0m \u001b[0m_call_stateful_fn\u001b[0m\u001b[0;34m(\u001b[0m\u001b[0mfn\u001b[0m\u001b[0;34m)\u001b[0m\u001b[0;34m:\u001b[0m\u001b[0;34m\u001b[0m\u001b[0;34m\u001b[0m\u001b[0m\n\u001b[1;32m   1772\u001b[0m           return training_utils.call_metric_function(\n\u001b[0;32m-> 1773\u001b[0;31m               fn, y_true, y_pred, weights=weights, mask=mask)\n\u001b[0m\u001b[1;32m   1774\u001b[0m \u001b[0;34m\u001b[0m\u001b[0m\n\u001b[1;32m   1775\u001b[0m         \u001b[0;32mdef\u001b[0m \u001b[0m_call_stateless_fn\u001b[0m\u001b[0;34m(\u001b[0m\u001b[0mfn\u001b[0m\u001b[0;34m)\u001b[0m\u001b[0;34m:\u001b[0m\u001b[0;34m\u001b[0m\u001b[0;34m\u001b[0m\u001b[0m\n",
      "\u001b[0;32m~/python_venvs/tfg/lib/python3.7/site-packages/tensorflow/python/keras/engine/training_utils.py\u001b[0m in \u001b[0;36mcall_metric_function\u001b[0;34m(metric_fn, y_true, y_pred, weights, mask)\u001b[0m\n\u001b[1;32m    850\u001b[0m   \u001b[0;34m\"\"\"Invokes metric function and returns the metric result tensor.\"\"\"\u001b[0m\u001b[0;34m\u001b[0m\u001b[0;34m\u001b[0m\u001b[0m\n\u001b[1;32m    851\u001b[0m   \u001b[0;32mif\u001b[0m \u001b[0mmask\u001b[0m \u001b[0;32mis\u001b[0m \u001b[0;32mNone\u001b[0m\u001b[0;34m:\u001b[0m\u001b[0;34m\u001b[0m\u001b[0;34m\u001b[0m\u001b[0m\n\u001b[0;32m--> 852\u001b[0;31m     \u001b[0;32mreturn\u001b[0m \u001b[0mmetric_fn\u001b[0m\u001b[0;34m(\u001b[0m\u001b[0my_true\u001b[0m\u001b[0;34m,\u001b[0m \u001b[0my_pred\u001b[0m\u001b[0;34m,\u001b[0m \u001b[0msample_weight\u001b[0m\u001b[0;34m=\u001b[0m\u001b[0mweights\u001b[0m\u001b[0;34m)\u001b[0m\u001b[0;34m\u001b[0m\u001b[0;34m\u001b[0m\u001b[0m\n\u001b[0m\u001b[1;32m    853\u001b[0m \u001b[0;34m\u001b[0m\u001b[0m\n\u001b[1;32m    854\u001b[0m   \u001b[0mmask\u001b[0m \u001b[0;34m=\u001b[0m \u001b[0mmath_ops\u001b[0m\u001b[0;34m.\u001b[0m\u001b[0mcast\u001b[0m\u001b[0;34m(\u001b[0m\u001b[0mmask\u001b[0m\u001b[0;34m,\u001b[0m \u001b[0my_pred\u001b[0m\u001b[0;34m.\u001b[0m\u001b[0mdtype\u001b[0m\u001b[0;34m)\u001b[0m\u001b[0;34m\u001b[0m\u001b[0;34m\u001b[0m\u001b[0m\n",
      "\u001b[0;32m~/python_venvs/tfg/lib/python3.7/site-packages/tensorflow/python/keras/metrics.py\u001b[0m in \u001b[0;36m__call__\u001b[0;34m(self, *args, **kwargs)\u001b[0m\n\u001b[1;32m    436\u001b[0m       \u001b[0mThe\u001b[0m \u001b[0mmetric\u001b[0m \u001b[0mvalue\u001b[0m \u001b[0mtensor\u001b[0m\u001b[0;34m.\u001b[0m\u001b[0;34m\u001b[0m\u001b[0;34m\u001b[0m\u001b[0m\n\u001b[1;32m    437\u001b[0m     \"\"\"\n\u001b[0;32m--> 438\u001b[0;31m     \u001b[0mupdate_op\u001b[0m \u001b[0;34m=\u001b[0m \u001b[0mself\u001b[0m\u001b[0;34m.\u001b[0m\u001b[0mupdate_state\u001b[0m\u001b[0;34m(\u001b[0m\u001b[0;34m*\u001b[0m\u001b[0margs\u001b[0m\u001b[0;34m,\u001b[0m \u001b[0;34m**\u001b[0m\u001b[0mkwargs\u001b[0m\u001b[0;34m)\u001b[0m\u001b[0;34m\u001b[0m\u001b[0;34m\u001b[0m\u001b[0m\n\u001b[0m\u001b[1;32m    439\u001b[0m     \u001b[0;32mwith\u001b[0m \u001b[0mops\u001b[0m\u001b[0;34m.\u001b[0m\u001b[0mcontrol_dependencies\u001b[0m\u001b[0;34m(\u001b[0m\u001b[0;34m[\u001b[0m\u001b[0mupdate_op\u001b[0m\u001b[0;34m]\u001b[0m\u001b[0;34m)\u001b[0m\u001b[0;34m:\u001b[0m\u001b[0;34m\u001b[0m\u001b[0;34m\u001b[0m\u001b[0m\n\u001b[1;32m    440\u001b[0m       \u001b[0mresult_t\u001b[0m \u001b[0;34m=\u001b[0m \u001b[0mself\u001b[0m\u001b[0;34m.\u001b[0m\u001b[0mresult\u001b[0m\u001b[0;34m(\u001b[0m\u001b[0;34m)\u001b[0m\u001b[0;34m\u001b[0m\u001b[0;34m\u001b[0m\u001b[0m\n",
      "\u001b[0;32m~/python_venvs/tfg/lib/python3.7/site-packages/tensorflow/python/keras/metrics.py\u001b[0m in \u001b[0;36mdecorated\u001b[0;34m(metric_obj, *args, **kwargs)\u001b[0m\n\u001b[1;32m     96\u001b[0m     \u001b[0;34m\"\"\"Decorated function with `add_update()`.\"\"\"\u001b[0m\u001b[0;34m\u001b[0m\u001b[0;34m\u001b[0m\u001b[0m\n\u001b[1;32m     97\u001b[0m \u001b[0;34m\u001b[0m\u001b[0m\n\u001b[0;32m---> 98\u001b[0;31m     \u001b[0mupdate_op\u001b[0m \u001b[0;34m=\u001b[0m \u001b[0mupdate_state_fn\u001b[0m\u001b[0;34m(\u001b[0m\u001b[0;34m*\u001b[0m\u001b[0margs\u001b[0m\u001b[0;34m,\u001b[0m \u001b[0;34m**\u001b[0m\u001b[0mkwargs\u001b[0m\u001b[0;34m)\u001b[0m\u001b[0;34m\u001b[0m\u001b[0;34m\u001b[0m\u001b[0m\n\u001b[0m\u001b[1;32m     99\u001b[0m     \u001b[0;32mif\u001b[0m \u001b[0mupdate_op\u001b[0m \u001b[0;32mis\u001b[0m \u001b[0;32mnot\u001b[0m \u001b[0;32mNone\u001b[0m\u001b[0;34m:\u001b[0m  \u001b[0;31m# update_op will be None in eager execution.\u001b[0m\u001b[0;34m\u001b[0m\u001b[0;34m\u001b[0m\u001b[0m\n\u001b[1;32m    100\u001b[0m       \u001b[0mmetric_obj\u001b[0m\u001b[0;34m.\u001b[0m\u001b[0madd_update\u001b[0m\u001b[0;34m(\u001b[0m\u001b[0mupdate_op\u001b[0m\u001b[0;34m,\u001b[0m \u001b[0minputs\u001b[0m\u001b[0;34m=\u001b[0m\u001b[0;32mTrue\u001b[0m\u001b[0;34m)\u001b[0m\u001b[0;34m\u001b[0m\u001b[0;34m\u001b[0m\u001b[0m\n",
      "\u001b[0;32m~/python_venvs/tfg/lib/python3.7/site-packages/tensorflow/python/keras/metrics.py\u001b[0m in \u001b[0;36mupdate_state\u001b[0;34m(self, y_true, y_pred, sample_weight)\u001b[0m\n\u001b[1;32m    649\u001b[0m     \u001b[0mmatches\u001b[0m \u001b[0;34m=\u001b[0m \u001b[0mself\u001b[0m\u001b[0;34m.\u001b[0m\u001b[0m_fn\u001b[0m\u001b[0;34m(\u001b[0m\u001b[0my_true\u001b[0m\u001b[0;34m,\u001b[0m \u001b[0my_pred\u001b[0m\u001b[0;34m,\u001b[0m \u001b[0;34m**\u001b[0m\u001b[0mself\u001b[0m\u001b[0;34m.\u001b[0m\u001b[0m_fn_kwargs\u001b[0m\u001b[0;34m)\u001b[0m\u001b[0;34m\u001b[0m\u001b[0;34m\u001b[0m\u001b[0m\n\u001b[1;32m    650\u001b[0m     return super(MeanMetricWrapper, self).update_state(\n\u001b[0;32m--> 651\u001b[0;31m         matches, sample_weight=sample_weight)\n\u001b[0m\u001b[1;32m    652\u001b[0m \u001b[0;34m\u001b[0m\u001b[0m\n\u001b[1;32m    653\u001b[0m   \u001b[0;32mdef\u001b[0m \u001b[0mget_config\u001b[0m\u001b[0;34m(\u001b[0m\u001b[0mself\u001b[0m\u001b[0;34m)\u001b[0m\u001b[0;34m:\u001b[0m\u001b[0;34m\u001b[0m\u001b[0;34m\u001b[0m\u001b[0m\n",
      "\u001b[0;32m~/python_venvs/tfg/lib/python3.7/site-packages/tensorflow/python/keras/metrics.py\u001b[0m in \u001b[0;36mupdate_state\u001b[0;34m(self, values, sample_weight)\u001b[0m\n\u001b[1;32m    576\u001b[0m       \u001b[0mUpdate\u001b[0m \u001b[0mop\u001b[0m\u001b[0;34m.\u001b[0m\u001b[0;34m\u001b[0m\u001b[0;34m\u001b[0m\u001b[0m\n\u001b[1;32m    577\u001b[0m     \"\"\"\n\u001b[0;32m--> 578\u001b[0;31m     \u001b[0mvalues\u001b[0m \u001b[0;34m=\u001b[0m \u001b[0mmath_ops\u001b[0m\u001b[0;34m.\u001b[0m\u001b[0mcast\u001b[0m\u001b[0;34m(\u001b[0m\u001b[0mvalues\u001b[0m\u001b[0;34m,\u001b[0m \u001b[0mself\u001b[0m\u001b[0;34m.\u001b[0m\u001b[0m_dtype\u001b[0m\u001b[0;34m)\u001b[0m\u001b[0;34m\u001b[0m\u001b[0;34m\u001b[0m\u001b[0m\n\u001b[0m\u001b[1;32m    579\u001b[0m     \u001b[0;32mif\u001b[0m \u001b[0msample_weight\u001b[0m \u001b[0;32mis\u001b[0m \u001b[0;32mNone\u001b[0m\u001b[0;34m:\u001b[0m\u001b[0;34m\u001b[0m\u001b[0;34m\u001b[0m\u001b[0m\n\u001b[1;32m    580\u001b[0m       \u001b[0mnum_values\u001b[0m \u001b[0;34m=\u001b[0m \u001b[0mmath_ops\u001b[0m\u001b[0;34m.\u001b[0m\u001b[0mcast\u001b[0m\u001b[0;34m(\u001b[0m\u001b[0marray_ops\u001b[0m\u001b[0;34m.\u001b[0m\u001b[0msize\u001b[0m\u001b[0;34m(\u001b[0m\u001b[0mvalues\u001b[0m\u001b[0;34m)\u001b[0m\u001b[0;34m,\u001b[0m \u001b[0mself\u001b[0m\u001b[0;34m.\u001b[0m\u001b[0m_dtype\u001b[0m\u001b[0;34m)\u001b[0m\u001b[0;34m\u001b[0m\u001b[0;34m\u001b[0m\u001b[0m\n",
      "\u001b[0;32m~/python_venvs/tfg/lib/python3.7/site-packages/tensorflow/python/util/dispatch.py\u001b[0m in \u001b[0;36mwrapper\u001b[0;34m(*args, **kwargs)\u001b[0m\n\u001b[1;32m    178\u001b[0m     \u001b[0;34m\"\"\"Call target, and fall back on dispatchers if there is a TypeError.\"\"\"\u001b[0m\u001b[0;34m\u001b[0m\u001b[0;34m\u001b[0m\u001b[0m\n\u001b[1;32m    179\u001b[0m     \u001b[0;32mtry\u001b[0m\u001b[0;34m:\u001b[0m\u001b[0;34m\u001b[0m\u001b[0;34m\u001b[0m\u001b[0m\n\u001b[0;32m--> 180\u001b[0;31m       \u001b[0;32mreturn\u001b[0m \u001b[0mtarget\u001b[0m\u001b[0;34m(\u001b[0m\u001b[0;34m*\u001b[0m\u001b[0margs\u001b[0m\u001b[0;34m,\u001b[0m \u001b[0;34m**\u001b[0m\u001b[0mkwargs\u001b[0m\u001b[0;34m)\u001b[0m\u001b[0;34m\u001b[0m\u001b[0;34m\u001b[0m\u001b[0m\n\u001b[0m\u001b[1;32m    181\u001b[0m     \u001b[0;32mexcept\u001b[0m \u001b[0;34m(\u001b[0m\u001b[0mTypeError\u001b[0m\u001b[0;34m,\u001b[0m \u001b[0mValueError\u001b[0m\u001b[0;34m)\u001b[0m\u001b[0;34m:\u001b[0m\u001b[0;34m\u001b[0m\u001b[0;34m\u001b[0m\u001b[0m\n\u001b[1;32m    182\u001b[0m       \u001b[0;31m# Note: convert_to_eager_tensor currently raises a ValueError, not a\u001b[0m\u001b[0;34m\u001b[0m\u001b[0;34m\u001b[0m\u001b[0;34m\u001b[0m\u001b[0m\n",
      "\u001b[0;32m~/python_venvs/tfg/lib/python3.7/site-packages/tensorflow/python/ops/math_ops.py\u001b[0m in \u001b[0;36mcast\u001b[0;34m(x, dtype, name)\u001b[0m\n\u001b[1;32m    612\u001b[0m       \u001b[0;31m# allows some conversions that cast() can't do, e.g. casting numbers to\u001b[0m\u001b[0;34m\u001b[0m\u001b[0;34m\u001b[0m\u001b[0;34m\u001b[0m\u001b[0m\n\u001b[1;32m    613\u001b[0m       \u001b[0;31m# strings.\u001b[0m\u001b[0;34m\u001b[0m\u001b[0;34m\u001b[0m\u001b[0;34m\u001b[0m\u001b[0m\n\u001b[0;32m--> 614\u001b[0;31m       \u001b[0mx\u001b[0m \u001b[0;34m=\u001b[0m \u001b[0mops\u001b[0m\u001b[0;34m.\u001b[0m\u001b[0mconvert_to_tensor\u001b[0m\u001b[0;34m(\u001b[0m\u001b[0mx\u001b[0m\u001b[0;34m,\u001b[0m \u001b[0mname\u001b[0m\u001b[0;34m=\u001b[0m\u001b[0;34m\"x\"\u001b[0m\u001b[0;34m)\u001b[0m\u001b[0;34m\u001b[0m\u001b[0;34m\u001b[0m\u001b[0m\n\u001b[0m\u001b[1;32m    615\u001b[0m       \u001b[0;32mif\u001b[0m \u001b[0mx\u001b[0m\u001b[0;34m.\u001b[0m\u001b[0mdtype\u001b[0m\u001b[0;34m.\u001b[0m\u001b[0mbase_dtype\u001b[0m \u001b[0;34m!=\u001b[0m \u001b[0mbase_type\u001b[0m\u001b[0;34m:\u001b[0m\u001b[0;34m\u001b[0m\u001b[0;34m\u001b[0m\u001b[0m\n\u001b[1;32m    616\u001b[0m         \u001b[0mx\u001b[0m \u001b[0;34m=\u001b[0m \u001b[0mgen_math_ops\u001b[0m\u001b[0;34m.\u001b[0m\u001b[0mcast\u001b[0m\u001b[0;34m(\u001b[0m\u001b[0mx\u001b[0m\u001b[0;34m,\u001b[0m \u001b[0mbase_type\u001b[0m\u001b[0;34m,\u001b[0m \u001b[0mname\u001b[0m\u001b[0;34m=\u001b[0m\u001b[0mname\u001b[0m\u001b[0;34m)\u001b[0m\u001b[0;34m\u001b[0m\u001b[0;34m\u001b[0m\u001b[0m\n",
      "\u001b[0;32m~/python_venvs/tfg/lib/python3.7/site-packages/tensorflow/python/framework/ops.py\u001b[0m in \u001b[0;36mconvert_to_tensor\u001b[0;34m(value, dtype, name, preferred_dtype)\u001b[0m\n\u001b[1;32m   1037\u001b[0m     \u001b[0mValueError\u001b[0m\u001b[0;34m:\u001b[0m \u001b[0mIf\u001b[0m \u001b[0mthe\u001b[0m\u001b[0;31m \u001b[0m\u001b[0;31m`\u001b[0m\u001b[0mvalue\u001b[0m\u001b[0;31m`\u001b[0m \u001b[0;32mis\u001b[0m \u001b[0ma\u001b[0m \u001b[0mtensor\u001b[0m \u001b[0;32mnot\u001b[0m \u001b[0mof\u001b[0m \u001b[0mgiven\u001b[0m\u001b[0;31m \u001b[0m\u001b[0;31m`\u001b[0m\u001b[0mdtype\u001b[0m\u001b[0;31m`\u001b[0m \u001b[0;32min\u001b[0m \u001b[0mgraph\u001b[0m \u001b[0mmode\u001b[0m\u001b[0;34m.\u001b[0m\u001b[0;34m\u001b[0m\u001b[0;34m\u001b[0m\u001b[0m\n\u001b[1;32m   1038\u001b[0m   \"\"\"\n\u001b[0;32m-> 1039\u001b[0;31m   \u001b[0;32mreturn\u001b[0m \u001b[0mconvert_to_tensor_v2\u001b[0m\u001b[0;34m(\u001b[0m\u001b[0mvalue\u001b[0m\u001b[0;34m,\u001b[0m \u001b[0mdtype\u001b[0m\u001b[0;34m,\u001b[0m \u001b[0mpreferred_dtype\u001b[0m\u001b[0;34m,\u001b[0m \u001b[0mname\u001b[0m\u001b[0;34m)\u001b[0m\u001b[0;34m\u001b[0m\u001b[0;34m\u001b[0m\u001b[0m\n\u001b[0m\u001b[1;32m   1040\u001b[0m \u001b[0;34m\u001b[0m\u001b[0m\n\u001b[1;32m   1041\u001b[0m \u001b[0;34m\u001b[0m\u001b[0m\n",
      "\u001b[0;32m~/python_venvs/tfg/lib/python3.7/site-packages/tensorflow/python/framework/ops.py\u001b[0m in \u001b[0;36mconvert_to_tensor_v2\u001b[0;34m(value, dtype, dtype_hint, name)\u001b[0m\n\u001b[1;32m   1095\u001b[0m       \u001b[0mname\u001b[0m\u001b[0;34m=\u001b[0m\u001b[0mname\u001b[0m\u001b[0;34m,\u001b[0m\u001b[0;34m\u001b[0m\u001b[0;34m\u001b[0m\u001b[0m\n\u001b[1;32m   1096\u001b[0m       \u001b[0mpreferred_dtype\u001b[0m\u001b[0;34m=\u001b[0m\u001b[0mdtype_hint\u001b[0m\u001b[0;34m,\u001b[0m\u001b[0;34m\u001b[0m\u001b[0;34m\u001b[0m\u001b[0m\n\u001b[0;32m-> 1097\u001b[0;31m       as_ref=False)\n\u001b[0m\u001b[1;32m   1098\u001b[0m \u001b[0;34m\u001b[0m\u001b[0m\n\u001b[1;32m   1099\u001b[0m \u001b[0;34m\u001b[0m\u001b[0m\n",
      "\u001b[0;32m~/python_venvs/tfg/lib/python3.7/site-packages/tensorflow/python/framework/ops.py\u001b[0m in \u001b[0;36minternal_convert_to_tensor\u001b[0;34m(value, dtype, name, as_ref, preferred_dtype, ctx, accept_symbolic_tensors)\u001b[0m\n\u001b[1;32m   1173\u001b[0m \u001b[0;34m\u001b[0m\u001b[0m\n\u001b[1;32m   1174\u001b[0m     \u001b[0;32mif\u001b[0m \u001b[0mret\u001b[0m \u001b[0;32mis\u001b[0m \u001b[0;32mNone\u001b[0m\u001b[0;34m:\u001b[0m\u001b[0;34m\u001b[0m\u001b[0;34m\u001b[0m\u001b[0m\n\u001b[0;32m-> 1175\u001b[0;31m       \u001b[0mret\u001b[0m \u001b[0;34m=\u001b[0m \u001b[0mconversion_func\u001b[0m\u001b[0;34m(\u001b[0m\u001b[0mvalue\u001b[0m\u001b[0;34m,\u001b[0m \u001b[0mdtype\u001b[0m\u001b[0;34m=\u001b[0m\u001b[0mdtype\u001b[0m\u001b[0;34m,\u001b[0m \u001b[0mname\u001b[0m\u001b[0;34m=\u001b[0m\u001b[0mname\u001b[0m\u001b[0;34m,\u001b[0m \u001b[0mas_ref\u001b[0m\u001b[0;34m=\u001b[0m\u001b[0mas_ref\u001b[0m\u001b[0;34m)\u001b[0m\u001b[0;34m\u001b[0m\u001b[0;34m\u001b[0m\u001b[0m\n\u001b[0m\u001b[1;32m   1176\u001b[0m \u001b[0;34m\u001b[0m\u001b[0m\n\u001b[1;32m   1177\u001b[0m     \u001b[0;32mif\u001b[0m \u001b[0mret\u001b[0m \u001b[0;32mis\u001b[0m \u001b[0mNotImplemented\u001b[0m\u001b[0;34m:\u001b[0m\u001b[0;34m\u001b[0m\u001b[0;34m\u001b[0m\u001b[0m\n",
      "\u001b[0;32m~/python_venvs/tfg/lib/python3.7/site-packages/tensorflow/python/framework/constant_op.py\u001b[0m in \u001b[0;36m_constant_tensor_conversion_function\u001b[0;34m(v, dtype, name, as_ref)\u001b[0m\n\u001b[1;32m    302\u001b[0m                                          as_ref=False):\n\u001b[1;32m    303\u001b[0m   \u001b[0m_\u001b[0m \u001b[0;34m=\u001b[0m \u001b[0mas_ref\u001b[0m\u001b[0;34m\u001b[0m\u001b[0;34m\u001b[0m\u001b[0m\n\u001b[0;32m--> 304\u001b[0;31m   \u001b[0;32mreturn\u001b[0m \u001b[0mconstant\u001b[0m\u001b[0;34m(\u001b[0m\u001b[0mv\u001b[0m\u001b[0;34m,\u001b[0m \u001b[0mdtype\u001b[0m\u001b[0;34m=\u001b[0m\u001b[0mdtype\u001b[0m\u001b[0;34m,\u001b[0m \u001b[0mname\u001b[0m\u001b[0;34m=\u001b[0m\u001b[0mname\u001b[0m\u001b[0;34m)\u001b[0m\u001b[0;34m\u001b[0m\u001b[0;34m\u001b[0m\u001b[0m\n\u001b[0m\u001b[1;32m    305\u001b[0m \u001b[0;34m\u001b[0m\u001b[0m\n\u001b[1;32m    306\u001b[0m \u001b[0;34m\u001b[0m\u001b[0m\n",
      "\u001b[0;32m~/python_venvs/tfg/lib/python3.7/site-packages/tensorflow/python/framework/constant_op.py\u001b[0m in \u001b[0;36mconstant\u001b[0;34m(value, dtype, shape, name)\u001b[0m\n\u001b[1;32m    243\u001b[0m   \"\"\"\n\u001b[1;32m    244\u001b[0m   return _constant_impl(value, dtype, shape, name, verify_shape=False,\n\u001b[0;32m--> 245\u001b[0;31m                         allow_broadcast=True)\n\u001b[0m\u001b[1;32m    246\u001b[0m \u001b[0;34m\u001b[0m\u001b[0m\n\u001b[1;32m    247\u001b[0m \u001b[0;34m\u001b[0m\u001b[0m\n",
      "\u001b[0;32m~/python_venvs/tfg/lib/python3.7/site-packages/tensorflow/python/framework/constant_op.py\u001b[0m in \u001b[0;36m_constant_impl\u001b[0;34m(value, dtype, shape, name, verify_shape, allow_broadcast)\u001b[0m\n\u001b[1;32m    281\u001b[0m       tensor_util.make_tensor_proto(\n\u001b[1;32m    282\u001b[0m           \u001b[0mvalue\u001b[0m\u001b[0;34m,\u001b[0m \u001b[0mdtype\u001b[0m\u001b[0;34m=\u001b[0m\u001b[0mdtype\u001b[0m\u001b[0;34m,\u001b[0m \u001b[0mshape\u001b[0m\u001b[0;34m=\u001b[0m\u001b[0mshape\u001b[0m\u001b[0;34m,\u001b[0m \u001b[0mverify_shape\u001b[0m\u001b[0;34m=\u001b[0m\u001b[0mverify_shape\u001b[0m\u001b[0;34m,\u001b[0m\u001b[0;34m\u001b[0m\u001b[0;34m\u001b[0m\u001b[0m\n\u001b[0;32m--> 283\u001b[0;31m           allow_broadcast=allow_broadcast))\n\u001b[0m\u001b[1;32m    284\u001b[0m   \u001b[0mdtype_value\u001b[0m \u001b[0;34m=\u001b[0m \u001b[0mattr_value_pb2\u001b[0m\u001b[0;34m.\u001b[0m\u001b[0mAttrValue\u001b[0m\u001b[0;34m(\u001b[0m\u001b[0mtype\u001b[0m\u001b[0;34m=\u001b[0m\u001b[0mtensor_value\u001b[0m\u001b[0;34m.\u001b[0m\u001b[0mtensor\u001b[0m\u001b[0;34m.\u001b[0m\u001b[0mdtype\u001b[0m\u001b[0;34m)\u001b[0m\u001b[0;34m\u001b[0m\u001b[0;34m\u001b[0m\u001b[0m\n\u001b[1;32m    285\u001b[0m   const_tensor = g.create_op(\n",
      "\u001b[0;32m~/python_venvs/tfg/lib/python3.7/site-packages/tensorflow/python/framework/tensor_util.py\u001b[0m in \u001b[0;36mmake_tensor_proto\u001b[0;34m(values, dtype, shape, verify_shape, allow_broadcast)\u001b[0m\n\u001b[1;32m    560\u001b[0m       raise TypeError(\"Failed to convert object of type %s to Tensor. \"\n\u001b[1;32m    561\u001b[0m                       \u001b[0;34m\"Contents: %s. Consider casting elements to a \"\u001b[0m\u001b[0;34m\u001b[0m\u001b[0;34m\u001b[0m\u001b[0m\n\u001b[0;32m--> 562\u001b[0;31m                       \"supported type.\" % (type(values), values))\n\u001b[0m\u001b[1;32m    563\u001b[0m     \u001b[0mtensor_proto\u001b[0m\u001b[0;34m.\u001b[0m\u001b[0mstring_val\u001b[0m\u001b[0;34m.\u001b[0m\u001b[0mextend\u001b[0m\u001b[0;34m(\u001b[0m\u001b[0mstr_values\u001b[0m\u001b[0;34m)\u001b[0m\u001b[0;34m\u001b[0m\u001b[0;34m\u001b[0m\u001b[0m\n\u001b[1;32m    564\u001b[0m     \u001b[0;32mreturn\u001b[0m \u001b[0mtensor_proto\u001b[0m\u001b[0;34m\u001b[0m\u001b[0;34m\u001b[0m\u001b[0m\n",
      "\u001b[0;31mTypeError\u001b[0m: Failed to convert object of type <class 'numpy.dtype'> to Tensor. Contents: float64. Consider casting elements to a supported type."
     ]
    }
   ],
   "source": [
    "track_classifier = Sequential()\n",
    "# Dense(64) is a fully-connected layer with 64 hidden units.\n",
    "# in the first layer, you must specify the expected input data shape:\n",
    "# here, 20-dimensional vectors.\n",
    "track_classifier.add(Dense(12, activation='relu', input_dim=14))\n",
    "track_classifier.add(Dense(8, activation='relu'))\n",
    "track_classifier.add(Dense(1, activation='sigmoid'))\n",
    "track_classifier.compile(loss='binary_crossentropy',\n",
    "              optimizer='adam',\n",
    "              metrics=['accuracy', mean_pred])\n",
    "track_classifier.summary()"
   ]
  },
  {
   "cell_type": "code",
   "execution_count": 32,
   "metadata": {},
   "outputs": [
    {
     "name": "stdout",
     "output_type": "stream",
     "text": [
      "X Train length: 64453\n",
      "X Test Length 21485\n",
      "Y Train length: 64453\n",
      "Y Test length: 21485\n"
     ]
    }
   ],
   "source": [
    "X_train, X_test, y_train, y_test = train_test_split(np.array(X_classifier), np.array(Y_classifier))\n",
    "print(\"X Train length: %d\" % len(X_train))\n",
    "print(\"X Test Length %d\" % len(X_test))\n",
    "print(\"Y Train length: %d\" % len(y_train))\n",
    "print(\"Y Test length: %d\" % len(y_test))"
   ]
  },
  {
   "cell_type": "code",
   "execution_count": 112,
   "metadata": {
    "scrolled": true
   },
   "outputs": [
    {
     "name": "stdout",
     "output_type": "stream",
     "text": [
      "Train on 82266 samples, validate on 9141 samples\n",
      "Epoch 1/10\n",
      "82266/82266 [==============================] - 1s 9us/sample - loss: 0.3586 - acc: 0.8175 - val_loss: 0.3496 - val_acc: 0.8256\n",
      "Epoch 2/10\n",
      "82266/82266 [==============================] - 1s 9us/sample - loss: 0.3605 - acc: 0.8168 - val_loss: 0.3566 - val_acc: 0.8159\n",
      "Epoch 3/10\n",
      "82266/82266 [==============================] - 1s 9us/sample - loss: 0.3540 - acc: 0.8199 - val_loss: 0.3428 - val_acc: 0.8267\n",
      "Epoch 4/10\n",
      "82266/82266 [==============================] - 1s 9us/sample - loss: 0.3574 - acc: 0.8187 - val_loss: 0.3474 - val_acc: 0.8229\n",
      "Epoch 5/10\n",
      "82266/82266 [==============================] - 1s 9us/sample - loss: 0.3560 - acc: 0.8186 - val_loss: 0.3431 - val_acc: 0.8277\n",
      "Epoch 6/10\n",
      "82266/82266 [==============================] - 1s 9us/sample - loss: 0.3805 - acc: 0.8090 - val_loss: 0.3732 - val_acc: 0.8091\n",
      "Epoch 7/10\n",
      "82266/82266 [==============================] - 1s 10us/sample - loss: 0.3630 - acc: 0.8159 - val_loss: 0.3512 - val_acc: 0.8216\n",
      "Epoch 8/10\n",
      "82266/82266 [==============================] - 1s 11us/sample - loss: 0.3516 - acc: 0.8215 - val_loss: 0.3388 - val_acc: 0.8274\n",
      "Epoch 9/10\n",
      "82266/82266 [==============================] - 1s 10us/sample - loss: 0.3611 - acc: 0.8170 - val_loss: 0.4533 - val_acc: 0.7775\n",
      "Epoch 10/10\n",
      "82266/82266 [==============================] - 1s 11us/sample - loss: 0.3663 - acc: 0.8149 - val_loss: 0.3438 - val_acc: 0.8254\n"
     ]
    },
    {
     "data": {
      "text/plain": [
       "<tensorflow.python.keras.callbacks.History at 0x7fa249407358>"
      ]
     },
     "execution_count": 112,
     "metadata": {},
     "output_type": "execute_result"
    }
   ],
   "source": [
    "track_classifier.fit(X_train, y_train, epochs=10, batch_size=250, verbose=1, validation_split=0.1)"
   ]
  },
  {
   "cell_type": "code",
   "execution_count": 13,
   "metadata": {},
   "outputs": [
    {
     "ename": "NameError",
     "evalue": "name 'X_test' is not defined",
     "output_type": "error",
     "traceback": [
      "\u001b[0;31m---------------------------------------------------------------------------\u001b[0m",
      "\u001b[0;31mNameError\u001b[0m                                 Traceback (most recent call last)",
      "\u001b[0;32m<ipython-input-13-f5b637fb962d>\u001b[0m in \u001b[0;36m<module>\u001b[0;34m\u001b[0m\n\u001b[0;32m----> 1\u001b[0;31m \u001b[0mscore\u001b[0m\u001b[0;34m,\u001b[0m \u001b[0macc\u001b[0m \u001b[0;34m=\u001b[0m \u001b[0mtrack_classifier\u001b[0m\u001b[0;34m.\u001b[0m\u001b[0mevaluate\u001b[0m\u001b[0;34m(\u001b[0m\u001b[0mX_test\u001b[0m\u001b[0;34m,\u001b[0m \u001b[0my_test\u001b[0m\u001b[0;34m,\u001b[0m \u001b[0mbatch_size\u001b[0m\u001b[0;34m=\u001b[0m\u001b[0;36m25\u001b[0m\u001b[0;34m)\u001b[0m\u001b[0;34m\u001b[0m\u001b[0;34m\u001b[0m\u001b[0m\n\u001b[0m\u001b[1;32m      2\u001b[0m \u001b[0mprint\u001b[0m\u001b[0;34m(\u001b[0m\u001b[0;34m'Test score:'\u001b[0m\u001b[0;34m,\u001b[0m \u001b[0mscore\u001b[0m\u001b[0;34m)\u001b[0m\u001b[0;34m\u001b[0m\u001b[0;34m\u001b[0m\u001b[0m\n\u001b[1;32m      3\u001b[0m \u001b[0mprint\u001b[0m\u001b[0;34m(\u001b[0m\u001b[0;34m'Test accuracy:'\u001b[0m\u001b[0;34m,\u001b[0m \u001b[0macc\u001b[0m\u001b[0;34m)\u001b[0m\u001b[0;34m\u001b[0m\u001b[0;34m\u001b[0m\u001b[0m\n",
      "\u001b[0;31mNameError\u001b[0m: name 'X_test' is not defined"
     ]
    }
   ],
   "source": [
    "score, acc = track_classifier.evaluate(X_test, y_test, batch_size=25)\n",
    "print('Test score:', score)\n",
    "print('Test accuracy:', acc)"
   ]
  },
  {
   "cell_type": "code",
   "execution_count": 89,
   "metadata": {},
   "outputs": [],
   "source": [
    "predictions = track_classifier.predict(X_test)"
   ]
  },
  {
   "cell_type": "code",
   "execution_count": 83,
   "metadata": {},
   "outputs": [
    {
     "data": {
      "text/plain": [
       "<matplotlib.legend.Legend at 0x7fd3dd30f390>"
      ]
     },
     "execution_count": 83,
     "metadata": {},
     "output_type": "execute_result"
    },
    {
     "data": {
      "image/png": "[encoded data removed]",
      "text/plain": [
       "<Figure size 1080x720 with 1 Axes>"
      ]
     },
     "metadata": {
      "needs_background": "light"
     },
     "output_type": "display_data"
    }
   ],
   "source": [
    "#xgb.plot_importance(booster,grid=True);\n",
    "\n",
    "fig = plt.figure(figsize=(15,10));\n",
    "plt.hist(predictions[y_test.reshape(-1).astype(bool)],bins=np.linspace(0,1,30),\n",
    "         histtype='step',color='midnightblue',label='Valid');\n",
    "plt.hist(predictions[~(y_test.reshape(-1).astype(bool))],bins=np.linspace(0,1,30),\n",
    "         histtype='step',color='firebrick',label='Not valid');\n",
    "# make the plot readable\n",
    "plt.xlabel('\\nPrediction from ANN',fontsize=14);\n",
    "plt.ylabel('Samples\\n',fontsize=14);\n",
    "plt.tick_params(axis='both', which='major', labelsize=12)\n",
    "plt.tick_params(axis='both', which='minor', labelsize=12)\n",
    "plt.legend(loc = 'upper right',prop={'size': 16})"
   ]
  },
  {
   "cell_type": "code",
   "execution_count": 85,
   "metadata": {
    "scrolled": false
   },
   "outputs": [
    {
     "data": {
      "image/png": "[encoded data removed]",
      "text/plain": [
       "<Figure size 720x720 with 1 Axes>"
      ]
     },
     "metadata": {
      "needs_background": "light"
     },
     "output_type": "display_data"
    }
   ],
   "source": [
    "fpr, tpr, threshold = metrics.roc_curve(y_test, predictions)\n",
    "roc_auc = metrics.auc(fpr, tpr)\n",
    "plt.figure(figsize=(10,10))                                        \n",
    "plt.plot(fpr, tpr, lw=1, alpha=1, label='ROC (AUC = %0.3f)' % (roc_auc))\n",
    "plt.xlabel('\\nInvalid seed pair', fontsize=14)\n",
    "plt.ylabel('Valid seed pair\\n', fontsize=14)\n",
    "plt.legend(loc = 'lower right',prop={'size': 14})\n",
    "plt.tick_params(axis='both', which='major', labelsize=12)\n",
    "plt.tick_params(axis='both', which='minor', labelsize=12)\n",
    "plt.show()"
   ]
  },
  {
   "cell_type": "code",
   "execution_count": 20,
   "metadata": {},
   "outputs": [],
   "source": [
    "from keras.utils import plot_model\n",
    "plot_model(track_classifier, to_file='model.png', show_shapes=True, show_layer_names=False)"
   ]
  },
  {
   "cell_type": "code",
   "execution_count": 48,
   "metadata": {},
   "outputs": [],
   "source": [
    "track_classifier.save(\"./models/two_seeds_validation.h5\")"
   ]
  },
  {
   "cell_type": "code",
   "execution_count": null,
   "metadata": {},
   "outputs": [],
   "source": []
  }
 ],
 "metadata": {
  "kernelspec": {
   "display_name": "tfg",
   "language": "python",
   "name": "tfg"
  },
  "language_info": {
   "codemirror_mode": {
    "name": "ipython",
    "version": 3
   },
   "file_extension": ".py",
   "mimetype": "text/x-python",
   "name": "python",
   "nbconvert_exporter": "python",
   "pygments_lexer": "ipython3",
   "version": "3.7.3"
  }
 },
 "nbformat": 4,
 "nbformat_minor": 2
}
